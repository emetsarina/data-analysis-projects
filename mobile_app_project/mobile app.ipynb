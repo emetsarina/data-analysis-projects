{
 "cells": [
  {
   "cell_type": "markdown",
   "metadata": {},
   "source": [
    "# Analysis of User Behavior in a Mobile App"
   ]
  },
  {
   "cell_type": "markdown",
   "metadata": {},
   "source": [
    "**Project Goal**\n",
    "\n",
    "Understand user behavior in a mobile application that sells food products.\n",
    "\n",
    "**Project Objectives**\n",
    "\n",
    "- Analyze the sales funnel. Determine how users progress towards making a purchase. How many users complete the purchase, and how many get \"stuck\" at previous steps? At which steps specifically?\n",
    "- Investigate the results of an A/A/B experiment. Designers wanted to change the fonts throughout the app, but managers were concerned that users might find it unfamiliar. They agreed to make a decision based on the results of an A/A/B test. Users were divided into 3 groups: 2 control groups with the old fonts and one experimental group with the new fonts. We'll determine which font performs better.\n",
    "\n",
    "**Data Description**\n",
    "\n",
    "Each log entry represents a user action or event.  \n",
    "`EventName` — event name  \n",
    "`DeviceIDHash` — unique user identifier  \n",
    "`EventTimestamp` — event timestamp  \n",
    "`ExpId` — experiment ID: 246 and 247 are control groups, and 248 is the experimental group."
   ]
  },
  {
   "cell_type": "markdown",
   "metadata": {},
   "source": [
    "## Data review and preprocessing"
   ]
  },
  {
   "cell_type": "markdown",
   "metadata": {},
   "source": [
    "### Data review"
   ]
  },
  {
   "cell_type": "code",
   "execution_count": 1,
   "metadata": {},
   "outputs": [],
   "source": [
    "# import libraries\n",
    "import pandas as pd\n",
    "import numpy as np\n",
    "import matplotlib as mpl\n",
    "import matplotlib.pyplot as plt\n",
    "import seaborn as sns\n",
    "from scipy import stats as st\n",
    "from plotly import graph_objects as go\n",
    "import math as mth"
   ]
  },
  {
   "cell_type": "code",
   "execution_count": 2,
   "metadata": {},
   "outputs": [
    {
     "data": {
      "text/html": [
       "<div>\n",
       "<style scoped>\n",
       "    .dataframe tbody tr th:only-of-type {\n",
       "        vertical-align: middle;\n",
       "    }\n",
       "\n",
       "    .dataframe tbody tr th {\n",
       "        vertical-align: top;\n",
       "    }\n",
       "\n",
       "    .dataframe thead th {\n",
       "        text-align: right;\n",
       "    }\n",
       "</style>\n",
       "<table border=\"1\" class=\"dataframe\">\n",
       "  <thead>\n",
       "    <tr style=\"text-align: right;\">\n",
       "      <th></th>\n",
       "      <th>EventName</th>\n",
       "      <th>DeviceIDHash</th>\n",
       "      <th>EventTimestamp</th>\n",
       "      <th>ExpId</th>\n",
       "    </tr>\n",
       "  </thead>\n",
       "  <tbody>\n",
       "    <tr>\n",
       "      <th>0</th>\n",
       "      <td>MainScreenAppear</td>\n",
       "      <td>4575588528974610257</td>\n",
       "      <td>1564029816</td>\n",
       "      <td>246</td>\n",
       "    </tr>\n",
       "    <tr>\n",
       "      <th>1</th>\n",
       "      <td>MainScreenAppear</td>\n",
       "      <td>7416695313311560658</td>\n",
       "      <td>1564053102</td>\n",
       "      <td>246</td>\n",
       "    </tr>\n",
       "    <tr>\n",
       "      <th>2</th>\n",
       "      <td>PaymentScreenSuccessful</td>\n",
       "      <td>3518123091307005509</td>\n",
       "      <td>1564054127</td>\n",
       "      <td>248</td>\n",
       "    </tr>\n",
       "    <tr>\n",
       "      <th>3</th>\n",
       "      <td>CartScreenAppear</td>\n",
       "      <td>3518123091307005509</td>\n",
       "      <td>1564054127</td>\n",
       "      <td>248</td>\n",
       "    </tr>\n",
       "    <tr>\n",
       "      <th>4</th>\n",
       "      <td>PaymentScreenSuccessful</td>\n",
       "      <td>6217807653094995999</td>\n",
       "      <td>1564055322</td>\n",
       "      <td>248</td>\n",
       "    </tr>\n",
       "    <tr>\n",
       "      <th>5</th>\n",
       "      <td>CartScreenAppear</td>\n",
       "      <td>6217807653094995999</td>\n",
       "      <td>1564055323</td>\n",
       "      <td>248</td>\n",
       "    </tr>\n",
       "    <tr>\n",
       "      <th>6</th>\n",
       "      <td>OffersScreenAppear</td>\n",
       "      <td>8351860793733343758</td>\n",
       "      <td>1564066242</td>\n",
       "      <td>246</td>\n",
       "    </tr>\n",
       "    <tr>\n",
       "      <th>7</th>\n",
       "      <td>MainScreenAppear</td>\n",
       "      <td>5682100281902512875</td>\n",
       "      <td>1564085677</td>\n",
       "      <td>246</td>\n",
       "    </tr>\n",
       "    <tr>\n",
       "      <th>8</th>\n",
       "      <td>MainScreenAppear</td>\n",
       "      <td>1850981295691852772</td>\n",
       "      <td>1564086702</td>\n",
       "      <td>247</td>\n",
       "    </tr>\n",
       "    <tr>\n",
       "      <th>9</th>\n",
       "      <td>MainScreenAppear</td>\n",
       "      <td>5407636962369102641</td>\n",
       "      <td>1564112112</td>\n",
       "      <td>246</td>\n",
       "    </tr>\n",
       "  </tbody>\n",
       "</table>\n",
       "</div>"
      ],
      "text/plain": [
       "                 EventName         DeviceIDHash  EventTimestamp  ExpId\n",
       "0         MainScreenAppear  4575588528974610257      1564029816    246\n",
       "1         MainScreenAppear  7416695313311560658      1564053102    246\n",
       "2  PaymentScreenSuccessful  3518123091307005509      1564054127    248\n",
       "3         CartScreenAppear  3518123091307005509      1564054127    248\n",
       "4  PaymentScreenSuccessful  6217807653094995999      1564055322    248\n",
       "5         CartScreenAppear  6217807653094995999      1564055323    248\n",
       "6       OffersScreenAppear  8351860793733343758      1564066242    246\n",
       "7         MainScreenAppear  5682100281902512875      1564085677    246\n",
       "8         MainScreenAppear  1850981295691852772      1564086702    247\n",
       "9         MainScreenAppear  5407636962369102641      1564112112    246"
      ]
     },
     "metadata": {},
     "output_type": "display_data"
    },
    {
     "name": "stdout",
     "output_type": "stream",
     "text": [
      "<class 'pandas.core.frame.DataFrame'>\n",
      "RangeIndex: 244126 entries, 0 to 244125\n",
      "Data columns (total 4 columns):\n",
      " #   Column          Non-Null Count   Dtype \n",
      "---  ------          --------------   ----- \n",
      " 0   EventName       244126 non-null  object\n",
      " 1   DeviceIDHash    244126 non-null  int64 \n",
      " 2   EventTimestamp  244126 non-null  int64 \n",
      " 3   ExpId           244126 non-null  int64 \n",
      "dtypes: int64(3), object(1)\n",
      "memory usage: 7.5+ MB\n"
     ]
    }
   ],
   "source": [
    "data = pd.read_csv('/Users/a1/Downloads/logs_exp.csv', sep='\\t')\n",
    "display(data.head(10))\n",
    "data.info()"
   ]
  },
  {
   "cell_type": "code",
   "execution_count": 3,
   "metadata": {},
   "outputs": [
    {
     "name": "stdout",
     "output_type": "stream",
     "text": [
      "['MainScreenAppear' 'PaymentScreenSuccessful' 'CartScreenAppear'\n",
      " 'OffersScreenAppear' 'Tutorial']\n",
      "[246 248 247]\n"
     ]
    }
   ],
   "source": [
    "# data overview\n",
    "print(data['EventName'].unique())\n",
    "print(data['ExpId'].unique())"
   ]
  },
  {
   "cell_type": "markdown",
   "metadata": {},
   "source": [
    "The dataframe contains information about 224126 events. There are 5 types of events in total.  \n",
    "There are no missing values in the dataframe, but the EventTimestamp column has been assigned an incorrect data type (most likely the time is specified in seconds) and the column names are not written in accordance with the code style."
   ]
  },
  {
   "cell_type": "markdown",
   "metadata": {},
   "source": [
    "### Data preprocessing"
   ]
  },
  {
   "cell_type": "code",
   "execution_count": 4,
   "metadata": {},
   "outputs": [
    {
     "data": {
      "text/html": [
       "<div>\n",
       "<style scoped>\n",
       "    .dataframe tbody tr th:only-of-type {\n",
       "        vertical-align: middle;\n",
       "    }\n",
       "\n",
       "    .dataframe tbody tr th {\n",
       "        vertical-align: top;\n",
       "    }\n",
       "\n",
       "    .dataframe thead th {\n",
       "        text-align: right;\n",
       "    }\n",
       "</style>\n",
       "<table border=\"1\" class=\"dataframe\">\n",
       "  <thead>\n",
       "    <tr style=\"text-align: right;\">\n",
       "      <th></th>\n",
       "      <th>event_name</th>\n",
       "      <th>user_id</th>\n",
       "      <th>event_time</th>\n",
       "      <th>group</th>\n",
       "      <th>event_date</th>\n",
       "    </tr>\n",
       "  </thead>\n",
       "  <tbody>\n",
       "    <tr>\n",
       "      <th>0</th>\n",
       "      <td>MainScreenAppear</td>\n",
       "      <td>4575588528974610257</td>\n",
       "      <td>2019-07-25 04:43:36</td>\n",
       "      <td>246</td>\n",
       "      <td>2019-07-25</td>\n",
       "    </tr>\n",
       "    <tr>\n",
       "      <th>1</th>\n",
       "      <td>MainScreenAppear</td>\n",
       "      <td>7416695313311560658</td>\n",
       "      <td>2019-07-25 11:11:42</td>\n",
       "      <td>246</td>\n",
       "      <td>2019-07-25</td>\n",
       "    </tr>\n",
       "    <tr>\n",
       "      <th>2</th>\n",
       "      <td>PaymentScreenSuccessful</td>\n",
       "      <td>3518123091307005509</td>\n",
       "      <td>2019-07-25 11:28:47</td>\n",
       "      <td>248</td>\n",
       "      <td>2019-07-25</td>\n",
       "    </tr>\n",
       "    <tr>\n",
       "      <th>3</th>\n",
       "      <td>CartScreenAppear</td>\n",
       "      <td>3518123091307005509</td>\n",
       "      <td>2019-07-25 11:28:47</td>\n",
       "      <td>248</td>\n",
       "      <td>2019-07-25</td>\n",
       "    </tr>\n",
       "    <tr>\n",
       "      <th>4</th>\n",
       "      <td>PaymentScreenSuccessful</td>\n",
       "      <td>6217807653094995999</td>\n",
       "      <td>2019-07-25 11:48:42</td>\n",
       "      <td>248</td>\n",
       "      <td>2019-07-25</td>\n",
       "    </tr>\n",
       "  </tbody>\n",
       "</table>\n",
       "</div>"
      ],
      "text/plain": [
       "                event_name              user_id          event_time  group  \\\n",
       "0         MainScreenAppear  4575588528974610257 2019-07-25 04:43:36    246   \n",
       "1         MainScreenAppear  7416695313311560658 2019-07-25 11:11:42    246   \n",
       "2  PaymentScreenSuccessful  3518123091307005509 2019-07-25 11:28:47    248   \n",
       "3         CartScreenAppear  3518123091307005509 2019-07-25 11:28:47    248   \n",
       "4  PaymentScreenSuccessful  6217807653094995999 2019-07-25 11:48:42    248   \n",
       "\n",
       "  event_date  \n",
       "0 2019-07-25  \n",
       "1 2019-07-25  \n",
       "2 2019-07-25  \n",
       "3 2019-07-25  \n",
       "4 2019-07-25  "
      ]
     },
     "execution_count": 4,
     "metadata": {},
     "output_type": "execute_result"
    }
   ],
   "source": [
    "# rename names of the columns\n",
    "data = data.rename(columns={'EventName': 'event_name', \n",
    "                            'DeviceIDHash': 'user_id', \n",
    "                            'EventTimestamp': 'event_time', \n",
    "                            'ExpId': 'group'})\n",
    "\n",
    "# change data type in column `event_time`\n",
    "data['event_time'] = pd.to_datetime(data['event_time'], unit='s')\n",
    "\n",
    "# add column with date\n",
    "data['event_date'] = pd.to_datetime(data['event_time'].dt.date)\n",
    "data.head()"
   ]
  },
  {
   "cell_type": "markdown",
   "metadata": {},
   "source": [
    "Check the duplicates"
   ]
  },
  {
   "cell_type": "code",
   "execution_count": 5,
   "metadata": {},
   "outputs": [
    {
     "data": {
      "text/plain": [
       "413"
      ]
     },
     "execution_count": 5,
     "metadata": {},
     "output_type": "execute_result"
    }
   ],
   "source": [
    "# find duplicates\n",
    "data.duplicated().sum()"
   ]
  },
  {
   "cell_type": "markdown",
   "metadata": {},
   "source": [
    "Delete duplicates from dataframe"
   ]
  },
  {
   "cell_type": "code",
   "execution_count": 6,
   "metadata": {
    "scrolled": true
   },
   "outputs": [
    {
     "name": "stdout",
     "output_type": "stream",
     "text": [
      "<class 'pandas.core.frame.DataFrame'>\n",
      "RangeIndex: 243713 entries, 0 to 243712\n",
      "Data columns (total 5 columns):\n",
      " #   Column      Non-Null Count   Dtype         \n",
      "---  ------      --------------   -----         \n",
      " 0   event_name  243713 non-null  object        \n",
      " 1   user_id     243713 non-null  int64         \n",
      " 2   event_time  243713 non-null  datetime64[ns]\n",
      " 3   group       243713 non-null  int64         \n",
      " 4   event_date  243713 non-null  datetime64[ns]\n",
      "dtypes: datetime64[ns](2), int64(2), object(1)\n",
      "memory usage: 9.3+ MB\n"
     ]
    }
   ],
   "source": [
    "# delete duplicates \n",
    "data = data.drop_duplicates().reset_index(drop=True)\n",
    "data.info()"
   ]
  },
  {
   "cell_type": "markdown",
   "metadata": {},
   "source": [
    "Also, at the preprocessing stage, check whether users overlap in groups"
   ]
  },
  {
   "cell_type": "code",
   "execution_count": 7,
   "metadata": {},
   "outputs": [
    {
     "data": {
      "text/plain": [
       "0"
      ]
     },
     "execution_count": 7,
     "metadata": {},
     "output_type": "execute_result"
    }
   ],
   "source": [
    "# find users who fall into all 3 groups\n",
    "overlapping_users = data.groupby('user_id')['group'].nunique()\n",
    "overlapping_users = overlapping_users[overlapping_users > 1].index\n",
    "\n",
    "# count the number of such users\n",
    "overlapping_count = len(overlapping_users)\n",
    "overlapping_count"
   ]
  },
  {
   "cell_type": "markdown",
   "metadata": {},
   "source": [
    "There are no overlapping users in the groups, so we can start analyzing the data"
   ]
  },
  {
   "cell_type": "markdown",
   "metadata": {},
   "source": [
    "## Examine and validate the data"
   ]
  },
  {
   "cell_type": "markdown",
   "metadata": {},
   "source": [
    "### Examine events"
   ]
  },
  {
   "cell_type": "markdown",
   "metadata": {},
   "source": [
    "See how many events are in the log"
   ]
  },
  {
   "cell_type": "code",
   "execution_count": 8,
   "metadata": {},
   "outputs": [
    {
     "name": "stdout",
     "output_type": "stream",
     "text": [
      "Total events in the log: 243713\n",
      "Unique types of events in the log: 5\n"
     ]
    }
   ],
   "source": [
    "# count how many events are in the log\n",
    "count_events = len(data)\n",
    "\n",
    "# count how many unique types of events are in the log\n",
    "count_unique_events = data['event_name'].nunique()\n",
    "\n",
    "print(f'Total events in the log: {count_events}')\n",
    "print(f'Unique types of events in the log: {count_unique_events}')"
   ]
  },
  {
   "cell_type": "markdown",
   "metadata": {},
   "source": [
    "Calculate how many unique users there are in the log"
   ]
  },
  {
   "cell_type": "code",
   "execution_count": 9,
   "metadata": {},
   "outputs": [
    {
     "name": "stdout",
     "output_type": "stream",
     "text": [
      "Total unique users in the log: 7551\n"
     ]
    }
   ],
   "source": [
    "# calculate how many unique users there are in the log\n",
    "count_unique_users = data['user_id'].nunique()\n",
    "\n",
    "print(f'Total unique users in the log: {count_unique_users}')"
   ]
  },
  {
   "cell_type": "markdown",
   "metadata": {},
   "source": [
    "Calculate the average number of events per user"
   ]
  },
  {
   "cell_type": "code",
   "execution_count": 10,
   "metadata": {},
   "outputs": [
    {
     "name": "stdout",
     "output_type": "stream",
     "text": [
      "On average, each user has 32 events\n"
     ]
    }
   ],
   "source": [
    "# Calculate the average number of events per user\n",
    "avg_events_per_user = count_events / count_unique_users\n",
    "\n",
    "print(f'On average, each user has {avg_events_per_user:0.0f} events')"
   ]
  },
  {
   "cell_type": "markdown",
   "metadata": {},
   "source": [
    "### Examine the period for which data is available"
   ]
  },
  {
   "cell_type": "code",
   "execution_count": 11,
   "metadata": {},
   "outputs": [
    {
     "name": "stdout",
     "output_type": "stream",
     "text": [
      "2019-07-25 04:43:36\n",
      "2019-08-07 21:15:17\n"
     ]
    }
   ],
   "source": [
    "# find the minimum date in the dataframe\n",
    "print(data['event_time'].min())\n",
    "\n",
    "# find the maximum date in the dataframe\n",
    "print(data['event_time'].max())"
   ]
  },
  {
   "cell_type": "markdown",
   "metadata": {},
   "source": [
    "We have data from July 25, 2019 to August 7, 2019"
   ]
  },
  {
   "cell_type": "markdown",
   "metadata": {},
   "source": [
    "**Examine how the number of events varies depending on time**"
   ]
  },
  {
   "cell_type": "code",
   "execution_count": 12,
   "metadata": {},
   "outputs": [
    {
     "data": {
      "image/png": "[encoded data removed]",
      "text/plain": [
       "<Figure size 1700x700 with 1 Axes>"
      ]
     },
     "metadata": {},
     "output_type": "display_data"
    }
   ],
   "source": [
    "# build histogram \n",
    "plt.title('The number of events depending on the time')\n",
    "data['event_time'].hist(bins=100, figsize=(17, 7), alpha=0.6)\n",
    "plt.show()"
   ]
  },
  {
   "cell_type": "markdown",
   "metadata": {},
   "source": [
    "According to the histogram, it can be seen that we have very little data for the 5 days of July 2019. The distribution looks normal starting in August 2019. Select the data starting from August 1, 2019."
   ]
  },
  {
   "cell_type": "code",
   "execution_count": 13,
   "metadata": {},
   "outputs": [
    {
     "name": "stdout",
     "output_type": "stream",
     "text": [
      "<class 'pandas.core.frame.DataFrame'>\n",
      "Index: 240887 entries, 2826 to 243712\n",
      "Data columns (total 5 columns):\n",
      " #   Column      Non-Null Count   Dtype         \n",
      "---  ------      --------------   -----         \n",
      " 0   event_name  240887 non-null  object        \n",
      " 1   user_id     240887 non-null  int64         \n",
      " 2   event_time  240887 non-null  datetime64[ns]\n",
      " 3   group       240887 non-null  int64         \n",
      " 4   event_date  240887 non-null  datetime64[ns]\n",
      "dtypes: datetime64[ns](2), int64(2), object(1)\n",
      "memory usage: 11.0+ MB\n"
     ]
    }
   ],
   "source": [
    "# create a data slice based on date\n",
    "data = data.query('event_time > \"2019-08-01\"')\n",
    "data.info()"
   ]
  },
  {
   "cell_type": "markdown",
   "metadata": {},
   "source": [
    "The number of events decreased from 243713 to 240887.  \n",
    "\n",
    "**See how the number of events is distributed by day after the data is cleared**"
   ]
  },
  {
   "cell_type": "code",
   "execution_count": 14,
   "metadata": {},
   "outputs": [
    {
     "data": {
      "image/png": "[encoded data removed]",
      "text/plain": [
       "<Figure size 1700x700 with 1 Axes>"
      ]
     },
     "metadata": {},
     "output_type": "display_data"
    }
   ],
   "source": [
    "# build histogram\n",
    "plt.title('The number of events depending on the time')\n",
    "data['event_time'].hist(bins=100, figsize=(17, 7), alpha=0.6)\n",
    "plt.show()"
   ]
  },
  {
   "cell_type": "markdown",
   "metadata": {},
   "source": [
    "Thus, we have data from August 1, 2019 to August 7, 2019."
   ]
  },
  {
   "cell_type": "code",
   "execution_count": 15,
   "metadata": {},
   "outputs": [
    {
     "name": "stdout",
     "output_type": "stream",
     "text": [
      "We have lost 2826 events from 243713 (or 1.16 %)\n"
     ]
    }
   ],
   "source": [
    "# count how many events we've lost\n",
    "count_events_new = len(data)\n",
    "difference_events = count_events - count_events_new\n",
    "print(f'We have lost {difference_events} events from {count_events} (or {(difference_events/count_events*100):0.2f} %)')"
   ]
  },
  {
   "cell_type": "code",
   "execution_count": 16,
   "metadata": {},
   "outputs": [
    {
     "name": "stdout",
     "output_type": "stream",
     "text": [
      "We have lost 17 users from 7551 (or 0.23 %)\n"
     ]
    }
   ],
   "source": [
    "# count how many users we've lost\n",
    "count_unique_users_new = data['user_id'].nunique()\n",
    "difference_users = count_unique_users - count_unique_users_new\n",
    "print(f'We have lost {difference_users} users from {count_unique_users} (or {(difference_users/count_unique_users*100):0.2f} %)')"
   ]
  },
  {
   "cell_type": "markdown",
   "metadata": {},
   "source": [
    "Thus, we lost a small part of the events (2826 events or 1.16%) and a small part of the users (17 users or 0.23%). These losses are not significant"
   ]
  },
  {
   "cell_type": "markdown",
   "metadata": {},
   "source": [
    "**Check if we still have users from all groups**"
   ]
  },
  {
   "cell_type": "code",
   "execution_count": 17,
   "metadata": {},
   "outputs": [
    {
     "name": "stdout",
     "output_type": "stream",
     "text": [
      "[246 247 248]\n"
     ]
    }
   ],
   "source": [
    "# look at the unique values of the group column\n",
    "print(data['group'].unique())"
   ]
  },
  {
   "cell_type": "markdown",
   "metadata": {},
   "source": [
    "After clearing the data, all the groups remained"
   ]
  },
  {
   "cell_type": "markdown",
   "metadata": {},
   "source": [
    "**Conclusion**  \n",
    "\n",
    "We took the data starting from August 1 to August 7, since the data is incomplete from July 25 to August 1.  \n",
    "After clearing the data, a small number of events and users were lost."
   ]
  },
  {
   "cell_type": "markdown",
   "metadata": {},
   "source": [
    "## Examine the funnel of events"
   ]
  },
  {
   "cell_type": "markdown",
   "metadata": {},
   "source": [
    "**See what events are in the logs, how often they occur.**"
   ]
  },
  {
   "cell_type": "code",
   "execution_count": 18,
   "metadata": {
    "scrolled": true
   },
   "outputs": [
    {
     "data": {
      "text/html": [
       "<div>\n",
       "<style scoped>\n",
       "    .dataframe tbody tr th:only-of-type {\n",
       "        vertical-align: middle;\n",
       "    }\n",
       "\n",
       "    .dataframe tbody tr th {\n",
       "        vertical-align: top;\n",
       "    }\n",
       "\n",
       "    .dataframe thead th {\n",
       "        text-align: right;\n",
       "    }\n",
       "</style>\n",
       "<table border=\"1\" class=\"dataframe\">\n",
       "  <thead>\n",
       "    <tr style=\"text-align: right;\">\n",
       "      <th></th>\n",
       "      <th>event_name</th>\n",
       "      <th>count_events</th>\n",
       "    </tr>\n",
       "  </thead>\n",
       "  <tbody>\n",
       "    <tr>\n",
       "      <th>1</th>\n",
       "      <td>MainScreenAppear</td>\n",
       "      <td>117328</td>\n",
       "    </tr>\n",
       "    <tr>\n",
       "      <th>2</th>\n",
       "      <td>OffersScreenAppear</td>\n",
       "      <td>46333</td>\n",
       "    </tr>\n",
       "    <tr>\n",
       "      <th>0</th>\n",
       "      <td>CartScreenAppear</td>\n",
       "      <td>42303</td>\n",
       "    </tr>\n",
       "    <tr>\n",
       "      <th>3</th>\n",
       "      <td>PaymentScreenSuccessful</td>\n",
       "      <td>33918</td>\n",
       "    </tr>\n",
       "    <tr>\n",
       "      <th>4</th>\n",
       "      <td>Tutorial</td>\n",
       "      <td>1005</td>\n",
       "    </tr>\n",
       "  </tbody>\n",
       "</table>\n",
       "</div>"
      ],
      "text/plain": [
       "                event_name  count_events\n",
       "1         MainScreenAppear        117328\n",
       "2       OffersScreenAppear         46333\n",
       "0         CartScreenAppear         42303\n",
       "3  PaymentScreenSuccessful         33918\n",
       "4                 Tutorial          1005"
      ]
     },
     "execution_count": 18,
     "metadata": {},
     "output_type": "execute_result"
    }
   ],
   "source": [
    "# create a table in which we count the number of events in the context of each type and sort them in descending order\n",
    "events = (data.groupby('event_name', as_index=False)\n",
    "              .agg({'user_id' : 'count'})\n",
    "              .rename(columns={'user_id' : 'count_events'})\n",
    "              .sort_values(by='count_events', ascending=False))\n",
    "events "
   ]
  },
  {
   "cell_type": "markdown",
   "metadata": {},
   "source": [
    "The most events are of the MainScreenAppear, the least of all are of the Tutorial"
   ]
  },
  {
   "cell_type": "markdown",
   "metadata": {},
   "source": [
    "**Let's count how many users committed each of these events**  \n",
    "Also, let's count the proportion of users who have ever committed an event."
   ]
  },
  {
   "cell_type": "code",
   "execution_count": 19,
   "metadata": {},
   "outputs": [
    {
     "data": {
      "text/html": [
       "<div>\n",
       "<style scoped>\n",
       "    .dataframe tbody tr th:only-of-type {\n",
       "        vertical-align: middle;\n",
       "    }\n",
       "\n",
       "    .dataframe tbody tr th {\n",
       "        vertical-align: top;\n",
       "    }\n",
       "\n",
       "    .dataframe thead th {\n",
       "        text-align: right;\n",
       "    }\n",
       "</style>\n",
       "<table border=\"1\" class=\"dataframe\">\n",
       "  <thead>\n",
       "    <tr style=\"text-align: right;\">\n",
       "      <th></th>\n",
       "      <th>event_name</th>\n",
       "      <th>count_users</th>\n",
       "      <th>user_ratio</th>\n",
       "    </tr>\n",
       "  </thead>\n",
       "  <tbody>\n",
       "    <tr>\n",
       "      <th>1</th>\n",
       "      <td>MainScreenAppear</td>\n",
       "      <td>7419</td>\n",
       "      <td>98.473586</td>\n",
       "    </tr>\n",
       "    <tr>\n",
       "      <th>2</th>\n",
       "      <td>OffersScreenAppear</td>\n",
       "      <td>4593</td>\n",
       "      <td>60.963632</td>\n",
       "    </tr>\n",
       "    <tr>\n",
       "      <th>0</th>\n",
       "      <td>CartScreenAppear</td>\n",
       "      <td>3734</td>\n",
       "      <td>49.561986</td>\n",
       "    </tr>\n",
       "    <tr>\n",
       "      <th>3</th>\n",
       "      <td>PaymentScreenSuccessful</td>\n",
       "      <td>3539</td>\n",
       "      <td>46.973719</td>\n",
       "    </tr>\n",
       "    <tr>\n",
       "      <th>4</th>\n",
       "      <td>Tutorial</td>\n",
       "      <td>840</td>\n",
       "      <td>11.149456</td>\n",
       "    </tr>\n",
       "  </tbody>\n",
       "</table>\n",
       "</div>"
      ],
      "text/plain": [
       "                event_name  count_users  user_ratio\n",
       "1         MainScreenAppear         7419   98.473586\n",
       "2       OffersScreenAppear         4593   60.963632\n",
       "0         CartScreenAppear         3734   49.561986\n",
       "3  PaymentScreenSuccessful         3539   46.973719\n",
       "4                 Tutorial          840   11.149456"
      ]
     },
     "execution_count": 19,
     "metadata": {},
     "output_type": "execute_result"
    }
   ],
   "source": [
    "# create a table in which we count the number of users in the context of each type and sort them in descending order\n",
    "users_per_event = (data.groupby('event_name', as_index=False)\n",
    "              .agg({'user_id' : 'nunique'})\n",
    "              .rename(columns={'user_id' : 'count_users'})\n",
    "              .sort_values(by='count_users', ascending=False))\n",
    "\n",
    "# add a column with the percentage of users who committed the event from the total number of users\n",
    "users_per_event['user_ratio'] = users_per_event['count_users'] / data['user_id'].nunique() * 100\n",
    "users_per_event"
   ]
  },
  {
   "cell_type": "markdown",
   "metadata": {},
   "source": [
    "The main screen was seen by the most users - 7419 users (or 98.5% of the total number of users)  \n",
    "The least number of users watched the tutorial - 840 users (or 11% of the total number of users)"
   ]
  },
  {
   "cell_type": "markdown",
   "metadata": {},
   "source": [
    "From the analysis of the type of events, it can be seen that all types are arranged in a sequential chain of events, with the exception of the Tutorial type. The tutorial on how to use the app cannot appear after payment for the product. Thus, the type of the Tutorial event will not be taken into account for calculating the funnel.  \n",
    "It can be assumed that the events occur in the following order:  \n",
    "- MainScreenAppear  \n",
    "- OffersScreenAppear  \n",
    "- CartScreenAppear  \n",
    "- PaymentScreenSuccessful "
   ]
  },
  {
   "cell_type": "markdown",
   "metadata": {},
   "source": [
    "**Visualize the funnel of events**"
   ]
  },
  {
   "cell_type": "code",
   "execution_count": 20,
   "metadata": {},
   "outputs": [
    {
     "data": {
      "image/png": "[encoded data removed]"
     },
     "metadata": {},
     "output_type": "display_data"
    }
   ],
   "source": [
    "# removing the Tutorial event view from the table to build the funnel\n",
    "users_per_event = users_per_event.query('event_name != \"Tutorial\"') \n",
    "\n",
    "# build a funnel of events\n",
    "fig = go.Figure(go.Funnel(\n",
    "      y = users_per_event['event_name'],\n",
    "      x = users_per_event['count_users'],\n",
    "      textinfo = \"value + percent previous\"))\n",
    "fig.update_layout(title='Funnel of events', title_x = 0.5)\n",
    "fig.show('png')"
   ]
  },
  {
   "cell_type": "markdown",
   "metadata": {},
   "source": [
    "Based on the constructed funnel of events, where the percentage of user conversions relative to the previous event is indicated, you can see that most users are lost at the step of switching to the OffersScreenAppear offer screen (38% of users are lost, only 62% are converted)  \n",
    "Approximately 48% of users reach payment from the first event"
   ]
  },
  {
   "cell_type": "markdown",
   "metadata": {},
   "source": [
    "## Examine the results of the experiment"
   ]
  },
  {
   "cell_type": "markdown",
   "metadata": {},
   "source": [
    "**Calculate how many users are in each experimental group**"
   ]
  },
  {
   "cell_type": "code",
   "execution_count": 21,
   "metadata": {},
   "outputs": [
    {
     "data": {
      "text/html": [
       "<div>\n",
       "<style scoped>\n",
       "    .dataframe tbody tr th:only-of-type {\n",
       "        vertical-align: middle;\n",
       "    }\n",
       "\n",
       "    .dataframe tbody tr th {\n",
       "        vertical-align: top;\n",
       "    }\n",
       "\n",
       "    .dataframe thead th {\n",
       "        text-align: right;\n",
       "    }\n",
       "</style>\n",
       "<table border=\"1\" class=\"dataframe\">\n",
       "  <thead>\n",
       "    <tr style=\"text-align: right;\">\n",
       "      <th></th>\n",
       "      <th>count_users</th>\n",
       "    </tr>\n",
       "    <tr>\n",
       "      <th>group</th>\n",
       "      <th></th>\n",
       "    </tr>\n",
       "  </thead>\n",
       "  <tbody>\n",
       "    <tr>\n",
       "      <th>248</th>\n",
       "      <td>2537</td>\n",
       "    </tr>\n",
       "    <tr>\n",
       "      <th>247</th>\n",
       "      <td>2513</td>\n",
       "    </tr>\n",
       "    <tr>\n",
       "      <th>246</th>\n",
       "      <td>2484</td>\n",
       "    </tr>\n",
       "  </tbody>\n",
       "</table>\n",
       "</div>"
      ],
      "text/plain": [
       "       count_users\n",
       "group             \n",
       "248           2537\n",
       "247           2513\n",
       "246           2484"
      ]
     },
     "execution_count": 21,
     "metadata": {},
     "output_type": "execute_result"
    }
   ],
   "source": [
    "# create a table in which we calculate the number of users in the context of each group\n",
    "users_per_group = (data.groupby('group')\n",
    "              .agg({'user_id' : 'nunique'})\n",
    "              .rename(columns={'user_id' : 'count_users'})\n",
    "              .sort_values(by='count_users', ascending=False))\n",
    "\n",
    "users_per_group"
   ]
  },
  {
   "cell_type": "markdown",
   "metadata": {},
   "source": [
    "The number of users in all three groups is approximately the same"
   ]
  },
  {
   "cell_type": "markdown",
   "metadata": {},
   "source": [
    "**Conduct an A/A test on two control groups to check the correctness of all mechanisms and calculations**"
   ]
  },
  {
   "cell_type": "markdown",
   "metadata": {},
   "source": [
    "The criteria for a successful A/A test are:\n",
    "\n",
    "- The number of users in different groups differs by no more than 1%.\n",
    "- Data about the same events is recorded and sent to analytics systems for all groups.\n",
    "- The difference in key metrics between groups does not exceed 1% and is not statistically significant.\n",
    "- A user assigned to one group stays in that group for the entire test. If a user sees different versions of the tested page during the same test, it’s unclear which version influenced their decisions. Therefore, the results of such a test cannot be interpreted unambiguously."
   ]
  },
  {
   "cell_type": "markdown",
   "metadata": {},
   "source": [
    "Previously, we have already checked whether users overlap in different groups and concluded that users in each group are unique.  \n",
    "The number of users in groups is practically the same.  \n",
    "But we cannot check whether data on the same thing is recorded and sent to the analytics systems for all groups, so in this case we will omit this criterion and will not check it.  \n",
    "\n",
    "It remains to check the key metrics in the groups."
   ]
  },
  {
   "cell_type": "markdown",
   "metadata": {},
   "source": [
    "It is necessary to check whether statistical criteria find the difference between samples 246 and 247 (to conduct an A/A test).  \n",
    "To do this, we will use a statistical test to determine whether two average values of the general population differ when the variances are known and the sample size is large.  \n",
    "Let's write the z-test function"
   ]
  },
  {
   "cell_type": "code",
   "execution_count": 22,
   "metadata": {},
   "outputs": [],
   "source": [
    "def z_test(group_1, group_2, event, alpha, n):\n",
    "    '''    \n",
    "The function checks for a statistically significant difference between the two groups.\n",
    "The function is fed 2 tables with data from the two groups being compared. The event\n",
    "for which the check is performed, the critical level of statistical significance and\n",
    "the Bonferroni correction for the critical level of statistical significance are also indicated.\n",
    "    \n",
    "    '''    \n",
    "    \n",
    "    # consider the Bonferroni amendment\n",
    "    alpha_bonf = alpha / n\n",
    " \n",
    "    # the total number of users in the two groups being checked\n",
    "    count_users = np.array([group_1['user_id'].nunique(), group_2['user_id'].nunique()])\n",
    "\n",
    "    # the number of users who have committed a certain event by group\n",
    "    success = np.array([group_1[group_1['event_name'] == event]['user_id'].nunique(), \n",
    "                        group_2[group_2['event_name'] == event]['user_id'].nunique()])\n",
    "\n",
    "    # the proportion of success in the first group\n",
    "    p1 = success[0]/count_users[0]\n",
    "    \n",
    "    # the proportion of success in the second group\n",
    "    p2 = success[1]/count_users[1]\n",
    "    \n",
    "    # the proportion of success in the combined dataset\n",
    "    p_combined = (success[0] + success[1]) / (count_users[0] + count_users[1])\n",
    "\n",
    "    # the difference in proportions in datasets\n",
    "    difference = p1 - p2 \n",
    "\n",
    "    # count statistics in the standard deviations of the standard normal distribution\n",
    "    z_value = difference /  np.sqrt(p_combined * (1 - p_combined) * (1/count_users[0] + 1/count_users[1]))\n",
    "\n",
    "    # setting the standard normal distribution (mean 0, standard deviation 1)\n",
    "    distr = st.norm(0, 1)  \n",
    "\n",
    "    p_value = (1 - distr.cdf(abs(z_value))) * 2   # the test is two-sided, double the result\n",
    "    \n",
    "    print('Event:', event)\n",
    "    print('p-value: ', p_value)\n",
    "\n",
    "    if p_value < alpha_bonf:\n",
    "        print('Reject the null hypothesis: there is a difference between the shares')\n",
    "    else:\n",
    "        print('It was not possible to reject the null hypothesis, there is no reason to consider the shares different')"
   ]
  },
  {
   "cell_type": "markdown",
   "metadata": {},
   "source": [
    "To conduct the A/A test, we will establish the null and alternative hypotheses:  \n",
    "**H0** - the shares of unique visitors of the groups being tested are the same  \n",
    "**H1** - the shares of unique visitors from the groups being checked are the same"
   ]
  },
  {
   "cell_type": "markdown",
   "metadata": {},
   "source": [
    "Let's take the significance level equal to 0.05, and to calculate the Bonnferoni correction, we need to take n = 16, since we will have 16 checks for which we will analyze"
   ]
  },
  {
   "cell_type": "code",
   "execution_count": 23,
   "metadata": {},
   "outputs": [
    {
     "name": "stdout",
     "output_type": "stream",
     "text": [
      "Event: MainScreenAppear\n",
      "p-value:  0.7570597232046099\n",
      "It was not possible to reject the null hypothesis, there is no reason to consider the shares different\n",
      "\n",
      "Event: OffersScreenAppear\n",
      "p-value:  0.2480954578522181\n",
      "It was not possible to reject the null hypothesis, there is no reason to consider the shares different\n",
      "\n",
      "Event: CartScreenAppear\n",
      "p-value:  0.22883372237997213\n",
      "It was not possible to reject the null hypothesis, there is no reason to consider the shares different\n",
      "\n",
      "Event: PaymentScreenSuccessful\n",
      "p-value:  0.11456679313141849\n",
      "It was not possible to reject the null hypothesis, there is no reason to consider the shares different\n",
      "\n"
     ]
    }
   ],
   "source": [
    "# check if there is a statistically significant difference between control groups 246 and 247\n",
    "\n",
    "for event in users_per_event['event_name'].unique():\n",
    "    z_test(data[data['group'] == 246], data[data['group'] == 247], event, 0.05, 16)\n",
    "    print()"
   ]
  },
  {
   "cell_type": "markdown",
   "metadata": {},
   "source": [
    "Based on the A/A test, it can be concluded that there is no significant difference between control groups 246 and 247.  \n",
    "Therefore, we can proceed to the A/B test"
   ]
  },
  {
   "cell_type": "markdown",
   "metadata": {},
   "source": [
    "**Conduct an A/B test with each of the control groups separately for each event**"
   ]
  },
  {
   "cell_type": "markdown",
   "metadata": {},
   "source": [
    "Use the previously written function and check the difference between groups 246 and 248"
   ]
  },
  {
   "cell_type": "code",
   "execution_count": 24,
   "metadata": {},
   "outputs": [
    {
     "name": "stdout",
     "output_type": "stream",
     "text": [
      "Event: MainScreenAppear\n",
      "p-value:  0.2949721933554552\n",
      "It was not possible to reject the null hypothesis, there is no reason to consider the shares different\n",
      "\n",
      "Event: OffersScreenAppear\n",
      "p-value:  0.20836205402738917\n",
      "It was not possible to reject the null hypothesis, there is no reason to consider the shares different\n",
      "\n",
      "Event: CartScreenAppear\n",
      "p-value:  0.07842923237520116\n",
      "It was not possible to reject the null hypothesis, there is no reason to consider the shares different\n",
      "\n",
      "Event: PaymentScreenSuccessful\n",
      "p-value:  0.2122553275697796\n",
      "It was not possible to reject the null hypothesis, there is no reason to consider the shares different\n",
      "\n"
     ]
    }
   ],
   "source": [
    "# check if there is a statistically significant difference between control groups 246 and 248\n",
    "\n",
    "for event in users_per_event['event_name'].unique():\n",
    "    z_test(data[data['group'] == 246], data[data['group'] == 248], event, 0.05, 16)\n",
    "    print()"
   ]
  },
  {
   "cell_type": "markdown",
   "metadata": {},
   "source": [
    "There is practically no difference in proportions at the specified sample sizes, therefore we cannot talk about a statistically significant difference. This means that the control group 246 does not differ from the experimental group 248"
   ]
  },
  {
   "cell_type": "markdown",
   "metadata": {},
   "source": [
    "Use the previously written function and check the difference between groups 247 and 248"
   ]
  },
  {
   "cell_type": "code",
   "execution_count": 25,
   "metadata": {},
   "outputs": [
    {
     "name": "stdout",
     "output_type": "stream",
     "text": [
      "Event: MainScreenAppear\n",
      "p-value:  0.4587053616621515\n",
      "It was not possible to reject the null hypothesis, there is no reason to consider the shares different\n",
      "\n",
      "Event: OffersScreenAppear\n",
      "p-value:  0.9197817830592261\n",
      "It was not possible to reject the null hypothesis, there is no reason to consider the shares different\n",
      "\n",
      "Event: CartScreenAppear\n",
      "p-value:  0.5786197879539783\n",
      "It was not possible to reject the null hypothesis, there is no reason to consider the shares different\n",
      "\n",
      "Event: PaymentScreenSuccessful\n",
      "p-value:  0.7373415053803964\n",
      "It was not possible to reject the null hypothesis, there is no reason to consider the shares different\n",
      "\n"
     ]
    }
   ],
   "source": [
    "# check if there is a statistically significant difference between control groups 247 and 248\n",
    "\n",
    "for event in users_per_event['event_name'].unique():\n",
    "    z_test(data[data['group'] == 247], data[data['group'] == 248], event, 0.05, 16)\n",
    "    print()"
   ]
  },
  {
   "cell_type": "markdown",
   "metadata": {},
   "source": [
    "There is practically no difference in proportions at the specified sample sizes, therefore we cannot talk about a statistically significant difference. This means that the control group 247 does not differ from the experimental group 248"
   ]
  },
  {
   "cell_type": "markdown",
   "metadata": {},
   "source": [
    "Check if there is a statistically significant difference between the combined control and experimental 248 groups"
   ]
  },
  {
   "cell_type": "code",
   "execution_count": 26,
   "metadata": {},
   "outputs": [
    {
     "name": "stdout",
     "output_type": "stream",
     "text": [
      "Event: MainScreenAppear\n",
      "p-value:  0.29424526837179577\n",
      "It was not possible to reject the null hypothesis, there is no reason to consider the shares different\n",
      "\n",
      "Event: OffersScreenAppear\n",
      "p-value:  0.43425549655188256\n",
      "It was not possible to reject the null hypothesis, there is no reason to consider the shares different\n",
      "\n",
      "Event: CartScreenAppear\n",
      "p-value:  0.18175875284404386\n",
      "It was not possible to reject the null hypothesis, there is no reason to consider the shares different\n",
      "\n",
      "Event: PaymentScreenSuccessful\n",
      "p-value:  0.6004294282308704\n",
      "It was not possible to reject the null hypothesis, there is no reason to consider the shares different\n",
      "\n"
     ]
    }
   ],
   "source": [
    "# check if there is a statistically significant difference between the combined control and experimental 248 groups\n",
    "\n",
    "for event in users_per_event['event_name'].unique():\n",
    "    z_test(data[data['group'] != 248], data[data['group'] == 248], event, 0.05, 16)\n",
    "    print()"
   ]
  },
  {
   "cell_type": "markdown",
   "metadata": {},
   "source": [
    "There is practically no difference in proportions at the specified sample sizes, therefore we cannot talk about a statistically significant difference. This means that the combined control group does not differ from the experimental 248"
   ]
  },
  {
   "cell_type": "markdown",
   "metadata": {},
   "source": [
    "## Conclusion"
   ]
  },
  {
   "cell_type": "markdown",
   "metadata": {},
   "source": [
    "**During the analysis, data was preprocessed for the convenience and correctness of further research**  \n",
    "As part of the preprocessing, the data type of the column with the date was changed, the column names were changed, obvious duplicates were removed, and also a check was carried out for the intersection of users in different groups.  \n",
    "\n",
    "**The data has been examined**  \n",
    "We took the data starting from August 1 to August 7, because the data is incomplete from July 25 to August 1.\n",
    "After clearing the data, a small number of events and users were lost.  \n",
    "\n",
    "**The funnel of events has been examined**  \n",
    "We concluded that events occur in the following order:  \n",
    "- MainScreenAppear  \n",
    "- OffersScreenAppear  \n",
    "- CartScreenAppear  \n",
    "- PaymentScreenSuccessful \n",
    "\n",
    "We have built an event funnel where the percentage of user conversions relative to the previous event is indicated. From it, we concluded that most users are lost at the step of switching to the OffersScreenAppear offer screen (38% of users are lost, only 62% are converted). Approximately 48% of users reach payment from the first event  \n",
    "\n",
    "**The results of the experiment were examined**  \n",
    "To conduct the A/A and A/B tests, we applied the statistical significance level alpha - 0.05 with a Bonnferoni correction for 16 checks.  \n",
    "We conducted an A/A test between two control groups and concluded that there was no significant difference between control groups 246 and 247.  \n",
    "After that, we conducted an A/B test with each of the control groups separately for each event.  \n",
    "Based on the results of the A/B test, we were convinced that changing fonts throughout the app did not affect user behavior."
   ]
  },
  {
   "cell_type": "code",
   "execution_count": null,
   "metadata": {},
   "outputs": [],
   "source": []
  }
 ],
 "metadata": {
  "ExecuteTimeLog": [
   {
    "duration": 1330,
    "start_time": "2024-09-02T18:26:38.082Z"
   },
   {
    "duration": 1103,
    "start_time": "2024-09-02T18:26:41.073Z"
   },
   {
    "duration": 185,
    "start_time": "2024-09-02T18:28:26.230Z"
   },
   {
    "duration": 194,
    "start_time": "2024-09-02T18:28:48.886Z"
   },
   {
    "duration": 21,
    "start_time": "2024-09-02T18:33:10.297Z"
   },
   {
    "duration": 19,
    "start_time": "2024-09-02T18:33:20.920Z"
   },
   {
    "duration": 965,
    "start_time": "2024-09-02T18:41:41.069Z"
   },
   {
    "duration": 128,
    "start_time": "2024-09-02T18:41:48.188Z"
   },
   {
    "duration": 131,
    "start_time": "2024-09-02T18:42:07.386Z"
   },
   {
    "duration": 128,
    "start_time": "2024-09-02T18:42:32.546Z"
   },
   {
    "duration": 1439,
    "start_time": "2024-09-03T16:46:50.101Z"
   },
   {
    "duration": 802,
    "start_time": "2024-09-03T16:46:51.543Z"
   },
   {
    "duration": 21,
    "start_time": "2024-09-03T16:46:52.347Z"
   },
   {
    "duration": 132,
    "start_time": "2024-09-03T16:46:52.369Z"
   },
   {
    "duration": 68,
    "start_time": "2024-09-03T16:48:16.729Z"
   },
   {
    "duration": 105,
    "start_time": "2024-09-03T16:49:34.612Z"
   },
   {
    "duration": 98,
    "start_time": "2024-09-03T16:49:56.909Z"
   },
   {
    "duration": 59,
    "start_time": "2024-09-03T16:52:40.601Z"
   },
   {
    "duration": 130,
    "start_time": "2024-09-03T16:53:21.660Z"
   },
   {
    "duration": 149,
    "start_time": "2024-09-03T16:53:26.802Z"
   },
   {
    "duration": 51,
    "start_time": "2024-09-03T16:53:49.433Z"
   },
   {
    "duration": 0,
    "start_time": "2024-09-03T16:53:49.485Z"
   },
   {
    "duration": 1267,
    "start_time": "2024-09-03T16:53:56.172Z"
   },
   {
    "duration": 218,
    "start_time": "2024-09-03T16:53:57.441Z"
   },
   {
    "duration": 22,
    "start_time": "2024-09-03T16:53:57.661Z"
   },
   {
    "duration": 151,
    "start_time": "2024-09-03T16:53:57.685Z"
   },
   {
    "duration": 83,
    "start_time": "2024-09-03T16:53:57.839Z"
   },
   {
    "duration": 105,
    "start_time": "2024-09-03T16:54:00.214Z"
   },
   {
    "duration": 65,
    "start_time": "2024-09-03T16:54:52.741Z"
   },
   {
    "duration": 1237,
    "start_time": "2024-09-03T16:55:25.833Z"
   },
   {
    "duration": 220,
    "start_time": "2024-09-03T16:55:27.072Z"
   },
   {
    "duration": 27,
    "start_time": "2024-09-03T16:55:27.294Z"
   },
   {
    "duration": 145,
    "start_time": "2024-09-03T16:55:27.323Z"
   },
   {
    "duration": 78,
    "start_time": "2024-09-03T16:55:27.470Z"
   },
   {
    "duration": 115,
    "start_time": "2024-09-03T16:55:27.550Z"
   },
   {
    "duration": 37,
    "start_time": "2024-09-03T16:55:41.101Z"
   },
   {
    "duration": 40,
    "start_time": "2024-09-03T16:56:32.781Z"
   },
   {
    "duration": 63,
    "start_time": "2024-09-03T16:58:51.541Z"
   },
   {
    "duration": 122,
    "start_time": "2024-09-03T17:04:40.033Z"
   },
   {
    "duration": 31,
    "start_time": "2024-09-03T17:04:57.457Z"
   },
   {
    "duration": 45,
    "start_time": "2024-09-03T17:06:19.822Z"
   },
   {
    "duration": 31,
    "start_time": "2024-09-03T17:06:39.341Z"
   },
   {
    "duration": 13,
    "start_time": "2024-09-03T17:08:08.441Z"
   },
   {
    "duration": 7,
    "start_time": "2024-09-03T17:08:16.568Z"
   },
   {
    "duration": 4,
    "start_time": "2024-09-03T17:10:49.633Z"
   },
   {
    "duration": 32,
    "start_time": "2024-09-03T17:11:15.169Z"
   },
   {
    "duration": 7,
    "start_time": "2024-09-03T17:11:16.733Z"
   },
   {
    "duration": 33,
    "start_time": "2024-09-03T17:22:47.734Z"
   },
   {
    "duration": 213,
    "start_time": "2024-09-03T17:22:47.768Z"
   },
   {
    "duration": 26,
    "start_time": "2024-09-03T17:22:47.983Z"
   },
   {
    "duration": 182,
    "start_time": "2024-09-03T17:22:48.011Z"
   },
   {
    "duration": 67,
    "start_time": "2024-09-03T17:22:48.195Z"
   },
   {
    "duration": 100,
    "start_time": "2024-09-03T17:22:48.264Z"
   },
   {
    "duration": 46,
    "start_time": "2024-09-03T17:22:48.366Z"
   },
   {
    "duration": 30,
    "start_time": "2024-09-03T17:22:48.414Z"
   },
   {
    "duration": 7,
    "start_time": "2024-09-03T17:22:48.446Z"
   },
   {
    "duration": 26,
    "start_time": "2024-09-03T17:22:48.454Z"
   },
   {
    "duration": 98,
    "start_time": "2024-09-03T17:23:19.820Z"
   },
   {
    "duration": 3,
    "start_time": "2024-09-03T17:24:00.252Z"
   },
   {
    "duration": 3,
    "start_time": "2024-09-03T17:24:16.459Z"
   },
   {
    "duration": 5,
    "start_time": "2024-09-03T17:29:06.831Z"
   },
   {
    "duration": 3,
    "start_time": "2024-09-03T17:29:14.107Z"
   },
   {
    "duration": 4,
    "start_time": "2024-09-03T17:29:35.180Z"
   },
   {
    "duration": 1191,
    "start_time": "2024-09-03T18:27:18.444Z"
   },
   {
    "duration": 219,
    "start_time": "2024-09-03T18:27:19.637Z"
   },
   {
    "duration": 23,
    "start_time": "2024-09-03T18:27:19.857Z"
   },
   {
    "duration": 150,
    "start_time": "2024-09-03T18:27:19.882Z"
   },
   {
    "duration": 81,
    "start_time": "2024-09-03T18:27:20.034Z"
   },
   {
    "duration": 116,
    "start_time": "2024-09-03T18:27:20.116Z"
   },
   {
    "duration": 39,
    "start_time": "2024-09-03T18:27:20.234Z"
   },
   {
    "duration": 58,
    "start_time": "2024-09-03T18:27:20.275Z"
   },
   {
    "duration": 8,
    "start_time": "2024-09-03T18:27:20.336Z"
   },
   {
    "duration": 8,
    "start_time": "2024-09-03T18:27:20.347Z"
   },
   {
    "duration": 8,
    "start_time": "2024-09-03T18:39:27.404Z"
   },
   {
    "duration": 93,
    "start_time": "2024-09-03T18:46:18.338Z"
   },
   {
    "duration": 69,
    "start_time": "2024-09-03T18:54:20.218Z"
   },
   {
    "duration": 447,
    "start_time": "2024-09-03T18:54:34.694Z"
   },
   {
    "duration": 330,
    "start_time": "2024-09-03T18:55:01.914Z"
   },
   {
    "duration": 318,
    "start_time": "2024-09-03T18:55:09.028Z"
   },
   {
    "duration": 471,
    "start_time": "2024-09-03T18:55:21.068Z"
   },
   {
    "duration": 326,
    "start_time": "2024-09-03T18:55:28.641Z"
   },
   {
    "duration": 324,
    "start_time": "2024-09-03T18:55:33.654Z"
   },
   {
    "duration": 59,
    "start_time": "2024-09-03T19:01:33.536Z"
   },
   {
    "duration": 41,
    "start_time": "2024-09-03T19:02:00.060Z"
   },
   {
    "duration": 41,
    "start_time": "2024-09-03T19:04:48.961Z"
   },
   {
    "duration": 325,
    "start_time": "2024-09-03T19:08:29.032Z"
   },
   {
    "duration": 3,
    "start_time": "2024-09-03T19:12:01.925Z"
   },
   {
    "duration": 3,
    "start_time": "2024-09-03T19:13:14.773Z"
   },
   {
    "duration": 3,
    "start_time": "2024-09-03T19:13:48.298Z"
   },
   {
    "duration": 7,
    "start_time": "2024-09-03T19:15:52.172Z"
   },
   {
    "duration": 7,
    "start_time": "2024-09-03T19:16:24.351Z"
   },
   {
    "duration": 8,
    "start_time": "2024-09-03T19:18:15.449Z"
   },
   {
    "duration": 81,
    "start_time": "2024-09-03T19:19:45.612Z"
   },
   {
    "duration": 5,
    "start_time": "2024-09-03T19:20:52.545Z"
   },
   {
    "duration": 4,
    "start_time": "2024-09-03T19:21:24.614Z"
   },
   {
    "duration": 5,
    "start_time": "2024-09-03T19:21:27.756Z"
   },
   {
    "duration": 5,
    "start_time": "2024-09-03T19:21:37.444Z"
   },
   {
    "duration": 75,
    "start_time": "2024-09-03T19:21:53.688Z"
   },
   {
    "duration": 187,
    "start_time": "2024-09-03T19:44:04.561Z"
   },
   {
    "duration": 25,
    "start_time": "2024-09-03T19:46:05.428Z"
   },
   {
    "duration": 31,
    "start_time": "2024-09-03T19:46:09.574Z"
   },
   {
    "duration": 26,
    "start_time": "2024-09-03T19:46:23.669Z"
   },
   {
    "duration": 122,
    "start_time": "2024-09-03T19:48:06.631Z"
   },
   {
    "duration": 3,
    "start_time": "2024-09-03T19:48:40.248Z"
   },
   {
    "duration": 20,
    "start_time": "2024-09-03T19:48:46.562Z"
   },
   {
    "duration": 4,
    "start_time": "2024-09-03T19:49:06.236Z"
   },
   {
    "duration": 72,
    "start_time": "2024-09-03T19:49:54.927Z"
   },
   {
    "duration": 37,
    "start_time": "2024-09-03T19:50:06.436Z"
   },
   {
    "duration": 55,
    "start_time": "2024-09-03T19:50:39.274Z"
   },
   {
    "duration": 40,
    "start_time": "2024-09-03T19:50:49.170Z"
   },
   {
    "duration": 38,
    "start_time": "2024-09-03T19:51:07.517Z"
   },
   {
    "duration": 44,
    "start_time": "2024-09-03T19:51:41.291Z"
   },
   {
    "duration": 40,
    "start_time": "2024-09-03T19:52:27.490Z"
   },
   {
    "duration": 5,
    "start_time": "2024-09-03T19:53:41.443Z"
   },
   {
    "duration": 36,
    "start_time": "2024-09-03T19:53:44.477Z"
   },
   {
    "duration": 33,
    "start_time": "2024-09-03T19:54:54.450Z"
   },
   {
    "duration": 27,
    "start_time": "2024-09-03T19:55:04.274Z"
   },
   {
    "duration": 26,
    "start_time": "2024-09-03T19:55:32.748Z"
   },
   {
    "duration": 33,
    "start_time": "2024-09-03T19:55:54.699Z"
   },
   {
    "duration": 79,
    "start_time": "2024-09-03T19:56:16.209Z"
   },
   {
    "duration": 26,
    "start_time": "2024-09-03T19:56:27.164Z"
   },
   {
    "duration": 39,
    "start_time": "2024-09-03T19:56:40.714Z"
   },
   {
    "duration": 28,
    "start_time": "2024-09-03T19:57:43.083Z"
   },
   {
    "duration": 57,
    "start_time": "2024-09-04T12:54:44.713Z"
   },
   {
    "duration": 45,
    "start_time": "2024-09-04T12:56:06.253Z"
   },
   {
    "duration": 1357,
    "start_time": "2024-09-04T12:56:13.432Z"
   },
   {
    "duration": 919,
    "start_time": "2024-09-04T12:56:14.791Z"
   },
   {
    "duration": 22,
    "start_time": "2024-09-04T12:56:15.712Z"
   },
   {
    "duration": 135,
    "start_time": "2024-09-04T12:56:15.735Z"
   },
   {
    "duration": 79,
    "start_time": "2024-09-04T12:56:15.873Z"
   },
   {
    "duration": 114,
    "start_time": "2024-09-04T12:56:15.953Z"
   },
   {
    "duration": 44,
    "start_time": "2024-09-04T12:56:16.069Z"
   },
   {
    "duration": 54,
    "start_time": "2024-09-04T12:56:16.114Z"
   },
   {
    "duration": 7,
    "start_time": "2024-09-04T12:56:16.169Z"
   },
   {
    "duration": 3,
    "start_time": "2024-09-04T12:56:16.178Z"
   },
   {
    "duration": 13,
    "start_time": "2024-09-04T12:56:16.183Z"
   },
   {
    "duration": 437,
    "start_time": "2024-09-04T12:56:16.198Z"
   },
   {
    "duration": 44,
    "start_time": "2024-09-04T12:56:16.636Z"
   },
   {
    "duration": 330,
    "start_time": "2024-09-04T12:56:16.683Z"
   },
   {
    "duration": 3,
    "start_time": "2024-09-04T12:56:17.015Z"
   },
   {
    "duration": 51,
    "start_time": "2024-09-04T12:56:17.019Z"
   },
   {
    "duration": 4,
    "start_time": "2024-09-04T12:56:17.072Z"
   },
   {
    "duration": 27,
    "start_time": "2024-09-04T12:56:17.077Z"
   },
   {
    "duration": 61,
    "start_time": "2024-09-04T12:56:17.105Z"
   },
   {
    "duration": 66,
    "start_time": "2024-09-04T12:58:44.850Z"
   },
   {
    "duration": 61,
    "start_time": "2024-09-04T12:59:04.257Z"
   },
   {
    "duration": 59,
    "start_time": "2024-09-04T13:00:28.859Z"
   },
   {
    "duration": 63,
    "start_time": "2024-09-04T13:00:47.851Z"
   },
   {
    "duration": 87,
    "start_time": "2024-09-04T13:15:23.737Z"
   },
   {
    "duration": 69,
    "start_time": "2024-09-04T13:22:32.719Z"
   },
   {
    "duration": 4,
    "start_time": "2024-09-04T13:23:13.308Z"
   },
   {
    "duration": 12,
    "start_time": "2024-09-04T13:23:18.524Z"
   },
   {
    "duration": 719,
    "start_time": "2024-09-04T13:23:38.283Z"
   },
   {
    "duration": 187,
    "start_time": "2024-09-04T13:25:03.426Z"
   },
   {
    "duration": 11,
    "start_time": "2024-09-04T13:25:51.432Z"
   },
   {
    "duration": 11,
    "start_time": "2024-09-04T13:26:52.665Z"
   },
   {
    "duration": 67,
    "start_time": "2024-09-04T13:30:00.014Z"
   },
   {
    "duration": 51,
    "start_time": "2024-09-04T13:30:17.750Z"
   },
   {
    "duration": 50,
    "start_time": "2024-09-04T13:30:43.509Z"
   },
   {
    "duration": 13,
    "start_time": "2024-09-04T13:31:09.701Z"
   },
   {
    "duration": 11,
    "start_time": "2024-09-04T13:31:19.630Z"
   },
   {
    "duration": 11,
    "start_time": "2024-09-04T13:31:22.101Z"
   },
   {
    "duration": 11,
    "start_time": "2024-09-04T13:31:26.245Z"
   },
   {
    "duration": 11,
    "start_time": "2024-09-04T13:31:37.438Z"
   },
   {
    "duration": 11,
    "start_time": "2024-09-04T13:31:50.540Z"
   },
   {
    "duration": 11,
    "start_time": "2024-09-04T13:32:05.948Z"
   },
   {
    "duration": 11,
    "start_time": "2024-09-04T13:32:15.205Z"
   },
   {
    "duration": 43,
    "start_time": "2024-09-04T14:02:11.112Z"
   },
   {
    "duration": 47,
    "start_time": "2024-09-04T14:03:02.752Z"
   },
   {
    "duration": 34,
    "start_time": "2024-09-04T14:04:04.160Z"
   },
   {
    "duration": 33,
    "start_time": "2024-09-04T14:04:22.616Z"
   },
   {
    "duration": 1248,
    "start_time": "2024-09-04T18:37:08.087Z"
   },
   {
    "duration": 1011,
    "start_time": "2024-09-04T18:37:09.337Z"
   },
   {
    "duration": 20,
    "start_time": "2024-09-04T18:37:10.350Z"
   },
   {
    "duration": 134,
    "start_time": "2024-09-04T18:37:10.371Z"
   },
   {
    "duration": 65,
    "start_time": "2024-09-04T18:37:10.507Z"
   },
   {
    "duration": 103,
    "start_time": "2024-09-04T18:37:10.573Z"
   },
   {
    "duration": 33,
    "start_time": "2024-09-04T18:37:10.678Z"
   },
   {
    "duration": 35,
    "start_time": "2024-09-04T18:37:10.712Z"
   },
   {
    "duration": 6,
    "start_time": "2024-09-04T18:37:10.748Z"
   },
   {
    "duration": 5,
    "start_time": "2024-09-04T18:37:10.755Z"
   },
   {
    "duration": 5,
    "start_time": "2024-09-04T18:37:10.761Z"
   },
   {
    "duration": 370,
    "start_time": "2024-09-04T18:37:10.767Z"
   },
   {
    "duration": 27,
    "start_time": "2024-09-04T18:37:11.138Z"
   },
   {
    "duration": 294,
    "start_time": "2024-09-04T18:37:11.167Z"
   },
   {
    "duration": 3,
    "start_time": "2024-09-04T18:37:11.463Z"
   },
   {
    "duration": 14,
    "start_time": "2024-09-04T18:37:11.468Z"
   },
   {
    "duration": 6,
    "start_time": "2024-09-04T18:37:11.484Z"
   },
   {
    "duration": 41,
    "start_time": "2024-09-04T18:37:11.491Z"
   },
   {
    "duration": 57,
    "start_time": "2024-09-04T18:37:11.534Z"
   },
   {
    "duration": 148,
    "start_time": "2024-09-04T18:37:11.593Z"
   },
   {
    "duration": 84,
    "start_time": "2024-09-04T18:37:11.743Z"
   },
   {
    "duration": 1463,
    "start_time": "2024-09-05T06:07:29.762Z"
   },
   {
    "duration": 860,
    "start_time": "2024-09-05T06:07:31.227Z"
   },
   {
    "duration": 21,
    "start_time": "2024-09-05T06:07:32.089Z"
   },
   {
    "duration": 176,
    "start_time": "2024-09-05T06:07:32.111Z"
   },
   {
    "duration": 80,
    "start_time": "2024-09-05T06:07:32.289Z"
   },
   {
    "duration": 121,
    "start_time": "2024-09-05T06:07:32.371Z"
   },
   {
    "duration": 39,
    "start_time": "2024-09-05T06:07:32.494Z"
   },
   {
    "duration": 43,
    "start_time": "2024-09-05T06:07:32.535Z"
   },
   {
    "duration": 6,
    "start_time": "2024-09-05T06:07:32.580Z"
   },
   {
    "duration": 7,
    "start_time": "2024-09-05T06:07:32.588Z"
   },
   {
    "duration": 16,
    "start_time": "2024-09-05T06:07:32.597Z"
   },
   {
    "duration": 496,
    "start_time": "2024-09-05T06:07:32.615Z"
   },
   {
    "duration": 35,
    "start_time": "2024-09-05T06:07:33.113Z"
   },
   {
    "duration": 362,
    "start_time": "2024-09-05T06:07:33.156Z"
   },
   {
    "duration": 4,
    "start_time": "2024-09-05T06:07:33.519Z"
   },
   {
    "duration": 13,
    "start_time": "2024-09-05T06:07:33.525Z"
   },
   {
    "duration": 16,
    "start_time": "2024-09-05T06:07:33.540Z"
   },
   {
    "duration": 28,
    "start_time": "2024-09-05T06:07:33.559Z"
   },
   {
    "duration": 92,
    "start_time": "2024-09-05T06:07:33.589Z"
   },
   {
    "duration": 213,
    "start_time": "2024-09-05T06:07:33.683Z"
   },
   {
    "duration": 62,
    "start_time": "2024-09-05T06:07:33.899Z"
   },
   {
    "duration": 9,
    "start_time": "2024-09-05T08:39:52.546Z"
   },
   {
    "duration": 3,
    "start_time": "2024-09-05T08:39:57.181Z"
   },
   {
    "duration": 241,
    "start_time": "2024-09-05T08:39:57.186Z"
   },
   {
    "duration": 27,
    "start_time": "2024-09-05T08:39:57.429Z"
   },
   {
    "duration": 147,
    "start_time": "2024-09-05T08:39:57.458Z"
   },
   {
    "duration": 80,
    "start_time": "2024-09-05T08:39:57.607Z"
   },
   {
    "duration": 108,
    "start_time": "2024-09-05T08:39:57.689Z"
   },
   {
    "duration": 36,
    "start_time": "2024-09-05T08:39:57.799Z"
   },
   {
    "duration": 42,
    "start_time": "2024-09-05T08:39:57.836Z"
   },
   {
    "duration": 6,
    "start_time": "2024-09-05T08:39:57.880Z"
   },
   {
    "duration": 4,
    "start_time": "2024-09-05T08:39:57.888Z"
   },
   {
    "duration": 32,
    "start_time": "2024-09-05T08:39:57.893Z"
   },
   {
    "duration": 436,
    "start_time": "2024-09-05T08:39:57.926Z"
   },
   {
    "duration": 31,
    "start_time": "2024-09-05T08:39:58.364Z"
   },
   {
    "duration": 400,
    "start_time": "2024-09-05T08:39:58.398Z"
   },
   {
    "duration": 4,
    "start_time": "2024-09-05T08:39:58.800Z"
   },
   {
    "duration": 14,
    "start_time": "2024-09-05T08:39:58.806Z"
   },
   {
    "duration": 25,
    "start_time": "2024-09-05T08:39:58.822Z"
   },
   {
    "duration": 27,
    "start_time": "2024-09-05T08:39:58.848Z"
   },
   {
    "duration": 80,
    "start_time": "2024-09-05T08:39:58.877Z"
   },
   {
    "duration": 12,
    "start_time": "2024-09-05T08:39:58.958Z"
   },
   {
    "duration": 40,
    "start_time": "2024-09-05T08:39:58.972Z"
   },
   {
    "duration": 7,
    "start_time": "2024-09-05T08:39:59.014Z"
   },
   {
    "duration": 7,
    "start_time": "2024-09-05T09:08:52.755Z"
   },
   {
    "duration": 5,
    "start_time": "2024-09-05T09:09:06.046Z"
   },
   {
    "duration": 1673,
    "start_time": "2024-09-05T09:10:45.232Z"
   },
   {
    "duration": 31,
    "start_time": "2024-09-05T09:13:34.879Z"
   },
   {
    "duration": 69,
    "start_time": "2024-09-05T09:13:50.289Z"
   },
   {
    "duration": 12,
    "start_time": "2024-09-05T09:14:29.978Z"
   },
   {
    "duration": 5,
    "start_time": "2024-09-05T09:15:07.761Z"
   },
   {
    "duration": 5,
    "start_time": "2024-09-05T09:15:18.609Z"
   },
   {
    "duration": 1200,
    "start_time": "2024-09-05T09:15:27.755Z"
   },
   {
    "duration": 1230,
    "start_time": "2024-09-05T09:16:39.653Z"
   },
   {
    "duration": 232,
    "start_time": "2024-09-05T09:16:40.885Z"
   },
   {
    "duration": 41,
    "start_time": "2024-09-05T09:16:41.119Z"
   },
   {
    "duration": 155,
    "start_time": "2024-09-05T09:16:41.162Z"
   },
   {
    "duration": 77,
    "start_time": "2024-09-05T09:16:41.320Z"
   },
   {
    "duration": 125,
    "start_time": "2024-09-05T09:16:41.399Z"
   },
   {
    "duration": 67,
    "start_time": "2024-09-05T09:16:41.526Z"
   },
   {
    "duration": 34,
    "start_time": "2024-09-05T09:16:41.596Z"
   },
   {
    "duration": 30,
    "start_time": "2024-09-05T09:16:41.632Z"
   },
   {
    "duration": 4,
    "start_time": "2024-09-05T09:16:41.663Z"
   },
   {
    "duration": 11,
    "start_time": "2024-09-05T09:16:41.669Z"
   },
   {
    "duration": 485,
    "start_time": "2024-09-05T09:16:41.681Z"
   },
   {
    "duration": 30,
    "start_time": "2024-09-05T09:16:42.168Z"
   },
   {
    "duration": 332,
    "start_time": "2024-09-05T09:16:42.201Z"
   },
   {
    "duration": 4,
    "start_time": "2024-09-05T09:16:42.535Z"
   },
   {
    "duration": 32,
    "start_time": "2024-09-05T09:16:42.546Z"
   },
   {
    "duration": 9,
    "start_time": "2024-09-05T09:16:42.580Z"
   },
   {
    "duration": 28,
    "start_time": "2024-09-05T09:16:42.590Z"
   },
   {
    "duration": 76,
    "start_time": "2024-09-05T09:16:42.619Z"
   },
   {
    "duration": 165,
    "start_time": "2024-09-05T09:16:42.696Z"
   },
   {
    "duration": 97,
    "start_time": "2024-09-05T09:16:42.864Z"
   },
   {
    "duration": 8,
    "start_time": "2024-09-05T09:16:42.963Z"
   },
   {
    "duration": 1859,
    "start_time": "2024-09-05T09:16:42.973Z"
   },
   {
    "duration": 2758,
    "start_time": "2024-09-05T09:17:04.016Z"
   },
   {
    "duration": 1298,
    "start_time": "2024-09-05T09:18:02.563Z"
   },
   {
    "duration": 222,
    "start_time": "2024-09-05T09:18:03.863Z"
   },
   {
    "duration": 21,
    "start_time": "2024-09-05T09:18:04.086Z"
   },
   {
    "duration": 164,
    "start_time": "2024-09-05T09:18:04.109Z"
   },
   {
    "duration": 81,
    "start_time": "2024-09-05T09:18:04.274Z"
   },
   {
    "duration": 114,
    "start_time": "2024-09-05T09:18:04.364Z"
   },
   {
    "duration": 39,
    "start_time": "2024-09-05T09:18:04.480Z"
   },
   {
    "duration": 52,
    "start_time": "2024-09-05T09:18:04.520Z"
   },
   {
    "duration": 9,
    "start_time": "2024-09-05T09:18:04.574Z"
   },
   {
    "duration": 25,
    "start_time": "2024-09-05T09:18:04.586Z"
   },
   {
    "duration": 20,
    "start_time": "2024-09-05T09:18:04.613Z"
   },
   {
    "duration": 467,
    "start_time": "2024-09-05T09:18:04.634Z"
   },
   {
    "duration": 31,
    "start_time": "2024-09-05T09:18:05.103Z"
   },
   {
    "duration": 356,
    "start_time": "2024-09-05T09:18:05.151Z"
   },
   {
    "duration": 3,
    "start_time": "2024-09-05T09:18:05.509Z"
   },
   {
    "duration": 21,
    "start_time": "2024-09-05T09:18:05.514Z"
   },
   {
    "duration": 18,
    "start_time": "2024-09-05T09:18:05.537Z"
   },
   {
    "duration": 31,
    "start_time": "2024-09-05T09:18:05.560Z"
   },
   {
    "duration": 72,
    "start_time": "2024-09-05T09:18:05.593Z"
   },
   {
    "duration": 171,
    "start_time": "2024-09-05T09:18:05.666Z"
   },
   {
    "duration": 44,
    "start_time": "2024-09-05T09:18:05.839Z"
   },
   {
    "duration": 7,
    "start_time": "2024-09-05T09:18:05.885Z"
   },
   {
    "duration": 224,
    "start_time": "2024-09-05T09:18:05.894Z"
   },
   {
    "duration": 9,
    "start_time": "2024-09-05T09:18:50.860Z"
   },
   {
    "duration": 85,
    "start_time": "2024-09-05T09:18:52.860Z"
   },
   {
    "duration": 1233,
    "start_time": "2024-09-05T09:19:21.530Z"
   },
   {
    "duration": 221,
    "start_time": "2024-09-05T09:19:22.765Z"
   },
   {
    "duration": 23,
    "start_time": "2024-09-05T09:19:22.987Z"
   },
   {
    "duration": 159,
    "start_time": "2024-09-05T09:19:23.011Z"
   },
   {
    "duration": 88,
    "start_time": "2024-09-05T09:19:23.172Z"
   },
   {
    "duration": 111,
    "start_time": "2024-09-05T09:19:23.262Z"
   },
   {
    "duration": 37,
    "start_time": "2024-09-05T09:19:23.375Z"
   },
   {
    "duration": 47,
    "start_time": "2024-09-05T09:19:23.413Z"
   },
   {
    "duration": 6,
    "start_time": "2024-09-05T09:19:23.464Z"
   },
   {
    "duration": 3,
    "start_time": "2024-09-05T09:19:23.473Z"
   },
   {
    "duration": 7,
    "start_time": "2024-09-05T09:19:23.477Z"
   },
   {
    "duration": 490,
    "start_time": "2024-09-05T09:19:23.485Z"
   },
   {
    "duration": 30,
    "start_time": "2024-09-05T09:19:23.977Z"
   },
   {
    "duration": 381,
    "start_time": "2024-09-05T09:19:24.009Z"
   },
   {
    "duration": 4,
    "start_time": "2024-09-05T09:19:24.391Z"
   },
   {
    "duration": 8,
    "start_time": "2024-09-05T09:19:24.397Z"
   },
   {
    "duration": 16,
    "start_time": "2024-09-05T09:19:24.407Z"
   },
   {
    "duration": 52,
    "start_time": "2024-09-05T09:19:24.425Z"
   },
   {
    "duration": 76,
    "start_time": "2024-09-05T09:19:24.479Z"
   },
   {
    "duration": 200,
    "start_time": "2024-09-05T09:19:24.557Z"
   },
   {
    "duration": 97,
    "start_time": "2024-09-05T09:19:24.759Z"
   },
   {
    "duration": 9,
    "start_time": "2024-09-05T09:19:24.857Z"
   },
   {
    "duration": 141,
    "start_time": "2024-09-05T09:19:24.867Z"
   },
   {
    "duration": 4,
    "start_time": "2024-09-05T09:21:07.187Z"
   },
   {
    "duration": 1244,
    "start_time": "2024-09-05T09:21:12.148Z"
   },
   {
    "duration": 223,
    "start_time": "2024-09-05T09:21:13.394Z"
   },
   {
    "duration": 42,
    "start_time": "2024-09-05T09:21:13.619Z"
   },
   {
    "duration": 141,
    "start_time": "2024-09-05T09:21:13.663Z"
   },
   {
    "duration": 87,
    "start_time": "2024-09-05T09:21:13.806Z"
   },
   {
    "duration": 111,
    "start_time": "2024-09-05T09:21:13.894Z"
   },
   {
    "duration": 50,
    "start_time": "2024-09-05T09:21:14.007Z"
   },
   {
    "duration": 35,
    "start_time": "2024-09-05T09:21:14.059Z"
   },
   {
    "duration": 7,
    "start_time": "2024-09-05T09:21:14.096Z"
   },
   {
    "duration": 7,
    "start_time": "2024-09-05T09:21:14.105Z"
   },
   {
    "duration": 16,
    "start_time": "2024-09-05T09:21:14.113Z"
   },
   {
    "duration": 536,
    "start_time": "2024-09-05T09:21:14.130Z"
   },
   {
    "duration": 31,
    "start_time": "2024-09-05T09:21:14.668Z"
   },
   {
    "duration": 367,
    "start_time": "2024-09-05T09:21:14.702Z"
   },
   {
    "duration": 4,
    "start_time": "2024-09-05T09:21:15.070Z"
   },
   {
    "duration": 51,
    "start_time": "2024-09-05T09:21:15.075Z"
   },
   {
    "duration": 50,
    "start_time": "2024-09-05T09:21:15.127Z"
   },
   {
    "duration": 64,
    "start_time": "2024-09-05T09:21:15.178Z"
   },
   {
    "duration": 89,
    "start_time": "2024-09-05T09:21:15.244Z"
   },
   {
    "duration": 167,
    "start_time": "2024-09-05T09:21:15.334Z"
   },
   {
    "duration": 60,
    "start_time": "2024-09-05T09:21:15.503Z"
   },
   {
    "duration": 7,
    "start_time": "2024-09-05T09:21:15.565Z"
   },
   {
    "duration": 142,
    "start_time": "2024-09-05T09:21:15.573Z"
   },
   {
    "duration": 81,
    "start_time": "2024-09-05T09:22:12.195Z"
   },
   {
    "duration": 81,
    "start_time": "2024-09-05T09:22:16.676Z"
   },
   {
    "duration": 8,
    "start_time": "2024-09-05T09:23:00.766Z"
   },
   {
    "duration": 82,
    "start_time": "2024-09-05T09:23:03.145Z"
   },
   {
    "duration": 1246,
    "start_time": "2024-09-05T10:40:55.354Z"
   },
   {
    "duration": 223,
    "start_time": "2024-09-05T10:40:56.602Z"
   },
   {
    "duration": 27,
    "start_time": "2024-09-05T10:40:56.826Z"
   },
   {
    "duration": 144,
    "start_time": "2024-09-05T10:40:56.855Z"
   },
   {
    "duration": 82,
    "start_time": "2024-09-05T10:40:57.002Z"
   },
   {
    "duration": 113,
    "start_time": "2024-09-05T10:40:57.086Z"
   },
   {
    "duration": 48,
    "start_time": "2024-09-05T10:40:57.201Z"
   },
   {
    "duration": 32,
    "start_time": "2024-09-05T10:40:57.250Z"
   },
   {
    "duration": 6,
    "start_time": "2024-09-05T10:40:57.284Z"
   },
   {
    "duration": 22,
    "start_time": "2024-09-05T10:40:57.292Z"
   },
   {
    "duration": 20,
    "start_time": "2024-09-05T10:40:57.316Z"
   },
   {
    "duration": 442,
    "start_time": "2024-09-05T10:40:57.338Z"
   },
   {
    "duration": 36,
    "start_time": "2024-09-05T10:40:57.781Z"
   },
   {
    "duration": 353,
    "start_time": "2024-09-05T10:40:57.820Z"
   },
   {
    "duration": 4,
    "start_time": "2024-09-05T10:40:58.175Z"
   },
   {
    "duration": 11,
    "start_time": "2024-09-05T10:40:58.180Z"
   },
   {
    "duration": 6,
    "start_time": "2024-09-05T10:40:58.193Z"
   },
   {
    "duration": 55,
    "start_time": "2024-09-05T10:40:58.200Z"
   },
   {
    "duration": 73,
    "start_time": "2024-09-05T10:40:58.257Z"
   },
   {
    "duration": 175,
    "start_time": "2024-09-05T10:40:58.332Z"
   },
   {
    "duration": 55,
    "start_time": "2024-09-05T10:40:58.509Z"
   },
   {
    "duration": 11,
    "start_time": "2024-09-05T10:40:58.566Z"
   },
   {
    "duration": 178,
    "start_time": "2024-09-05T10:40:58.578Z"
   },
   {
    "duration": 1242,
    "start_time": "2024-09-05T11:14:58.670Z"
   },
   {
    "duration": 235,
    "start_time": "2024-09-05T11:14:59.915Z"
   },
   {
    "duration": 25,
    "start_time": "2024-09-05T11:15:00.155Z"
   },
   {
    "duration": 180,
    "start_time": "2024-09-05T11:15:00.182Z"
   },
   {
    "duration": 66,
    "start_time": "2024-09-05T11:15:00.365Z"
   },
   {
    "duration": 152,
    "start_time": "2024-09-05T11:15:00.432Z"
   },
   {
    "duration": 39,
    "start_time": "2024-09-05T11:15:00.585Z"
   },
   {
    "duration": 207,
    "start_time": "2024-09-05T11:15:00.626Z"
   },
   {
    "duration": 63,
    "start_time": "2024-09-05T11:15:00.835Z"
   },
   {
    "duration": 55,
    "start_time": "2024-09-05T11:15:00.900Z"
   },
   {
    "duration": 103,
    "start_time": "2024-09-05T11:15:00.958Z"
   },
   {
    "duration": 460,
    "start_time": "2024-09-05T11:15:01.063Z"
   },
   {
    "duration": 44,
    "start_time": "2024-09-05T11:15:01.525Z"
   },
   {
    "duration": 351,
    "start_time": "2024-09-05T11:15:01.572Z"
   },
   {
    "duration": 3,
    "start_time": "2024-09-05T11:15:01.925Z"
   },
   {
    "duration": 40,
    "start_time": "2024-09-05T11:15:01.929Z"
   },
   {
    "duration": 40,
    "start_time": "2024-09-05T11:15:01.970Z"
   },
   {
    "duration": 65,
    "start_time": "2024-09-05T11:15:02.012Z"
   },
   {
    "duration": 63,
    "start_time": "2024-09-05T11:15:02.079Z"
   },
   {
    "duration": 170,
    "start_time": "2024-09-05T11:15:02.152Z"
   },
   {
    "duration": 52,
    "start_time": "2024-09-05T11:15:02.325Z"
   },
   {
    "duration": 10,
    "start_time": "2024-09-05T11:15:42.182Z"
   },
   {
    "duration": 102,
    "start_time": "2024-09-05T11:16:15.975Z"
   },
   {
    "duration": 7,
    "start_time": "2024-09-05T11:17:02.566Z"
   },
   {
    "duration": 114,
    "start_time": "2024-09-05T11:17:05.326Z"
   },
   {
    "duration": 116,
    "start_time": "2024-09-05T11:43:49.956Z"
   },
   {
    "duration": 137,
    "start_time": "2024-09-05T11:45:29.577Z"
   },
   {
    "duration": 155,
    "start_time": "2024-09-05T12:26:30.448Z"
   },
   {
    "duration": 143,
    "start_time": "2024-09-05T12:26:33.686Z"
   },
   {
    "duration": 1227,
    "start_time": "2024-09-05T12:36:22.546Z"
   },
   {
    "duration": 221,
    "start_time": "2024-09-05T12:36:23.775Z"
   },
   {
    "duration": 30,
    "start_time": "2024-09-05T12:36:23.998Z"
   },
   {
    "duration": 161,
    "start_time": "2024-09-05T12:36:24.031Z"
   },
   {
    "duration": 74,
    "start_time": "2024-09-05T12:36:24.194Z"
   },
   {
    "duration": 110,
    "start_time": "2024-09-05T12:36:24.269Z"
   },
   {
    "duration": 35,
    "start_time": "2024-09-05T12:36:24.381Z"
   },
   {
    "duration": 52,
    "start_time": "2024-09-05T12:36:24.418Z"
   },
   {
    "duration": 7,
    "start_time": "2024-09-05T12:36:24.472Z"
   },
   {
    "duration": 3,
    "start_time": "2024-09-05T12:36:24.480Z"
   },
   {
    "duration": 19,
    "start_time": "2024-09-05T12:36:24.485Z"
   },
   {
    "duration": 418,
    "start_time": "2024-09-05T12:36:24.506Z"
   },
   {
    "duration": 41,
    "start_time": "2024-09-05T12:36:24.926Z"
   },
   {
    "duration": 354,
    "start_time": "2024-09-05T12:36:24.970Z"
   },
   {
    "duration": 3,
    "start_time": "2024-09-05T12:36:25.326Z"
   },
   {
    "duration": 30,
    "start_time": "2024-09-05T12:36:25.331Z"
   },
   {
    "duration": 5,
    "start_time": "2024-09-05T12:36:25.363Z"
   },
   {
    "duration": 28,
    "start_time": "2024-09-05T12:36:25.370Z"
   },
   {
    "duration": 85,
    "start_time": "2024-09-05T12:36:25.400Z"
   },
   {
    "duration": 177,
    "start_time": "2024-09-05T12:36:25.487Z"
   },
   {
    "duration": 39,
    "start_time": "2024-09-05T12:36:25.666Z"
   },
   {
    "duration": 16,
    "start_time": "2024-09-05T12:36:25.748Z"
   },
   {
    "duration": 168,
    "start_time": "2024-09-05T12:36:25.766Z"
   },
   {
    "duration": 137,
    "start_time": "2024-09-05T12:36:25.936Z"
   },
   {
    "duration": 109,
    "start_time": "2024-09-05T12:36:26.075Z"
   },
   {
    "duration": 194,
    "start_time": "2024-09-05T12:36:26.185Z"
   },
   {
    "duration": 1237,
    "start_time": "2024-09-05T13:14:05.375Z"
   },
   {
    "duration": 247,
    "start_time": "2024-09-05T13:14:06.614Z"
   },
   {
    "duration": 21,
    "start_time": "2024-09-05T13:14:06.863Z"
   },
   {
    "duration": 147,
    "start_time": "2024-09-05T13:14:06.885Z"
   },
   {
    "duration": 68,
    "start_time": "2024-09-05T13:14:07.034Z"
   },
   {
    "duration": 115,
    "start_time": "2024-09-05T13:14:07.104Z"
   },
   {
    "duration": 47,
    "start_time": "2024-09-05T13:14:07.221Z"
   },
   {
    "duration": 32,
    "start_time": "2024-09-05T13:14:07.270Z"
   },
   {
    "duration": 7,
    "start_time": "2024-09-05T13:14:07.303Z"
   },
   {
    "duration": 25,
    "start_time": "2024-09-05T13:14:07.312Z"
   },
   {
    "duration": 10,
    "start_time": "2024-09-05T13:14:07.346Z"
   },
   {
    "duration": 444,
    "start_time": "2024-09-05T13:14:07.358Z"
   },
   {
    "duration": 30,
    "start_time": "2024-09-05T13:14:07.804Z"
   },
   {
    "duration": 365,
    "start_time": "2024-09-05T13:14:07.853Z"
   },
   {
    "duration": 4,
    "start_time": "2024-09-05T13:14:08.221Z"
   },
   {
    "duration": 29,
    "start_time": "2024-09-05T13:14:08.226Z"
   },
   {
    "duration": 5,
    "start_time": "2024-09-05T13:14:08.257Z"
   },
   {
    "duration": 30,
    "start_time": "2024-09-05T13:14:08.267Z"
   },
   {
    "duration": 81,
    "start_time": "2024-09-05T13:14:08.299Z"
   },
   {
    "duration": 187,
    "start_time": "2024-09-05T13:14:08.381Z"
   },
   {
    "duration": 96,
    "start_time": "2024-09-05T13:14:08.570Z"
   },
   {
    "duration": 18,
    "start_time": "2024-09-05T13:14:08.670Z"
   },
   {
    "duration": 184,
    "start_time": "2024-09-05T13:14:08.690Z"
   },
   {
    "duration": 118,
    "start_time": "2024-09-05T13:14:08.876Z"
   },
   {
    "duration": 115,
    "start_time": "2024-09-05T13:14:08.995Z"
   },
   {
    "duration": 184,
    "start_time": "2024-09-05T13:14:09.112Z"
   },
   {
    "duration": 1503,
    "start_time": "2024-09-05T13:42:28.662Z"
   },
   {
    "duration": 855,
    "start_time": "2024-09-05T13:42:30.167Z"
   },
   {
    "duration": 42,
    "start_time": "2024-09-05T13:42:31.027Z"
   },
   {
    "duration": 199,
    "start_time": "2024-09-05T13:42:31.072Z"
   },
   {
    "duration": 77,
    "start_time": "2024-09-05T13:42:31.272Z"
   },
   {
    "duration": 131,
    "start_time": "2024-09-05T13:42:31.351Z"
   },
   {
    "duration": 58,
    "start_time": "2024-09-05T13:42:31.484Z"
   },
   {
    "duration": 32,
    "start_time": "2024-09-05T13:42:31.543Z"
   },
   {
    "duration": 6,
    "start_time": "2024-09-05T13:42:31.577Z"
   },
   {
    "duration": 32,
    "start_time": "2024-09-05T13:42:31.586Z"
   },
   {
    "duration": 13,
    "start_time": "2024-09-05T13:42:31.622Z"
   },
   {
    "duration": 491,
    "start_time": "2024-09-05T13:42:31.637Z"
   },
   {
    "duration": 32,
    "start_time": "2024-09-05T13:42:32.130Z"
   },
   {
    "duration": 375,
    "start_time": "2024-09-05T13:42:32.163Z"
   },
   {
    "duration": 3,
    "start_time": "2024-09-05T13:42:32.540Z"
   },
   {
    "duration": 17,
    "start_time": "2024-09-05T13:42:32.545Z"
   },
   {
    "duration": 7,
    "start_time": "2024-09-05T13:42:32.564Z"
   },
   {
    "duration": 40,
    "start_time": "2024-09-05T13:42:32.573Z"
   },
   {
    "duration": 81,
    "start_time": "2024-09-05T13:42:32.615Z"
   },
   {
    "duration": 547,
    "start_time": "2024-09-05T13:42:32.698Z"
   },
   {
    "duration": 66,
    "start_time": "2024-09-05T13:42:33.247Z"
   },
   {
    "duration": 9,
    "start_time": "2024-09-05T13:42:33.316Z"
   },
   {
    "duration": 185,
    "start_time": "2024-09-05T13:42:33.328Z"
   },
   {
    "duration": 130,
    "start_time": "2024-09-05T13:42:33.515Z"
   },
   {
    "duration": 126,
    "start_time": "2024-09-05T13:42:33.647Z"
   },
   {
    "duration": 210,
    "start_time": "2024-09-05T13:42:33.775Z"
   },
   {
    "duration": 6,
    "start_time": "2024-09-05T14:33:49.061Z"
   },
   {
    "duration": 4,
    "start_time": "2024-09-05T14:33:56.995Z"
   },
   {
    "duration": 4,
    "start_time": "2024-09-05T14:34:25.395Z"
   },
   {
    "duration": 5,
    "start_time": "2024-09-05T14:34:40.652Z"
   },
   {
    "duration": 4,
    "start_time": "2024-09-05T14:34:47.036Z"
   },
   {
    "duration": 12,
    "start_time": "2024-09-05T14:35:17.772Z"
   },
   {
    "duration": 24,
    "start_time": "2024-09-05T14:38:00.381Z"
   },
   {
    "duration": 108,
    "start_time": "2024-09-05T14:39:31.685Z"
   },
   {
    "duration": 107,
    "start_time": "2024-09-05T14:39:39.213Z"
   },
   {
    "duration": 106,
    "start_time": "2024-09-05T14:39:45.358Z"
   },
   {
    "duration": 178,
    "start_time": "2024-09-05T14:39:51.221Z"
   },
   {
    "duration": 1221,
    "start_time": "2024-09-05T14:40:25.862Z"
   },
   {
    "duration": 227,
    "start_time": "2024-09-05T14:40:27.085Z"
   },
   {
    "duration": 33,
    "start_time": "2024-09-05T14:40:27.314Z"
   },
   {
    "duration": 147,
    "start_time": "2024-09-05T14:40:27.349Z"
   },
   {
    "duration": 82,
    "start_time": "2024-09-05T14:40:27.498Z"
   },
   {
    "duration": 114,
    "start_time": "2024-09-05T14:40:27.582Z"
   },
   {
    "duration": 49,
    "start_time": "2024-09-05T14:40:27.698Z"
   },
   {
    "duration": 68,
    "start_time": "2024-09-05T14:40:27.749Z"
   },
   {
    "duration": 57,
    "start_time": "2024-09-05T14:40:27.819Z"
   },
   {
    "duration": 8,
    "start_time": "2024-09-05T14:40:27.879Z"
   },
   {
    "duration": 18,
    "start_time": "2024-09-05T14:40:27.889Z"
   },
   {
    "duration": 407,
    "start_time": "2024-09-05T14:40:27.909Z"
   },
   {
    "duration": 34,
    "start_time": "2024-09-05T14:40:28.318Z"
   },
   {
    "duration": 375,
    "start_time": "2024-09-05T14:40:28.353Z"
   },
   {
    "duration": 4,
    "start_time": "2024-09-05T14:40:28.730Z"
   },
   {
    "duration": 20,
    "start_time": "2024-09-05T14:40:28.746Z"
   },
   {
    "duration": 7,
    "start_time": "2024-09-05T14:40:28.768Z"
   },
   {
    "duration": 31,
    "start_time": "2024-09-05T14:40:28.777Z"
   },
   {
    "duration": 85,
    "start_time": "2024-09-05T14:40:28.810Z"
   },
   {
    "duration": 180,
    "start_time": "2024-09-05T14:40:28.896Z"
   },
   {
    "duration": 38,
    "start_time": "2024-09-05T14:40:29.078Z"
   },
   {
    "duration": 8,
    "start_time": "2024-09-05T14:40:29.145Z"
   },
   {
    "duration": 154,
    "start_time": "2024-09-05T14:40:29.155Z"
   },
   {
    "duration": 112,
    "start_time": "2024-09-05T14:40:29.311Z"
   },
   {
    "duration": 126,
    "start_time": "2024-09-05T14:40:29.425Z"
   },
   {
    "duration": 139,
    "start_time": "2024-09-05T14:40:29.552Z"
   },
   {
    "duration": 1197,
    "start_time": "2024-09-05T14:43:02.673Z"
   },
   {
    "duration": 210,
    "start_time": "2024-09-05T14:43:03.872Z"
   },
   {
    "duration": 21,
    "start_time": "2024-09-05T14:43:04.084Z"
   },
   {
    "duration": 143,
    "start_time": "2024-09-05T14:43:04.106Z"
   },
   {
    "duration": 67,
    "start_time": "2024-09-05T14:43:04.252Z"
   },
   {
    "duration": 115,
    "start_time": "2024-09-05T14:43:04.320Z"
   },
   {
    "duration": 37,
    "start_time": "2024-09-05T14:43:04.445Z"
   },
   {
    "duration": 32,
    "start_time": "2024-09-05T14:43:04.483Z"
   },
   {
    "duration": 19,
    "start_time": "2024-09-05T14:43:04.517Z"
   },
   {
    "duration": 3,
    "start_time": "2024-09-05T14:43:04.547Z"
   },
   {
    "duration": 73,
    "start_time": "2024-09-05T14:43:04.552Z"
   },
   {
    "duration": 471,
    "start_time": "2024-09-05T14:43:04.627Z"
   },
   {
    "duration": 46,
    "start_time": "2024-09-05T14:43:05.100Z"
   },
   {
    "duration": 348,
    "start_time": "2024-09-05T14:43:05.150Z"
   },
   {
    "duration": 4,
    "start_time": "2024-09-05T14:43:05.499Z"
   },
   {
    "duration": 22,
    "start_time": "2024-09-05T14:43:05.504Z"
   },
   {
    "duration": 20,
    "start_time": "2024-09-05T14:43:05.527Z"
   },
   {
    "duration": 49,
    "start_time": "2024-09-05T14:43:05.549Z"
   },
   {
    "duration": 60,
    "start_time": "2024-09-05T14:43:05.600Z"
   },
   {
    "duration": 149,
    "start_time": "2024-09-05T14:43:05.662Z"
   },
   {
    "duration": 55,
    "start_time": "2024-09-05T14:43:05.812Z"
   },
   {
    "duration": 8,
    "start_time": "2024-09-05T14:43:05.869Z"
   },
   {
    "duration": 173,
    "start_time": "2024-09-05T14:43:05.879Z"
   },
   {
    "duration": 114,
    "start_time": "2024-09-05T14:43:06.053Z"
   },
   {
    "duration": 111,
    "start_time": "2024-09-05T14:43:06.168Z"
   },
   {
    "duration": 180,
    "start_time": "2024-09-05T14:43:06.281Z"
   },
   {
    "duration": 5,
    "start_time": "2024-09-05T14:43:22.621Z"
   },
   {
    "duration": 237,
    "start_time": "2024-09-05T14:43:22.629Z"
   },
   {
    "duration": 20,
    "start_time": "2024-09-05T14:43:22.867Z"
   },
   {
    "duration": 160,
    "start_time": "2024-09-05T14:43:22.889Z"
   },
   {
    "duration": 61,
    "start_time": "2024-09-05T14:43:23.051Z"
   },
   {
    "duration": 121,
    "start_time": "2024-09-05T14:43:23.114Z"
   },
   {
    "duration": 43,
    "start_time": "2024-09-05T14:43:23.237Z"
   },
   {
    "duration": 31,
    "start_time": "2024-09-05T14:43:23.282Z"
   },
   {
    "duration": 7,
    "start_time": "2024-09-05T14:43:23.315Z"
   },
   {
    "duration": 24,
    "start_time": "2024-09-05T14:43:23.323Z"
   },
   {
    "duration": 8,
    "start_time": "2024-09-05T14:43:23.349Z"
   },
   {
    "duration": 408,
    "start_time": "2024-09-05T14:43:23.358Z"
   },
   {
    "duration": 30,
    "start_time": "2024-09-05T14:43:23.768Z"
   },
   {
    "duration": 360,
    "start_time": "2024-09-05T14:43:23.802Z"
   },
   {
    "duration": 3,
    "start_time": "2024-09-05T14:43:24.164Z"
   },
   {
    "duration": 11,
    "start_time": "2024-09-05T14:43:24.169Z"
   },
   {
    "duration": 5,
    "start_time": "2024-09-05T14:43:24.182Z"
   },
   {
    "duration": 58,
    "start_time": "2024-09-05T14:43:24.189Z"
   },
   {
    "duration": 63,
    "start_time": "2024-09-05T14:43:24.249Z"
   },
   {
    "duration": 32,
    "start_time": "2024-09-05T14:43:24.314Z"
   },
   {
    "duration": 36,
    "start_time": "2024-09-05T14:43:24.348Z"
   },
   {
    "duration": 7,
    "start_time": "2024-09-05T14:43:24.386Z"
   },
   {
    "duration": 126,
    "start_time": "2024-09-05T14:43:24.394Z"
   },
   {
    "duration": 128,
    "start_time": "2024-09-05T14:43:24.521Z"
   },
   {
    "duration": 117,
    "start_time": "2024-09-05T14:43:24.651Z"
   },
   {
    "duration": 155,
    "start_time": "2024-09-05T14:43:24.770Z"
   },
   {
    "duration": 1233,
    "start_time": "2024-09-05T16:42:41.117Z"
   },
   {
    "duration": 218,
    "start_time": "2024-09-05T16:42:42.352Z"
   },
   {
    "duration": 20,
    "start_time": "2024-09-05T16:42:42.572Z"
   },
   {
    "duration": 159,
    "start_time": "2024-09-05T16:42:42.594Z"
   },
   {
    "duration": 84,
    "start_time": "2024-09-05T16:42:42.755Z"
   },
   {
    "duration": 122,
    "start_time": "2024-09-05T16:42:42.841Z"
   },
   {
    "duration": 53,
    "start_time": "2024-09-05T16:42:42.965Z"
   },
   {
    "duration": 31,
    "start_time": "2024-09-05T16:42:43.019Z"
   },
   {
    "duration": 6,
    "start_time": "2024-09-05T16:42:43.052Z"
   },
   {
    "duration": 7,
    "start_time": "2024-09-05T16:42:43.059Z"
   },
   {
    "duration": 53,
    "start_time": "2024-09-05T16:42:43.068Z"
   },
   {
    "duration": 468,
    "start_time": "2024-09-05T16:42:43.122Z"
   },
   {
    "duration": 45,
    "start_time": "2024-09-05T16:42:43.592Z"
   },
   {
    "duration": 397,
    "start_time": "2024-09-05T16:42:43.640Z"
   },
   {
    "duration": 4,
    "start_time": "2024-09-05T16:42:44.039Z"
   },
   {
    "duration": 22,
    "start_time": "2024-09-05T16:42:44.045Z"
   },
   {
    "duration": 4,
    "start_time": "2024-09-05T16:42:44.070Z"
   },
   {
    "duration": 43,
    "start_time": "2024-09-05T16:42:44.076Z"
   },
   {
    "duration": 67,
    "start_time": "2024-09-05T16:42:44.122Z"
   },
   {
    "duration": 408,
    "start_time": "2024-09-05T16:42:44.191Z"
   },
   {
    "duration": 39,
    "start_time": "2024-09-05T16:42:44.600Z"
   },
   {
    "duration": 8,
    "start_time": "2024-09-05T16:42:44.641Z"
   },
   {
    "duration": 190,
    "start_time": "2024-09-05T16:42:44.650Z"
   },
   {
    "duration": 143,
    "start_time": "2024-09-05T16:42:44.842Z"
   },
   {
    "duration": 137,
    "start_time": "2024-09-05T16:42:44.987Z"
   },
   {
    "duration": 152,
    "start_time": "2024-09-05T16:42:45.126Z"
   }
  ],
  "kernelspec": {
   "display_name": "Python 3 (ipykernel)",
   "language": "python",
   "name": "python3"
  },
  "language_info": {
   "codemirror_mode": {
    "name": "ipython",
    "version": 3
   },
   "file_extension": ".py",
   "mimetype": "text/x-python",
   "name": "python",
   "nbconvert_exporter": "python",
   "pygments_lexer": "ipython3",
   "version": "3.11.7"
  },
  "toc": {
   "base_numbering": 1,
   "nav_menu": {},
   "number_sections": true,
   "sideBar": true,
   "skip_h1_title": true,
   "title_cell": "Table of Contents",
   "title_sidebar": "Contents",
   "toc_cell": false,
   "toc_position": {},
   "toc_section_display": true,
   "toc_window_display": false
  }
 },
 "nbformat": 4,
 "nbformat_minor": 2
}
