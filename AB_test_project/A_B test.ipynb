{
 "cells": [
  {
   "cell_type": "markdown",
   "metadata": {},
   "source": [
    "# Decision-Making Based on Business Metrics"
   ]
  },
  {
   "cell_type": "markdown",
   "metadata": {},
   "source": [
    "We will conduct an analysis of a large online store. Together with the marketing department, was prepared a list of hypotheses to increase revenue."
   ]
  },
  {
   "cell_type": "markdown",
   "metadata": {},
   "source": [
    "**Research Objectives**  \n",
    "- Prioritize hypotheses  \n",
    "- Perform and analyze A/B test results  \n",
    "\n",
    "**Tasks Required for Analyzing A/B Test Results:**  \n",
    "- Plot cumulative revenue by groups.  \n",
    "- Plot cumulative average order value by groups.  \n",
    "- Plot the relative difference in cumulative average order value between Group B and Group A.  \n",
    "- Plot cumulative conversion rate by groups.  \n",
    "- Plot the relative difference in cumulative conversion rate between Group B and Group A.  \n",
    "- Create a scatter plot of the number of orders per user.  \n",
    "- Calculate the 95th and 99th percentiles of orders per user to determine thresholds for identifying outlier users.  \n",
    "- Create a scatter plot of order values.  \n",
    "- Calculate the 95th and 99th percentiles of order values to set thresholds for identifying outlier orders.  \n",
    "- Calculate the statistical significance of conversion differences between the groups based on \"raw\" data.  \n",
    "- Calculate the statistical significance of differences in average order value between the groups based on \"raw\" data.  \n",
    "- Calculate the statistical significance of conversion differences between the groups based on \"cleaned\" data.  \n",
    "- Calculate the statistical significance of differences in average order value between the groups based on \"cleaned\" data.  \n",
    "- Draw conclusions and make assumptions."
   ]
  },
  {
   "cell_type": "markdown",
   "metadata": {},
   "source": [
    "**Data Description**  \n",
    "\n",
    "**Data for Part One**  \n",
    "\n",
    "**File /datasets/hypothesis.csv**  \n",
    "- `Hypothesis` — brief description of the hypothesis;  \n",
    "- `Reach` — user reach on a scale of 1 to 10;  \n",
    "- `Impact` — impact on users on a scale of 1 to 10;  \n",
    "- `Confidence` — confidence in the hypothesis on a scale of 1 to 10;  \n",
    "- `Efforts` — resources required to test the hypothesis on a scale of 1 to 10. The higher the Efforts value, the more expensive the hypothesis testing.  \n",
    "\n",
    "**Data for Part Two**  \n",
    "\n",
    "**File /datasets/orders.csv**  \n",
    "- `transactionId` — order ID;  \n",
    "- `visitorId` — ID of the user who placed the order;  \n",
    "- `date` — date the order was placed;  \n",
    "- `revenue` — order revenue;  \n",
    "- `group` — A/B test group to which the order belongs.  \n",
    "\n",
    "**File /datasets/visitors.csv**  \n",
    "- `date` — date;  \n",
    "- `group` — A/B test group;  \n",
    "- `visitors` — number of users on the specified date in the specified A/B test group."
   ]
  },
  {
   "cell_type": "markdown",
   "metadata": {},
   "source": [
    "## Data preprocessing"
   ]
  },
  {
   "cell_type": "code",
   "execution_count": 1,
   "metadata": {},
   "outputs": [],
   "source": [
    "# import libraries\n",
    "import pandas as pd\n",
    "import matplotlib.pyplot as plt\n",
    "import math\n",
    "import seaborn as sns\n",
    "from scipy import stats as st\n",
    "import numpy as np \n",
    "import datetime as dt"
   ]
  },
  {
   "cell_type": "code",
   "execution_count": 2,
   "metadata": {},
   "outputs": [],
   "source": [
    "# read dataframes\n",
    "hypothesis = pd.read_csv('/Users/a1/Downloads/hypothesis.csv')\n",
    "orders = pd.read_csv('/Users/a1/Downloads/orders.csv')\n",
    "visitors = pd.read_csv('/Users/a1/Downloads/visitors.csv')"
   ]
  },
  {
   "cell_type": "markdown",
   "metadata": {},
   "source": [
    "**Consider the hypothesis table**"
   ]
  },
  {
   "cell_type": "code",
   "execution_count": 3,
   "metadata": {},
   "outputs": [
    {
     "data": {
      "text/html": [
       "<div>\n",
       "<style scoped>\n",
       "    .dataframe tbody tr th:only-of-type {\n",
       "        vertical-align: middle;\n",
       "    }\n",
       "\n",
       "    .dataframe tbody tr th {\n",
       "        vertical-align: top;\n",
       "    }\n",
       "\n",
       "    .dataframe thead th {\n",
       "        text-align: right;\n",
       "    }\n",
       "</style>\n",
       "<table border=\"1\" class=\"dataframe\">\n",
       "  <thead>\n",
       "    <tr style=\"text-align: right;\">\n",
       "      <th></th>\n",
       "      <th>Hypothesis</th>\n",
       "      <th>Reach</th>\n",
       "      <th>Impact</th>\n",
       "      <th>Confidence</th>\n",
       "      <th>Efforts</th>\n",
       "    </tr>\n",
       "  </thead>\n",
       "  <tbody>\n",
       "    <tr>\n",
       "      <th>0</th>\n",
       "      <td>Добавить два новых канала привлечения трафика,...</td>\n",
       "      <td>3</td>\n",
       "      <td>10</td>\n",
       "      <td>8</td>\n",
       "      <td>6</td>\n",
       "    </tr>\n",
       "    <tr>\n",
       "      <th>1</th>\n",
       "      <td>Запустить собственную службу доставки, что сок...</td>\n",
       "      <td>2</td>\n",
       "      <td>5</td>\n",
       "      <td>4</td>\n",
       "      <td>10</td>\n",
       "    </tr>\n",
       "    <tr>\n",
       "      <th>2</th>\n",
       "      <td>Добавить блоки рекомендаций товаров на сайт ин...</td>\n",
       "      <td>8</td>\n",
       "      <td>3</td>\n",
       "      <td>7</td>\n",
       "      <td>3</td>\n",
       "    </tr>\n",
       "    <tr>\n",
       "      <th>3</th>\n",
       "      <td>Изменить структура категорий, что увеличит кон...</td>\n",
       "      <td>8</td>\n",
       "      <td>3</td>\n",
       "      <td>3</td>\n",
       "      <td>8</td>\n",
       "    </tr>\n",
       "    <tr>\n",
       "      <th>4</th>\n",
       "      <td>Изменить цвет фона главной страницы, чтобы уве...</td>\n",
       "      <td>3</td>\n",
       "      <td>1</td>\n",
       "      <td>1</td>\n",
       "      <td>1</td>\n",
       "    </tr>\n",
       "  </tbody>\n",
       "</table>\n",
       "</div>"
      ],
      "text/plain": [
       "                                          Hypothesis  Reach  Impact  \\\n",
       "0  Добавить два новых канала привлечения трафика,...      3      10   \n",
       "1  Запустить собственную службу доставки, что сок...      2       5   \n",
       "2  Добавить блоки рекомендаций товаров на сайт ин...      8       3   \n",
       "3  Изменить структура категорий, что увеличит кон...      8       3   \n",
       "4  Изменить цвет фона главной страницы, чтобы уве...      3       1   \n",
       "\n",
       "   Confidence  Efforts  \n",
       "0           8        6  \n",
       "1           4       10  \n",
       "2           7        3  \n",
       "3           3        8  \n",
       "4           1        1  "
      ]
     },
     "metadata": {},
     "output_type": "display_data"
    }
   ],
   "source": [
    "# look on the data\n",
    "display(hypothesis.head())"
   ]
  },
  {
   "cell_type": "code",
   "execution_count": 4,
   "metadata": {},
   "outputs": [
    {
     "name": "stdout",
     "output_type": "stream",
     "text": [
      "<class 'pandas.core.frame.DataFrame'>\n",
      "RangeIndex: 9 entries, 0 to 8\n",
      "Data columns (total 5 columns):\n",
      " #   Column      Non-Null Count  Dtype \n",
      "---  ------      --------------  ----- \n",
      " 0   Hypothesis  9 non-null      object\n",
      " 1   Reach       9 non-null      int64 \n",
      " 2   Impact      9 non-null      int64 \n",
      " 3   Confidence  9 non-null      int64 \n",
      " 4   Efforts     9 non-null      int64 \n",
      "dtypes: int64(4), object(1)\n",
      "memory usage: 492.0+ bytes\n"
     ]
    }
   ],
   "source": [
    "# general information\n",
    "hypothesis.info()"
   ]
  },
  {
   "cell_type": "code",
   "execution_count": 5,
   "metadata": {},
   "outputs": [
    {
     "data": {
      "text/plain": [
       "0"
      ]
     },
     "execution_count": 5,
     "metadata": {},
     "output_type": "execute_result"
    }
   ],
   "source": [
    "# check the number of duplicates\n",
    "hypothesis.duplicated().sum()"
   ]
  },
  {
   "cell_type": "markdown",
   "metadata": {},
   "source": [
    "There are no missing values and no duplicates in the table, the data type is correct for each column, but the column names are not written in accordance with the code style. Let's change the names"
   ]
  },
  {
   "cell_type": "code",
   "execution_count": 6,
   "metadata": {},
   "outputs": [],
   "source": [
    "# change the case of the headers\n",
    "hypothesis.columns = hypothesis.columns.str.lower()"
   ]
  },
  {
   "cell_type": "markdown",
   "metadata": {},
   "source": [
    "**Consider the orders table**"
   ]
  },
  {
   "cell_type": "code",
   "execution_count": 7,
   "metadata": {},
   "outputs": [
    {
     "data": {
      "text/html": [
       "<div>\n",
       "<style scoped>\n",
       "    .dataframe tbody tr th:only-of-type {\n",
       "        vertical-align: middle;\n",
       "    }\n",
       "\n",
       "    .dataframe tbody tr th {\n",
       "        vertical-align: top;\n",
       "    }\n",
       "\n",
       "    .dataframe thead th {\n",
       "        text-align: right;\n",
       "    }\n",
       "</style>\n",
       "<table border=\"1\" class=\"dataframe\">\n",
       "  <thead>\n",
       "    <tr style=\"text-align: right;\">\n",
       "      <th></th>\n",
       "      <th>transactionId</th>\n",
       "      <th>visitorId</th>\n",
       "      <th>date</th>\n",
       "      <th>revenue</th>\n",
       "      <th>group</th>\n",
       "    </tr>\n",
       "  </thead>\n",
       "  <tbody>\n",
       "    <tr>\n",
       "      <th>0</th>\n",
       "      <td>3667963787</td>\n",
       "      <td>3312258926</td>\n",
       "      <td>2019-08-15</td>\n",
       "      <td>1650</td>\n",
       "      <td>B</td>\n",
       "    </tr>\n",
       "    <tr>\n",
       "      <th>1</th>\n",
       "      <td>2804400009</td>\n",
       "      <td>3642806036</td>\n",
       "      <td>2019-08-15</td>\n",
       "      <td>730</td>\n",
       "      <td>B</td>\n",
       "    </tr>\n",
       "    <tr>\n",
       "      <th>2</th>\n",
       "      <td>2961555356</td>\n",
       "      <td>4069496402</td>\n",
       "      <td>2019-08-15</td>\n",
       "      <td>400</td>\n",
       "      <td>A</td>\n",
       "    </tr>\n",
       "    <tr>\n",
       "      <th>3</th>\n",
       "      <td>3797467345</td>\n",
       "      <td>1196621759</td>\n",
       "      <td>2019-08-15</td>\n",
       "      <td>9759</td>\n",
       "      <td>B</td>\n",
       "    </tr>\n",
       "    <tr>\n",
       "      <th>4</th>\n",
       "      <td>2282983706</td>\n",
       "      <td>2322279887</td>\n",
       "      <td>2019-08-15</td>\n",
       "      <td>2308</td>\n",
       "      <td>B</td>\n",
       "    </tr>\n",
       "  </tbody>\n",
       "</table>\n",
       "</div>"
      ],
      "text/plain": [
       "   transactionId   visitorId        date  revenue group\n",
       "0     3667963787  3312258926  2019-08-15     1650     B\n",
       "1     2804400009  3642806036  2019-08-15      730     B\n",
       "2     2961555356  4069496402  2019-08-15      400     A\n",
       "3     3797467345  1196621759  2019-08-15     9759     B\n",
       "4     2282983706  2322279887  2019-08-15     2308     B"
      ]
     },
     "metadata": {},
     "output_type": "display_data"
    }
   ],
   "source": [
    "# look on the table\n",
    "display(orders.head())"
   ]
  },
  {
   "cell_type": "code",
   "execution_count": 8,
   "metadata": {},
   "outputs": [
    {
     "name": "stdout",
     "output_type": "stream",
     "text": [
      "<class 'pandas.core.frame.DataFrame'>\n",
      "RangeIndex: 1197 entries, 0 to 1196\n",
      "Data columns (total 5 columns):\n",
      " #   Column         Non-Null Count  Dtype \n",
      "---  ------         --------------  ----- \n",
      " 0   transactionId  1197 non-null   int64 \n",
      " 1   visitorId      1197 non-null   int64 \n",
      " 2   date           1197 non-null   object\n",
      " 3   revenue        1197 non-null   int64 \n",
      " 4   group          1197 non-null   object\n",
      "dtypes: int64(3), object(2)\n",
      "memory usage: 46.9+ KB\n"
     ]
    }
   ],
   "source": [
    "# general information\n",
    "orders.info()"
   ]
  },
  {
   "cell_type": "code",
   "execution_count": 9,
   "metadata": {},
   "outputs": [
    {
     "data": {
      "text/plain": [
       "0"
      ]
     },
     "execution_count": 9,
     "metadata": {},
     "output_type": "execute_result"
    }
   ],
   "source": [
    "# check the number of duplicates\n",
    "orders.duplicated().sum()"
   ]
  },
  {
   "cell_type": "markdown",
   "metadata": {},
   "source": [
    "There are no missing values and no duplicates in the table, the data type is incorrect for the date column and the column names are not written in accordance with the code style. Change the data type and column names"
   ]
  },
  {
   "cell_type": "code",
   "execution_count": 10,
   "metadata": {},
   "outputs": [
    {
     "name": "stdout",
     "output_type": "stream",
     "text": [
      "<class 'pandas.core.frame.DataFrame'>\n",
      "RangeIndex: 1197 entries, 0 to 1196\n",
      "Data columns (total 5 columns):\n",
      " #   Column          Non-Null Count  Dtype         \n",
      "---  ------          --------------  -----         \n",
      " 0   transaction_id  1197 non-null   int64         \n",
      " 1   visitor_id      1197 non-null   int64         \n",
      " 2   date            1197 non-null   datetime64[ns]\n",
      " 3   revenue         1197 non-null   int64         \n",
      " 4   group           1197 non-null   object        \n",
      "dtypes: datetime64[ns](1), int64(3), object(1)\n",
      "memory usage: 46.9+ KB\n"
     ]
    }
   ],
   "source": [
    "# rename names of the columns \n",
    "orders = orders.rename(columns={'transactionId': 'transaction_id', 'visitorId': 'visitor_id'})\n",
    "# change data type\n",
    "orders['date'] = pd.to_datetime(orders['date'], format='%Y-%m-%d')\n",
    "orders.info()"
   ]
  },
  {
   "cell_type": "markdown",
   "metadata": {},
   "source": [
    "**Consider the visitors table**"
   ]
  },
  {
   "cell_type": "code",
   "execution_count": 11,
   "metadata": {},
   "outputs": [
    {
     "data": {
      "text/html": [
       "<div>\n",
       "<style scoped>\n",
       "    .dataframe tbody tr th:only-of-type {\n",
       "        vertical-align: middle;\n",
       "    }\n",
       "\n",
       "    .dataframe tbody tr th {\n",
       "        vertical-align: top;\n",
       "    }\n",
       "\n",
       "    .dataframe thead th {\n",
       "        text-align: right;\n",
       "    }\n",
       "</style>\n",
       "<table border=\"1\" class=\"dataframe\">\n",
       "  <thead>\n",
       "    <tr style=\"text-align: right;\">\n",
       "      <th></th>\n",
       "      <th>date</th>\n",
       "      <th>group</th>\n",
       "      <th>visitors</th>\n",
       "    </tr>\n",
       "  </thead>\n",
       "  <tbody>\n",
       "    <tr>\n",
       "      <th>0</th>\n",
       "      <td>2019-08-01</td>\n",
       "      <td>A</td>\n",
       "      <td>719</td>\n",
       "    </tr>\n",
       "    <tr>\n",
       "      <th>1</th>\n",
       "      <td>2019-08-02</td>\n",
       "      <td>A</td>\n",
       "      <td>619</td>\n",
       "    </tr>\n",
       "    <tr>\n",
       "      <th>2</th>\n",
       "      <td>2019-08-03</td>\n",
       "      <td>A</td>\n",
       "      <td>507</td>\n",
       "    </tr>\n",
       "    <tr>\n",
       "      <th>3</th>\n",
       "      <td>2019-08-04</td>\n",
       "      <td>A</td>\n",
       "      <td>717</td>\n",
       "    </tr>\n",
       "    <tr>\n",
       "      <th>4</th>\n",
       "      <td>2019-08-05</td>\n",
       "      <td>A</td>\n",
       "      <td>756</td>\n",
       "    </tr>\n",
       "  </tbody>\n",
       "</table>\n",
       "</div>"
      ],
      "text/plain": [
       "         date group  visitors\n",
       "0  2019-08-01     A       719\n",
       "1  2019-08-02     A       619\n",
       "2  2019-08-03     A       507\n",
       "3  2019-08-04     A       717\n",
       "4  2019-08-05     A       756"
      ]
     },
     "metadata": {},
     "output_type": "display_data"
    }
   ],
   "source": [
    "# look on the table\n",
    "display(visitors.head())"
   ]
  },
  {
   "cell_type": "code",
   "execution_count": 12,
   "metadata": {},
   "outputs": [
    {
     "name": "stdout",
     "output_type": "stream",
     "text": [
      "<class 'pandas.core.frame.DataFrame'>\n",
      "RangeIndex: 62 entries, 0 to 61\n",
      "Data columns (total 3 columns):\n",
      " #   Column    Non-Null Count  Dtype \n",
      "---  ------    --------------  ----- \n",
      " 0   date      62 non-null     object\n",
      " 1   group     62 non-null     object\n",
      " 2   visitors  62 non-null     int64 \n",
      "dtypes: int64(1), object(2)\n",
      "memory usage: 1.6+ KB\n"
     ]
    }
   ],
   "source": [
    "# general information\n",
    "visitors.info()"
   ]
  },
  {
   "cell_type": "code",
   "execution_count": 13,
   "metadata": {},
   "outputs": [
    {
     "data": {
      "text/plain": [
       "0"
      ]
     },
     "execution_count": 13,
     "metadata": {},
     "output_type": "execute_result"
    }
   ],
   "source": [
    "# check the number of duplicates\n",
    "visitors.duplicated().sum()"
   ]
  },
  {
   "cell_type": "markdown",
   "metadata": {},
   "source": [
    "There are no missing vaalues and no duplicates in the table, the data type is incorrect for the `date` column. Change the data type"
   ]
  },
  {
   "cell_type": "code",
   "execution_count": 14,
   "metadata": {},
   "outputs": [
    {
     "name": "stdout",
     "output_type": "stream",
     "text": [
      "<class 'pandas.core.frame.DataFrame'>\n",
      "RangeIndex: 62 entries, 0 to 61\n",
      "Data columns (total 3 columns):\n",
      " #   Column    Non-Null Count  Dtype         \n",
      "---  ------    --------------  -----         \n",
      " 0   date      62 non-null     datetime64[ns]\n",
      " 1   group     62 non-null     object        \n",
      " 2   visitors  62 non-null     int64         \n",
      "dtypes: datetime64[ns](1), int64(1), object(1)\n",
      "memory usage: 1.6+ KB\n"
     ]
    }
   ],
   "source": [
    "visitors['date'] = pd.to_datetime(visitors['date'], format='%Y-%m-%d')\n",
    "visitors.info()"
   ]
  },
  {
   "cell_type": "markdown",
   "metadata": {},
   "source": [
    "We have reviewed all the tables and performed data preprocessing. Then start prioritizing hypotheses."
   ]
  },
  {
   "cell_type": "markdown",
   "metadata": {},
   "source": [
    "## Prioritization of hypotheses"
   ]
  },
  {
   "cell_type": "markdown",
   "metadata": {},
   "source": [
    "The file `/datasets/hypothesis.csv` contains 9 hypotheses for increasing the revenue of an online store with the specified parameters Reach, Impact, Confidence, Effort."
   ]
  },
  {
   "cell_type": "markdown",
   "metadata": {},
   "source": [
    "Let's use the ICE framework to prioritize hypotheses. Sort them in descending order of priority."
   ]
  },
  {
   "cell_type": "code",
   "execution_count": 15,
   "metadata": {
    "scrolled": true
   },
   "outputs": [
    {
     "data": {
      "text/html": [
       "<div>\n",
       "<style scoped>\n",
       "    .dataframe tbody tr th:only-of-type {\n",
       "        vertical-align: middle;\n",
       "    }\n",
       "\n",
       "    .dataframe tbody tr th {\n",
       "        vertical-align: top;\n",
       "    }\n",
       "\n",
       "    .dataframe thead th {\n",
       "        text-align: right;\n",
       "    }\n",
       "</style>\n",
       "<table border=\"1\" class=\"dataframe\">\n",
       "  <thead>\n",
       "    <tr style=\"text-align: right;\">\n",
       "      <th></th>\n",
       "      <th>hypothesis</th>\n",
       "      <th>reach</th>\n",
       "      <th>impact</th>\n",
       "      <th>confidence</th>\n",
       "      <th>efforts</th>\n",
       "      <th>ICE</th>\n",
       "    </tr>\n",
       "  </thead>\n",
       "  <tbody>\n",
       "    <tr>\n",
       "      <th>8</th>\n",
       "      <td>Запустить акцию, дающую скидку на товар в день рождения</td>\n",
       "      <td>1</td>\n",
       "      <td>9</td>\n",
       "      <td>9</td>\n",
       "      <td>5</td>\n",
       "      <td>16.200000</td>\n",
       "    </tr>\n",
       "    <tr>\n",
       "      <th>0</th>\n",
       "      <td>Добавить два новых канала привлечения трафика, что позволит привлекать на 30% больше пользователей</td>\n",
       "      <td>3</td>\n",
       "      <td>10</td>\n",
       "      <td>8</td>\n",
       "      <td>6</td>\n",
       "      <td>13.333333</td>\n",
       "    </tr>\n",
       "    <tr>\n",
       "      <th>7</th>\n",
       "      <td>Добавить форму подписки на все основные страницы, чтобы собрать базу клиентов для email-рассылок</td>\n",
       "      <td>10</td>\n",
       "      <td>7</td>\n",
       "      <td>8</td>\n",
       "      <td>5</td>\n",
       "      <td>11.200000</td>\n",
       "    </tr>\n",
       "    <tr>\n",
       "      <th>6</th>\n",
       "      <td>Показать на главной странице баннеры с актуальными акциями и распродажами, чтобы увеличить конверсию</td>\n",
       "      <td>5</td>\n",
       "      <td>3</td>\n",
       "      <td>8</td>\n",
       "      <td>3</td>\n",
       "      <td>8.000000</td>\n",
       "    </tr>\n",
       "    <tr>\n",
       "      <th>2</th>\n",
       "      <td>Добавить блоки рекомендаций товаров на сайт интернет магазина, чтобы повысить конверсию и средний чек заказа</td>\n",
       "      <td>8</td>\n",
       "      <td>3</td>\n",
       "      <td>7</td>\n",
       "      <td>3</td>\n",
       "      <td>7.000000</td>\n",
       "    </tr>\n",
       "    <tr>\n",
       "      <th>1</th>\n",
       "      <td>Запустить собственную службу доставки, что сократит срок доставки заказов</td>\n",
       "      <td>2</td>\n",
       "      <td>5</td>\n",
       "      <td>4</td>\n",
       "      <td>10</td>\n",
       "      <td>2.000000</td>\n",
       "    </tr>\n",
       "    <tr>\n",
       "      <th>5</th>\n",
       "      <td>Добавить страницу отзывов клиентов о магазине, что позволит увеличить количество заказов</td>\n",
       "      <td>3</td>\n",
       "      <td>2</td>\n",
       "      <td>2</td>\n",
       "      <td>3</td>\n",
       "      <td>1.333333</td>\n",
       "    </tr>\n",
       "    <tr>\n",
       "      <th>3</th>\n",
       "      <td>Изменить структура категорий, что увеличит конверсию, т.к. пользователи быстрее найдут нужный товар</td>\n",
       "      <td>8</td>\n",
       "      <td>3</td>\n",
       "      <td>3</td>\n",
       "      <td>8</td>\n",
       "      <td>1.125000</td>\n",
       "    </tr>\n",
       "    <tr>\n",
       "      <th>4</th>\n",
       "      <td>Изменить цвет фона главной страницы, чтобы увеличить вовлеченность пользователей</td>\n",
       "      <td>3</td>\n",
       "      <td>1</td>\n",
       "      <td>1</td>\n",
       "      <td>1</td>\n",
       "      <td>1.000000</td>\n",
       "    </tr>\n",
       "  </tbody>\n",
       "</table>\n",
       "</div>"
      ],
      "text/plain": [
       "                                                                                                     hypothesis  \\\n",
       "8                                                       Запустить акцию, дающую скидку на товар в день рождения   \n",
       "0            Добавить два новых канала привлечения трафика, что позволит привлекать на 30% больше пользователей   \n",
       "7              Добавить форму подписки на все основные страницы, чтобы собрать базу клиентов для email-рассылок   \n",
       "6          Показать на главной странице баннеры с актуальными акциями и распродажами, чтобы увеличить конверсию   \n",
       "2  Добавить блоки рекомендаций товаров на сайт интернет магазина, чтобы повысить конверсию и средний чек заказа   \n",
       "1                                     Запустить собственную службу доставки, что сократит срок доставки заказов   \n",
       "5                      Добавить страницу отзывов клиентов о магазине, что позволит увеличить количество заказов   \n",
       "3           Изменить структура категорий, что увеличит конверсию, т.к. пользователи быстрее найдут нужный товар   \n",
       "4                              Изменить цвет фона главной страницы, чтобы увеличить вовлеченность пользователей   \n",
       "\n",
       "   reach  impact  confidence  efforts        ICE  \n",
       "8      1       9           9        5  16.200000  \n",
       "0      3      10           8        6  13.333333  \n",
       "7     10       7           8        5  11.200000  \n",
       "6      5       3           8        3   8.000000  \n",
       "2      8       3           7        3   7.000000  \n",
       "1      2       5           4       10   2.000000  \n",
       "5      3       2           2        3   1.333333  \n",
       "3      8       3           3        8   1.125000  \n",
       "4      3       1           1        1   1.000000  "
      ]
     },
     "metadata": {},
     "output_type": "display_data"
    }
   ],
   "source": [
    "# perform prioritization by ICE\n",
    "hypothesis['ICE'] = (hypothesis['impact'] *  hypothesis['confidence']) / hypothesis['efforts']\n",
    "hypothesis = hypothesis.sort_values(by='ICE', ascending=False)\n",
    "\n",
    "# set the maximum column width\n",
    "pd.set_option('display.max_colwidth', None)\n",
    "\n",
    "display(hypothesis)"
   ]
  },
  {
   "cell_type": "markdown",
   "metadata": {},
   "source": [
    "The most promising hypotheses based on the ICE score are those with indices 8, 0, and 7."
   ]
  },
  {
   "cell_type": "markdown",
   "metadata": {},
   "source": [
    "Use the RICE framework to prioritize hypotheses. Sort them in descending order of priority."
   ]
  },
  {
   "cell_type": "code",
   "execution_count": 16,
   "metadata": {},
   "outputs": [
    {
     "data": {
      "text/html": [
       "<div>\n",
       "<style scoped>\n",
       "    .dataframe tbody tr th:only-of-type {\n",
       "        vertical-align: middle;\n",
       "    }\n",
       "\n",
       "    .dataframe tbody tr th {\n",
       "        vertical-align: top;\n",
       "    }\n",
       "\n",
       "    .dataframe thead th {\n",
       "        text-align: right;\n",
       "    }\n",
       "</style>\n",
       "<table border=\"1\" class=\"dataframe\">\n",
       "  <thead>\n",
       "    <tr style=\"text-align: right;\">\n",
       "      <th></th>\n",
       "      <th>hypothesis</th>\n",
       "      <th>reach</th>\n",
       "      <th>impact</th>\n",
       "      <th>confidence</th>\n",
       "      <th>efforts</th>\n",
       "      <th>ICE</th>\n",
       "      <th>RICE</th>\n",
       "    </tr>\n",
       "  </thead>\n",
       "  <tbody>\n",
       "    <tr>\n",
       "      <th>7</th>\n",
       "      <td>Добавить форму подписки на все основные страницы, чтобы собрать базу клиентов для email-рассылок</td>\n",
       "      <td>10</td>\n",
       "      <td>7</td>\n",
       "      <td>8</td>\n",
       "      <td>5</td>\n",
       "      <td>11.200000</td>\n",
       "      <td>112.0</td>\n",
       "    </tr>\n",
       "    <tr>\n",
       "      <th>2</th>\n",
       "      <td>Добавить блоки рекомендаций товаров на сайт интернет магазина, чтобы повысить конверсию и средний чек заказа</td>\n",
       "      <td>8</td>\n",
       "      <td>3</td>\n",
       "      <td>7</td>\n",
       "      <td>3</td>\n",
       "      <td>7.000000</td>\n",
       "      <td>56.0</td>\n",
       "    </tr>\n",
       "    <tr>\n",
       "      <th>0</th>\n",
       "      <td>Добавить два новых канала привлечения трафика, что позволит привлекать на 30% больше пользователей</td>\n",
       "      <td>3</td>\n",
       "      <td>10</td>\n",
       "      <td>8</td>\n",
       "      <td>6</td>\n",
       "      <td>13.333333</td>\n",
       "      <td>40.0</td>\n",
       "    </tr>\n",
       "    <tr>\n",
       "      <th>6</th>\n",
       "      <td>Показать на главной странице баннеры с актуальными акциями и распродажами, чтобы увеличить конверсию</td>\n",
       "      <td>5</td>\n",
       "      <td>3</td>\n",
       "      <td>8</td>\n",
       "      <td>3</td>\n",
       "      <td>8.000000</td>\n",
       "      <td>40.0</td>\n",
       "    </tr>\n",
       "    <tr>\n",
       "      <th>8</th>\n",
       "      <td>Запустить акцию, дающую скидку на товар в день рождения</td>\n",
       "      <td>1</td>\n",
       "      <td>9</td>\n",
       "      <td>9</td>\n",
       "      <td>5</td>\n",
       "      <td>16.200000</td>\n",
       "      <td>16.2</td>\n",
       "    </tr>\n",
       "    <tr>\n",
       "      <th>3</th>\n",
       "      <td>Изменить структура категорий, что увеличит конверсию, т.к. пользователи быстрее найдут нужный товар</td>\n",
       "      <td>8</td>\n",
       "      <td>3</td>\n",
       "      <td>3</td>\n",
       "      <td>8</td>\n",
       "      <td>1.125000</td>\n",
       "      <td>9.0</td>\n",
       "    </tr>\n",
       "    <tr>\n",
       "      <th>1</th>\n",
       "      <td>Запустить собственную службу доставки, что сократит срок доставки заказов</td>\n",
       "      <td>2</td>\n",
       "      <td>5</td>\n",
       "      <td>4</td>\n",
       "      <td>10</td>\n",
       "      <td>2.000000</td>\n",
       "      <td>4.0</td>\n",
       "    </tr>\n",
       "    <tr>\n",
       "      <th>5</th>\n",
       "      <td>Добавить страницу отзывов клиентов о магазине, что позволит увеличить количество заказов</td>\n",
       "      <td>3</td>\n",
       "      <td>2</td>\n",
       "      <td>2</td>\n",
       "      <td>3</td>\n",
       "      <td>1.333333</td>\n",
       "      <td>4.0</td>\n",
       "    </tr>\n",
       "    <tr>\n",
       "      <th>4</th>\n",
       "      <td>Изменить цвет фона главной страницы, чтобы увеличить вовлеченность пользователей</td>\n",
       "      <td>3</td>\n",
       "      <td>1</td>\n",
       "      <td>1</td>\n",
       "      <td>1</td>\n",
       "      <td>1.000000</td>\n",
       "      <td>3.0</td>\n",
       "    </tr>\n",
       "  </tbody>\n",
       "</table>\n",
       "</div>"
      ],
      "text/plain": [
       "                                                                                                     hypothesis  \\\n",
       "7              Добавить форму подписки на все основные страницы, чтобы собрать базу клиентов для email-рассылок   \n",
       "2  Добавить блоки рекомендаций товаров на сайт интернет магазина, чтобы повысить конверсию и средний чек заказа   \n",
       "0            Добавить два новых канала привлечения трафика, что позволит привлекать на 30% больше пользователей   \n",
       "6          Показать на главной странице баннеры с актуальными акциями и распродажами, чтобы увеличить конверсию   \n",
       "8                                                       Запустить акцию, дающую скидку на товар в день рождения   \n",
       "3           Изменить структура категорий, что увеличит конверсию, т.к. пользователи быстрее найдут нужный товар   \n",
       "1                                     Запустить собственную службу доставки, что сократит срок доставки заказов   \n",
       "5                      Добавить страницу отзывов клиентов о магазине, что позволит увеличить количество заказов   \n",
       "4                              Изменить цвет фона главной страницы, чтобы увеличить вовлеченность пользователей   \n",
       "\n",
       "   reach  impact  confidence  efforts        ICE   RICE  \n",
       "7     10       7           8        5  11.200000  112.0  \n",
       "2      8       3           7        3   7.000000   56.0  \n",
       "0      3      10           8        6  13.333333   40.0  \n",
       "6      5       3           8        3   8.000000   40.0  \n",
       "8      1       9           9        5  16.200000   16.2  \n",
       "3      8       3           3        8   1.125000    9.0  \n",
       "1      2       5           4       10   2.000000    4.0  \n",
       "5      3       2           2        3   1.333333    4.0  \n",
       "4      3       1           1        1   1.000000    3.0  "
      ]
     },
     "metadata": {},
     "output_type": "display_data"
    }
   ],
   "source": [
    "# perform prioritization by RICE\n",
    "hypothesis['RICE'] = (hypothesis['reach'] * hypothesis['impact'] *  hypothesis['confidence']) / hypothesis['efforts']\n",
    "hypothesis = hypothesis.sort_values(by='RICE', ascending=False)\n",
    "display(hypothesis) "
   ]
  },
  {
   "cell_type": "markdown",
   "metadata": {},
   "source": [
    "The most promising hypotheses based on the RICE score are those with indices 7, 2, and 0."
   ]
  },
  {
   "cell_type": "markdown",
   "metadata": {},
   "source": [
    "**Conclusion**  \n",
    "After considering the number of users impacted by each hypothesis, the priority of the hypotheses changed. Hypothesis 7 became the most promising due to its broad reach, which allows it to affect the largest number of users."
   ]
  },
  {
   "cell_type": "markdown",
   "metadata": {},
   "source": [
    "## Analysis of the A/B test"
   ]
  },
  {
   "cell_type": "markdown",
   "metadata": {},
   "source": [
    "Check if the users of one group are in another."
   ]
  },
  {
   "cell_type": "code",
   "execution_count": 17,
   "metadata": {},
   "outputs": [
    {
     "data": {
      "text/plain": [
       "58"
      ]
     },
     "execution_count": 17,
     "metadata": {},
     "output_type": "execute_result"
    }
   ],
   "source": [
    "# find users who fall into both groups\n",
    "overlapping_users = orders.groupby('visitor_id')['group'].nunique()\n",
    "overlapping_users = overlapping_users[overlapping_users > 1].index\n",
    "\n",
    "# count the number of such users\n",
    "overlapping_count = len(overlapping_users)\n",
    "overlapping_count"
   ]
  },
  {
   "cell_type": "markdown",
   "metadata": {},
   "source": [
    "58 users fell into both groups.  \n",
    "See how many users there are in each group in total"
   ]
  },
  {
   "cell_type": "code",
   "execution_count": 18,
   "metadata": {},
   "outputs": [
    {
     "data": {
      "text/plain": [
       "group\n",
       "A    503\n",
       "B    586\n",
       "Name: visitor_id, dtype: int64"
      ]
     },
     "execution_count": 18,
     "metadata": {},
     "output_type": "execute_result"
    }
   ],
   "source": [
    "# determine the total number of users in each group\n",
    "total_users_per_group = orders.groupby('group')['visitor_id'].nunique()\n",
    "total_users_per_group"
   ]
  },
  {
   "cell_type": "markdown",
   "metadata": {},
   "source": [
    "Thus, approximately more than 10% of users belong to both groups, which is a significant percentage.\n",
    "\n",
    "The `visitors` table contains cumulative data for both groups, including the \"overlapping\" users. Therefore, when calculating conversion rates, it wouldn’t be entirely correct to remove the overlapping users. However, for calculating the average order value, we only need the `orders` table, so in this case, we can remove the overlapping users. To facilitate this, we'll create a separate table that is cleared of overlapping users to use for average order value analysis in the A/B test."
   ]
  },
  {
   "cell_type": "code",
   "execution_count": 19,
   "metadata": {},
   "outputs": [],
   "source": [
    "# delete the users who fall into both groups and save them to a new table\n",
    "cleaned_orders = orders[~orders['visitor_id'].isin(overlapping_users)]"
   ]
  },
  {
   "cell_type": "markdown",
   "metadata": {},
   "source": [
    "### To build graphs, we need to collect cumulative data.  \n",
    "Create an array of unique pairs of date values and test groups using the drop_duplicates() method:"
   ]
  },
  {
   "cell_type": "code",
   "execution_count": 20,
   "metadata": {},
   "outputs": [],
   "source": [
    "# create an array of unique pairs of date values and test groups\n",
    "dates_groups = orders[['date','group']].drop_duplicates() "
   ]
  },
  {
   "cell_type": "markdown",
   "metadata": {},
   "source": [
    "Get rows from the orders table whose date is less than or equal to the date of the element from dates_groups, and the test group is equal to the group from dates_groups. And aggregate the data"
   ]
  },
  {
   "cell_type": "code",
   "execution_count": 21,
   "metadata": {},
   "outputs": [
    {
     "data": {
      "text/html": [
       "<div>\n",
       "<style scoped>\n",
       "    .dataframe tbody tr th:only-of-type {\n",
       "        vertical-align: middle;\n",
       "    }\n",
       "\n",
       "    .dataframe tbody tr th {\n",
       "        vertical-align: top;\n",
       "    }\n",
       "\n",
       "    .dataframe thead th {\n",
       "        text-align: right;\n",
       "    }\n",
       "</style>\n",
       "<table border=\"1\" class=\"dataframe\">\n",
       "  <thead>\n",
       "    <tr style=\"text-align: right;\">\n",
       "      <th></th>\n",
       "      <th>date</th>\n",
       "      <th>group</th>\n",
       "      <th>transaction_id</th>\n",
       "      <th>visitor_id</th>\n",
       "      <th>revenue</th>\n",
       "    </tr>\n",
       "  </thead>\n",
       "  <tbody>\n",
       "    <tr>\n",
       "      <th>55</th>\n",
       "      <td>2019-08-01</td>\n",
       "      <td>A</td>\n",
       "      <td>24</td>\n",
       "      <td>20</td>\n",
       "      <td>148579</td>\n",
       "    </tr>\n",
       "    <tr>\n",
       "      <th>66</th>\n",
       "      <td>2019-08-01</td>\n",
       "      <td>B</td>\n",
       "      <td>21</td>\n",
       "      <td>20</td>\n",
       "      <td>101217</td>\n",
       "    </tr>\n",
       "    <tr>\n",
       "      <th>175</th>\n",
       "      <td>2019-08-02</td>\n",
       "      <td>A</td>\n",
       "      <td>44</td>\n",
       "      <td>38</td>\n",
       "      <td>242401</td>\n",
       "    </tr>\n",
       "    <tr>\n",
       "      <th>173</th>\n",
       "      <td>2019-08-02</td>\n",
       "      <td>B</td>\n",
       "      <td>45</td>\n",
       "      <td>43</td>\n",
       "      <td>266748</td>\n",
       "    </tr>\n",
       "    <tr>\n",
       "      <th>291</th>\n",
       "      <td>2019-08-03</td>\n",
       "      <td>A</td>\n",
       "      <td>68</td>\n",
       "      <td>62</td>\n",
       "      <td>354874</td>\n",
       "    </tr>\n",
       "  </tbody>\n",
       "</table>\n",
       "</div>"
      ],
      "text/plain": [
       "          date group  transaction_id  visitor_id  revenue\n",
       "55  2019-08-01     A              24          20   148579\n",
       "66  2019-08-01     B              21          20   101217\n",
       "175 2019-08-02     A              44          38   242401\n",
       "173 2019-08-02     B              45          43   266748\n",
       "291 2019-08-03     A              68          62   354874"
      ]
     },
     "metadata": {},
     "output_type": "display_data"
    }
   ],
   "source": [
    "# collect aggregated cumulative data on orders by day\n",
    "orders_aggregated = dates_groups.apply(\n",
    "                    lambda x: orders[\n",
    "                        np.logical_and(\n",
    "                        orders['date'] <= x['date'], orders['group'] == x['group']\n",
    "                        )\n",
    "                    ].agg(\n",
    "                          {\n",
    "                           'date': 'max',\n",
    "                           'group': 'max',\n",
    "                           'transaction_id': 'nunique',\n",
    "                           'visitor_id': 'nunique',\n",
    "                           'revenue': 'sum'\n",
    "                          }\n",
    "                    ), \n",
    "                     axis=1\n",
    "                    ).sort_values(by=['date', 'group'])\n",
    "\n",
    "display(orders_aggregated.head())"
   ]
  },
  {
   "cell_type": "markdown",
   "metadata": {},
   "source": [
    "Similarly, get aggregated cumulative data on visitors by day"
   ]
  },
  {
   "cell_type": "code",
   "execution_count": 22,
   "metadata": {},
   "outputs": [
    {
     "data": {
      "text/html": [
       "<div>\n",
       "<style scoped>\n",
       "    .dataframe tbody tr th:only-of-type {\n",
       "        vertical-align: middle;\n",
       "    }\n",
       "\n",
       "    .dataframe tbody tr th {\n",
       "        vertical-align: top;\n",
       "    }\n",
       "\n",
       "    .dataframe thead th {\n",
       "        text-align: right;\n",
       "    }\n",
       "</style>\n",
       "<table border=\"1\" class=\"dataframe\">\n",
       "  <thead>\n",
       "    <tr style=\"text-align: right;\">\n",
       "      <th></th>\n",
       "      <th>date</th>\n",
       "      <th>group</th>\n",
       "      <th>visitors</th>\n",
       "    </tr>\n",
       "  </thead>\n",
       "  <tbody>\n",
       "    <tr>\n",
       "      <th>55</th>\n",
       "      <td>2019-08-01</td>\n",
       "      <td>A</td>\n",
       "      <td>719</td>\n",
       "    </tr>\n",
       "    <tr>\n",
       "      <th>66</th>\n",
       "      <td>2019-08-01</td>\n",
       "      <td>B</td>\n",
       "      <td>713</td>\n",
       "    </tr>\n",
       "    <tr>\n",
       "      <th>175</th>\n",
       "      <td>2019-08-02</td>\n",
       "      <td>A</td>\n",
       "      <td>1338</td>\n",
       "    </tr>\n",
       "    <tr>\n",
       "      <th>173</th>\n",
       "      <td>2019-08-02</td>\n",
       "      <td>B</td>\n",
       "      <td>1294</td>\n",
       "    </tr>\n",
       "    <tr>\n",
       "      <th>291</th>\n",
       "      <td>2019-08-03</td>\n",
       "      <td>A</td>\n",
       "      <td>1845</td>\n",
       "    </tr>\n",
       "  </tbody>\n",
       "</table>\n",
       "</div>"
      ],
      "text/plain": [
       "          date group  visitors\n",
       "55  2019-08-01     A       719\n",
       "66  2019-08-01     B       713\n",
       "175 2019-08-02     A      1338\n",
       "173 2019-08-02     B      1294\n",
       "291 2019-08-03     A      1845"
      ]
     },
     "metadata": {},
     "output_type": "display_data"
    }
   ],
   "source": [
    "# collect aggregated cumulative data on visitors by day\n",
    "visitors_aggregated = dates_groups.apply(\n",
    "                    lambda x: visitors[\n",
    "                        np.logical_and(\n",
    "                        visitors['date'] <= x['date'], visitors['group'] == x['group']\n",
    "                        )\n",
    "                    ].agg(\n",
    "                          {\n",
    "                           'date': 'max', \n",
    "                           'group': 'max', \n",
    "                           'visitors': 'sum'\n",
    "                          }\n",
    "                    ), \n",
    "                     axis=1\n",
    "                    ).sort_values(by=['date', 'group'])\n",
    "\n",
    "display(visitors_aggregated.head())"
   ]
  },
  {
   "cell_type": "markdown",
   "metadata": {},
   "source": [
    "Combine both tables into one with clear column names"
   ]
  },
  {
   "cell_type": "code",
   "execution_count": 23,
   "metadata": {
    "scrolled": true
   },
   "outputs": [
    {
     "data": {
      "text/html": [
       "<div>\n",
       "<style scoped>\n",
       "    .dataframe tbody tr th:only-of-type {\n",
       "        vertical-align: middle;\n",
       "    }\n",
       "\n",
       "    .dataframe tbody tr th {\n",
       "        vertical-align: top;\n",
       "    }\n",
       "\n",
       "    .dataframe thead th {\n",
       "        text-align: right;\n",
       "    }\n",
       "</style>\n",
       "<table border=\"1\" class=\"dataframe\">\n",
       "  <thead>\n",
       "    <tr style=\"text-align: right;\">\n",
       "      <th></th>\n",
       "      <th>date</th>\n",
       "      <th>group</th>\n",
       "      <th>orders</th>\n",
       "      <th>buyers</th>\n",
       "      <th>revenue</th>\n",
       "      <th>visitors</th>\n",
       "    </tr>\n",
       "  </thead>\n",
       "  <tbody>\n",
       "    <tr>\n",
       "      <th>0</th>\n",
       "      <td>2019-08-01</td>\n",
       "      <td>A</td>\n",
       "      <td>24</td>\n",
       "      <td>20</td>\n",
       "      <td>148579</td>\n",
       "      <td>719</td>\n",
       "    </tr>\n",
       "    <tr>\n",
       "      <th>1</th>\n",
       "      <td>2019-08-01</td>\n",
       "      <td>B</td>\n",
       "      <td>21</td>\n",
       "      <td>20</td>\n",
       "      <td>101217</td>\n",
       "      <td>713</td>\n",
       "    </tr>\n",
       "    <tr>\n",
       "      <th>2</th>\n",
       "      <td>2019-08-02</td>\n",
       "      <td>A</td>\n",
       "      <td>44</td>\n",
       "      <td>38</td>\n",
       "      <td>242401</td>\n",
       "      <td>1338</td>\n",
       "    </tr>\n",
       "    <tr>\n",
       "      <th>3</th>\n",
       "      <td>2019-08-02</td>\n",
       "      <td>B</td>\n",
       "      <td>45</td>\n",
       "      <td>43</td>\n",
       "      <td>266748</td>\n",
       "      <td>1294</td>\n",
       "    </tr>\n",
       "    <tr>\n",
       "      <th>4</th>\n",
       "      <td>2019-08-03</td>\n",
       "      <td>A</td>\n",
       "      <td>68</td>\n",
       "      <td>62</td>\n",
       "      <td>354874</td>\n",
       "      <td>1845</td>\n",
       "    </tr>\n",
       "  </tbody>\n",
       "</table>\n",
       "</div>"
      ],
      "text/plain": [
       "        date group  orders  buyers  revenue  visitors\n",
       "0 2019-08-01     A      24      20   148579       719\n",
       "1 2019-08-01     B      21      20   101217       713\n",
       "2 2019-08-02     A      44      38   242401      1338\n",
       "3 2019-08-02     B      45      43   266748      1294\n",
       "4 2019-08-03     A      68      62   354874      1845"
      ]
     },
     "metadata": {},
     "output_type": "display_data"
    }
   ],
   "source": [
    "# combine the cumulative data in one table and assign understandable names to its columns\n",
    "cumulative_data = orders_aggregated.merge(visitors_aggregated, left_on=['date', 'group'], right_on=['date', 'group'])\n",
    "cumulative_data.columns = ['date', 'group', 'orders', 'buyers', 'revenue', 'visitors']\n",
    "\n",
    "display(cumulative_data.head()) "
   ]
  },
  {
   "cell_type": "markdown",
   "metadata": {},
   "source": [
    "### Build graphs of cumulative revenue by groups"
   ]
  },
  {
   "cell_type": "code",
   "execution_count": 24,
   "metadata": {},
   "outputs": [
    {
     "data": {
      "image/png": "[encoded data removed]",
      "text/plain": [
       "<Figure size 1500x1000 with 1 Axes>"
      ]
     },
     "metadata": {},
     "output_type": "display_data"
    }
   ],
   "source": [
    "# a dataframe with cumulative number of orders and cumulative revenue by day in Group A\n",
    "cumulative_revenue_a = cumulative_data[cumulative_data['group']=='A'][['date','revenue', 'orders']]\n",
    "\n",
    "# a dataframe with cumulative number of orders and cumulative revenue by day in Group B\n",
    "cumulative_revenue_b = cumulative_data[cumulative_data['group']=='B'][['date','revenue', 'orders']]\n",
    "\n",
    "# set the size of the graph\n",
    "plt.figure(figsize=(15, 10))\n",
    "\n",
    "# build the graph of the group A revenue\n",
    "plt.plot(cumulative_revenue_a['date'], cumulative_revenue_a['revenue'], label='A')\n",
    "\n",
    "# build the graph of the group B revenue\n",
    "plt.plot(cumulative_revenue_b['date'], cumulative_revenue_b['revenue'], label='B')\n",
    "\n",
    "plt.title('Cumulative revenue by group')\n",
    "plt.ylabel(\"Revenue, mln.\")\n",
    "plt.xticks(rotation=30)\n",
    "plt.grid(True)\n",
    "plt.legend()\n",
    "plt.show()"
   ]
  },
  {
   "cell_type": "markdown",
   "metadata": {},
   "source": [
    "Revenue increases almost uniformly throughout the test, with the exception of revenue in Group B, starting from August 18, 2019 to August 19, 2019. There were probably large purchases made during this period.  \n",
    "In general, the revenue for Group A is less than for Group B."
   ]
  },
  {
   "cell_type": "markdown",
   "metadata": {},
   "source": [
    "### Plot the cumulative average bill by groups"
   ]
  },
  {
   "cell_type": "code",
   "execution_count": 25,
   "metadata": {},
   "outputs": [
    {
     "data": {
      "image/png": "[encoded data removed]",
      "text/plain": [
       "<Figure size 1500x700 with 1 Axes>"
      ]
     },
     "metadata": {},
     "output_type": "display_data"
    }
   ],
   "source": [
    "# set the size of the graph\n",
    "plt.figure(figsize=(15, 7))\n",
    "\n",
    "# divide the cumulative revenue by the cumulative number of orders\n",
    "plt.plot(cumulative_revenue_a['date'], cumulative_revenue_a['revenue'] / cumulative_revenue_a['orders'], label='A')\n",
    "plt.plot(cumulative_revenue_b['date'], cumulative_revenue_b['revenue'] / cumulative_revenue_b['orders'], label='B')\n",
    "\n",
    "plt.title('Cumulative average bill by group')\n",
    "plt.ylabel(\"The amount of the average bill\")\n",
    "plt.xticks(rotation=30)\n",
    "plt.grid(True)\n",
    "plt.legend()\n",
    "plt.show()"
   ]
  },
  {
   "cell_type": "markdown",
   "metadata": {},
   "source": [
    "The average bill for Group A stabilizes toward the end of the test after August 13, 2019.  \n",
    "\n",
    "In Group B, however, there is a noticeable spike from August 18 to August 19, 2019. This likely indicates that a high-value purchase was made during this period."
   ]
  },
  {
   "cell_type": "markdown",
   "metadata": {},
   "source": [
    "### Plot the relative change in the cumulative average bill of group B to group A"
   ]
  },
  {
   "cell_type": "code",
   "execution_count": 26,
   "metadata": {},
   "outputs": [
    {
     "data": {
      "image/png": "[encoded data removed]",
      "text/plain": [
       "<Figure size 1500x700 with 1 Axes>"
      ]
     },
     "metadata": {},
     "output_type": "display_data"
    }
   ],
   "source": [
    "# collect data in a one dataframe\n",
    "merged_cumulative_revenue = cumulative_revenue_a.merge(cumulative_revenue_b, left_on='date', \n",
    "                                                                             right_on='date', \n",
    "                                                                             how='left', \n",
    "                                                                             suffixes=['_a', '_b'])\n",
    "# set the size of the graph\n",
    "plt.figure(figsize=(15, 7))\n",
    "\n",
    "# build the ratio of average bills\n",
    "plt.plot(merged_cumulative_revenue['date'], (merged_cumulative_revenue['revenue_b']/merged_cumulative_revenue['orders_b'])/\n",
    "                                            (merged_cumulative_revenue['revenue_a']/merged_cumulative_revenue['orders_a'])-1)\n",
    "\n",
    "# add axhline\n",
    "plt.axhline(y=0, color='black', linestyle='--') \n",
    "\n",
    "plt.title('The relative change in the cumulative average bill of group B to group A')\n",
    "plt.xticks(rotation=30)\n",
    "plt.grid(True)\n",
    "plt.show()"
   ]
  },
  {
   "cell_type": "markdown",
   "metadata": {},
   "source": [
    "At several points, the graph of the difference between the segments \"jumps\" sharply, which means there are outliers or large orders."
   ]
  },
  {
   "cell_type": "markdown",
   "metadata": {},
   "source": [
    "### Plot the cumulative average number of orders per visitor by group"
   ]
  },
  {
   "cell_type": "markdown",
   "metadata": {},
   "source": [
    "Calculate the conversion values for the cumulative_data table"
   ]
  },
  {
   "cell_type": "code",
   "execution_count": 27,
   "metadata": {},
   "outputs": [
    {
     "data": {
      "text/html": [
       "<div>\n",
       "<style scoped>\n",
       "    .dataframe tbody tr th:only-of-type {\n",
       "        vertical-align: middle;\n",
       "    }\n",
       "\n",
       "    .dataframe tbody tr th {\n",
       "        vertical-align: top;\n",
       "    }\n",
       "\n",
       "    .dataframe thead th {\n",
       "        text-align: right;\n",
       "    }\n",
       "</style>\n",
       "<table border=\"1\" class=\"dataframe\">\n",
       "  <thead>\n",
       "    <tr style=\"text-align: right;\">\n",
       "      <th></th>\n",
       "      <th>date</th>\n",
       "      <th>group</th>\n",
       "      <th>orders</th>\n",
       "      <th>buyers</th>\n",
       "      <th>revenue</th>\n",
       "      <th>visitors</th>\n",
       "      <th>conversion</th>\n",
       "    </tr>\n",
       "  </thead>\n",
       "  <tbody>\n",
       "    <tr>\n",
       "      <th>0</th>\n",
       "      <td>2019-08-01</td>\n",
       "      <td>A</td>\n",
       "      <td>24</td>\n",
       "      <td>20</td>\n",
       "      <td>148579</td>\n",
       "      <td>719</td>\n",
       "      <td>0.033380</td>\n",
       "    </tr>\n",
       "    <tr>\n",
       "      <th>1</th>\n",
       "      <td>2019-08-01</td>\n",
       "      <td>B</td>\n",
       "      <td>21</td>\n",
       "      <td>20</td>\n",
       "      <td>101217</td>\n",
       "      <td>713</td>\n",
       "      <td>0.029453</td>\n",
       "    </tr>\n",
       "    <tr>\n",
       "      <th>2</th>\n",
       "      <td>2019-08-02</td>\n",
       "      <td>A</td>\n",
       "      <td>44</td>\n",
       "      <td>38</td>\n",
       "      <td>242401</td>\n",
       "      <td>1338</td>\n",
       "      <td>0.032885</td>\n",
       "    </tr>\n",
       "    <tr>\n",
       "      <th>3</th>\n",
       "      <td>2019-08-02</td>\n",
       "      <td>B</td>\n",
       "      <td>45</td>\n",
       "      <td>43</td>\n",
       "      <td>266748</td>\n",
       "      <td>1294</td>\n",
       "      <td>0.034776</td>\n",
       "    </tr>\n",
       "    <tr>\n",
       "      <th>4</th>\n",
       "      <td>2019-08-03</td>\n",
       "      <td>A</td>\n",
       "      <td>68</td>\n",
       "      <td>62</td>\n",
       "      <td>354874</td>\n",
       "      <td>1845</td>\n",
       "      <td>0.036856</td>\n",
       "    </tr>\n",
       "  </tbody>\n",
       "</table>\n",
       "</div>"
      ],
      "text/plain": [
       "        date group  orders  buyers  revenue  visitors  conversion\n",
       "0 2019-08-01     A      24      20   148579       719    0.033380\n",
       "1 2019-08-01     B      21      20   101217       713    0.029453\n",
       "2 2019-08-02     A      44      38   242401      1338    0.032885\n",
       "3 2019-08-02     B      45      43   266748      1294    0.034776\n",
       "4 2019-08-03     A      68      62   354874      1845    0.036856"
      ]
     },
     "execution_count": 27,
     "metadata": {},
     "output_type": "execute_result"
    }
   ],
   "source": [
    "# add a column with conversion values\n",
    "cumulative_data['conversion'] = cumulative_data['orders'] / cumulative_data['visitors']\n",
    "\n",
    "cumulative_data.head()"
   ]
  },
  {
   "cell_type": "code",
   "execution_count": 28,
   "metadata": {},
   "outputs": [],
   "source": [
    "# separate the data by group A\n",
    "cumulative_data_a = cumulative_data[cumulative_data['group']=='A']\n",
    "\n",
    "# separate the data by group B \n",
    "cumulative_data_b = cumulative_data[cumulative_data['group']=='B']"
   ]
  },
  {
   "cell_type": "code",
   "execution_count": 29,
   "metadata": {},
   "outputs": [
    {
     "data": {
      "image/png": "[encoded data removed]",
      "text/plain": [
       "<Figure size 1500x700 with 1 Axes>"
      ]
     },
     "metadata": {},
     "output_type": "display_data"
    }
   ],
   "source": [
    "# set the size of the graph\n",
    "plt.figure(figsize=(15, 7))\n",
    "\n",
    "# build graphs\n",
    "plt.plot(cumulative_data_a['date'], cumulative_data_a['conversion'], label='A')\n",
    "plt.plot(cumulative_data_b['date'], cumulative_data_b['conversion'], label='B')\n",
    "\n",
    "plt.title('Cumulative conversion by group')\n",
    "plt.ylabel('Conversion')\n",
    "plt.xticks(rotation=30)\n",
    "plt.grid(True)\n",
    "plt.legend()\n",
    "plt.show()"
   ]
  },
  {
   "cell_type": "markdown",
   "metadata": {},
   "source": [
    "In the first days of the test, there were \"jumps' in conversions, but starting from August 6, 2019, the conversion of group A fell sharply, and the conversion of group B increased. Before the end of the test, the conversion of group B exceeds the conversion of group A."
   ]
  },
  {
   "cell_type": "markdown",
   "metadata": {},
   "source": [
    "### Plot the relative change in the cumulative average number of orders per visitor of group B to group A"
   ]
  },
  {
   "cell_type": "code",
   "execution_count": 30,
   "metadata": {},
   "outputs": [
    {
     "data": {
      "image/png": "[encoded data removed]",
      "text/plain": [
       "<Figure size 1500x700 with 1 Axes>"
      ]
     },
     "metadata": {},
     "output_type": "display_data"
    }
   ],
   "source": [
    "# collect data in a one dataframe\n",
    "merged_cumulative_conversions = cumulative_data_a[['date', 'conversion']].merge(\n",
    "                                       cumulative_data_b[['date', 'conversion']], \n",
    "                                       left_on='date', \n",
    "                                       right_on='date', \n",
    "                                       how='left', \n",
    "                                       suffixes=['_a', '_b'])\n",
    "    \n",
    "# set the size of the graph\n",
    "plt.figure(figsize=(15, 7))\n",
    "\n",
    "# plot the relative change in the cumulative conversion of group B to group A\n",
    "plt.plot(merged_cumulative_conversions['date'], merged_cumulative_conversions['conversion_b']/\n",
    "                                                merged_cumulative_conversions['conversion_a']-1)\n",
    "\n",
    "# aadd axhlines\n",
    "plt.axhline(y=0, color='black', linestyle='--')\n",
    "plt.axhline(y=0.15, color='grey', linestyle='--')\n",
    "\n",
    "plt.title(\"The relative increase in the conversion rate of group B relative to group A\")\n",
    "plt.xticks(rotation=30)\n",
    "plt.grid(True)\n",
    "plt.show()"
   ]
  },
  {
   "cell_type": "markdown",
   "metadata": {},
   "source": [
    "Starting on August 6, the conversion difference between group B and group A began to increase sharply and strongly, from August 17 there was a slight decline, and from August 29 the difference increased again"
   ]
  },
  {
   "cell_type": "markdown",
   "metadata": {},
   "source": [
    "### Build a scatter graph of the number of orders by user"
   ]
  },
  {
   "cell_type": "markdown",
   "metadata": {},
   "source": [
    "Let's count the number of orders by users and look at the result"
   ]
  },
  {
   "cell_type": "code",
   "execution_count": 31,
   "metadata": {},
   "outputs": [
    {
     "data": {
      "text/html": [
       "<div>\n",
       "<style scoped>\n",
       "    .dataframe tbody tr th:only-of-type {\n",
       "        vertical-align: middle;\n",
       "    }\n",
       "\n",
       "    .dataframe tbody tr th {\n",
       "        vertical-align: top;\n",
       "    }\n",
       "\n",
       "    .dataframe thead th {\n",
       "        text-align: right;\n",
       "    }\n",
       "</style>\n",
       "<table border=\"1\" class=\"dataframe\">\n",
       "  <thead>\n",
       "    <tr style=\"text-align: right;\">\n",
       "      <th></th>\n",
       "      <th>visitor_id</th>\n",
       "      <th>orders</th>\n",
       "    </tr>\n",
       "  </thead>\n",
       "  <tbody>\n",
       "    <tr>\n",
       "      <th>1023</th>\n",
       "      <td>4256040402</td>\n",
       "      <td>11</td>\n",
       "    </tr>\n",
       "    <tr>\n",
       "      <th>591</th>\n",
       "      <td>2458001652</td>\n",
       "      <td>11</td>\n",
       "    </tr>\n",
       "    <tr>\n",
       "      <th>569</th>\n",
       "      <td>2378935119</td>\n",
       "      <td>9</td>\n",
       "    </tr>\n",
       "    <tr>\n",
       "      <th>487</th>\n",
       "      <td>2038680547</td>\n",
       "      <td>8</td>\n",
       "    </tr>\n",
       "    <tr>\n",
       "      <th>44</th>\n",
       "      <td>199603092</td>\n",
       "      <td>5</td>\n",
       "    </tr>\n",
       "  </tbody>\n",
       "</table>\n",
       "</div>"
      ],
      "text/plain": [
       "      visitor_id  orders\n",
       "1023  4256040402      11\n",
       "591   2458001652      11\n",
       "569   2378935119       9\n",
       "487   2038680547       8\n",
       "44     199603092       5"
      ]
     },
     "execution_count": 31,
     "metadata": {},
     "output_type": "execute_result"
    }
   ],
   "source": [
    "# calculate the number of orders for each user\n",
    "orders_by_users = (orders.groupby('visitor_id', as_index=False).agg({'transaction_id': 'nunique'}))\n",
    "\n",
    "# rename columns\n",
    "orders_by_users.columns = ['visitor_id', 'orders']\n",
    "\n",
    "# sort the number of orders in descending order\n",
    "orders_by_users = orders_by_users.sort_values(by='orders', ascending=False)\n",
    "\n",
    "orders_by_users.head()"
   ]
  },
  {
   "cell_type": "markdown",
   "metadata": {},
   "source": [
    "Build a histogram of the distribution of the number of orders per user"
   ]
  },
  {
   "cell_type": "code",
   "execution_count": 32,
   "metadata": {},
   "outputs": [
    {
     "data": {
      "image/png": "[encoded data removed]",
      "text/plain": [
       "<Figure size 640x480 with 1 Axes>"
      ]
     },
     "metadata": {},
     "output_type": "display_data"
    }
   ],
   "source": [
    "# build a histogram\n",
    "plt.hist(orders_by_users['orders'])\n",
    "plt.title('Distribution of the number of orders by users')\n",
    "plt.xlabel('Number of orders')\n",
    "plt.ylabel('Number of users')\n",
    "plt.grid(True)\n",
    "plt.show()"
   ]
  },
  {
   "cell_type": "markdown",
   "metadata": {},
   "source": [
    "Most users took only one order"
   ]
  },
  {
   "cell_type": "code",
   "execution_count": 33,
   "metadata": {},
   "outputs": [
    {
     "data": {
      "image/png": "[encoded data removed]",
      "text/plain": [
       "<Figure size 1700x700 with 1 Axes>"
      ]
     },
     "metadata": {},
     "output_type": "display_data"
    }
   ],
   "source": [
    "x_values = pd.Series(range(0,len(orders_by_users)))\n",
    "\n",
    "# build a scatter chart of the number of orders per user\n",
    "plt.figure(figsize=(17,7))\n",
    "plt.scatter(x_values, orders_by_users['orders'], alpha=0.5)\n",
    "plt.title('Distribution of the number of orders by users')\n",
    "plt.xlabel('Number of users')\n",
    "plt.ylabel('Number of orders')\n",
    "plt.grid(True)\n",
    "plt.show()"
   ]
  },
  {
   "cell_type": "markdown",
   "metadata": {},
   "source": [
    "Most users most often take only one order, rarely 2 orders, and even less often - more than 2 orders"
   ]
  },
  {
   "cell_type": "markdown",
   "metadata": {},
   "source": [
    "### Calculate the 95th and 99th percentiles of the number of orders per user"
   ]
  },
  {
   "cell_type": "code",
   "execution_count": 34,
   "metadata": {},
   "outputs": [
    {
     "name": "stdout",
     "output_type": "stream",
     "text": [
      "[2. 4.]\n"
     ]
    }
   ],
   "source": [
    "# calculate the sample percentiles of the number of orders per user\n",
    "print(np.percentile(orders_by_users['orders'], [95, 99]))"
   ]
  },
  {
   "cell_type": "markdown",
   "metadata": {},
   "source": [
    "No more than 5% of users took more than 2 orders. And 1% of users ordered more than 4 times. \n",
    "It is reasonable to select 4 orders per user for the upper limit of the number of orders, and weed out abnormal users according to it."
   ]
  },
  {
   "cell_type": "markdown",
   "metadata": {},
   "source": [
    "### Build a scatter chart of the cost of orders"
   ]
  },
  {
   "cell_type": "code",
   "execution_count": 35,
   "metadata": {},
   "outputs": [
    {
     "data": {
      "image/png": "[encoded data removed]",
      "text/plain": [
       "<Figure size 640x480 with 1 Axes>"
      ]
     },
     "metadata": {},
     "output_type": "display_data"
    }
   ],
   "source": [
    "# build histogram\n",
    "plt.hist(cleaned_orders['revenue'])\n",
    "plt.title('Distribution of order values by users')\n",
    "plt.xlabel('The cost of orders')\n",
    "plt.ylabel('Number of users')\n",
    "plt.grid(True)\n",
    "plt.show()"
   ]
  },
  {
   "cell_type": "markdown",
   "metadata": {},
   "source": [
    "There is even at least one order in the sample worth about 1.2 million rubles."
   ]
  },
  {
   "cell_type": "code",
   "execution_count": 36,
   "metadata": {},
   "outputs": [
    {
     "data": {
      "image/png": "[encoded data removed]",
      "text/plain": [
       "<Figure size 1700x700 with 1 Axes>"
      ]
     },
     "metadata": {},
     "output_type": "display_data"
    }
   ],
   "source": [
    "x_values = pd.Series(range(0,len(cleaned_orders['revenue'])))\n",
    "\n",
    "# build a scatter chart of the cost of orders per user\n",
    "plt.figure(figsize=(17,7))\n",
    "plt.scatter(x_values, cleaned_orders['revenue'], alpha=0.5)\n",
    "plt.title('Distribution of order values by users')\n",
    "plt.xlabel('Number of users')\n",
    "plt.ylabel('The cost of orders')\n",
    "plt.grid(True)\n",
    "plt.show()"
   ]
  },
  {
   "cell_type": "markdown",
   "metadata": {},
   "source": [
    "We see a large abnormal value in the order value of more than 1.2 million rubles."
   ]
  },
  {
   "cell_type": "markdown",
   "metadata": {},
   "source": [
    "### Calculate the 95th and 99th percentiles of the cost of orders"
   ]
  },
  {
   "cell_type": "code",
   "execution_count": 37,
   "metadata": {},
   "outputs": [
    {
     "name": "stdout",
     "output_type": "stream",
     "text": [
      "[26785. 53904.]\n"
     ]
    }
   ],
   "source": [
    "# calculate the sample percentiles of the cost of orders per user\n",
    "print(np.percentile(cleaned_orders['revenue'], [95, 99]))"
   ]
  },
  {
   "cell_type": "markdown",
   "metadata": {},
   "source": [
    "No more than 5% of users took orders worth 26,785 rubles. And 1% of users placed orders worth more than 53,904 rubles. Let's take the cost of 53904 rubles. for the upper limit of the cost of orders, and weed out abnormal users according to it."
   ]
  },
  {
   "cell_type": "markdown",
   "metadata": {},
   "source": [
    "### Calculate the statistical significance of the differences in the average number of orders per visitor between the groups using the \"raw\" data"
   ]
  },
  {
   "cell_type": "markdown",
   "metadata": {},
   "source": [
    "Let's formulate the hypotheses:  \n",
    "**H0** - There is no difference in the average number of orders between the groups.  \n",
    "**H1** - There is a difference in the average number of orders between the groups.\n",
    "\n",
    "Set the significance level (alpha) to 0.05."
   ]
  },
  {
   "cell_type": "markdown",
   "metadata": {},
   "source": [
    "Start by preparing the data."
   ]
  },
  {
   "cell_type": "code",
   "execution_count": 38,
   "metadata": {},
   "outputs": [
    {
     "data": {
      "text/html": [
       "<div>\n",
       "<style scoped>\n",
       "    .dataframe tbody tr th:only-of-type {\n",
       "        vertical-align: middle;\n",
       "    }\n",
       "\n",
       "    .dataframe tbody tr th {\n",
       "        vertical-align: top;\n",
       "    }\n",
       "\n",
       "    .dataframe thead th {\n",
       "        text-align: right;\n",
       "    }\n",
       "</style>\n",
       "<table border=\"1\" class=\"dataframe\">\n",
       "  <thead>\n",
       "    <tr style=\"text-align: right;\">\n",
       "      <th></th>\n",
       "      <th>date</th>\n",
       "      <th>orders_per_date_a</th>\n",
       "      <th>revenue_per_date_a</th>\n",
       "      <th>orders_per_date_b</th>\n",
       "      <th>revenue_per_date_b</th>\n",
       "      <th>orders_cummulative_a</th>\n",
       "      <th>revenue_cummulative_a</th>\n",
       "      <th>orders_cummulative_b</th>\n",
       "      <th>revenue_cummulative_b</th>\n",
       "      <th>visitors_per_date_a</th>\n",
       "      <th>visitors_per_date_b</th>\n",
       "      <th>visitors_cummulative_a</th>\n",
       "      <th>visitors_cummulative_b</th>\n",
       "    </tr>\n",
       "  </thead>\n",
       "  <tbody>\n",
       "    <tr>\n",
       "      <th>0</th>\n",
       "      <td>2019-08-01</td>\n",
       "      <td>24</td>\n",
       "      <td>148579</td>\n",
       "      <td>21</td>\n",
       "      <td>101217</td>\n",
       "      <td>24</td>\n",
       "      <td>148579</td>\n",
       "      <td>21</td>\n",
       "      <td>101217</td>\n",
       "      <td>719</td>\n",
       "      <td>713</td>\n",
       "      <td>719</td>\n",
       "      <td>713</td>\n",
       "    </tr>\n",
       "    <tr>\n",
       "      <th>1</th>\n",
       "      <td>2019-08-02</td>\n",
       "      <td>20</td>\n",
       "      <td>93822</td>\n",
       "      <td>24</td>\n",
       "      <td>165531</td>\n",
       "      <td>44</td>\n",
       "      <td>242401</td>\n",
       "      <td>45</td>\n",
       "      <td>266748</td>\n",
       "      <td>619</td>\n",
       "      <td>581</td>\n",
       "      <td>1338</td>\n",
       "      <td>1294</td>\n",
       "    </tr>\n",
       "    <tr>\n",
       "      <th>2</th>\n",
       "      <td>2019-08-03</td>\n",
       "      <td>24</td>\n",
       "      <td>112473</td>\n",
       "      <td>16</td>\n",
       "      <td>114248</td>\n",
       "      <td>68</td>\n",
       "      <td>354874</td>\n",
       "      <td>61</td>\n",
       "      <td>380996</td>\n",
       "      <td>507</td>\n",
       "      <td>509</td>\n",
       "      <td>1845</td>\n",
       "      <td>1803</td>\n",
       "    </tr>\n",
       "    <tr>\n",
       "      <th>3</th>\n",
       "      <td>2019-08-04</td>\n",
       "      <td>16</td>\n",
       "      <td>70825</td>\n",
       "      <td>17</td>\n",
       "      <td>108571</td>\n",
       "      <td>84</td>\n",
       "      <td>425699</td>\n",
       "      <td>78</td>\n",
       "      <td>489567</td>\n",
       "      <td>717</td>\n",
       "      <td>770</td>\n",
       "      <td>2562</td>\n",
       "      <td>2573</td>\n",
       "    </tr>\n",
       "    <tr>\n",
       "      <th>4</th>\n",
       "      <td>2019-08-05</td>\n",
       "      <td>25</td>\n",
       "      <td>124218</td>\n",
       "      <td>23</td>\n",
       "      <td>92428</td>\n",
       "      <td>109</td>\n",
       "      <td>549917</td>\n",
       "      <td>101</td>\n",
       "      <td>581995</td>\n",
       "      <td>756</td>\n",
       "      <td>707</td>\n",
       "      <td>3318</td>\n",
       "      <td>3280</td>\n",
       "    </tr>\n",
       "  </tbody>\n",
       "</table>\n",
       "</div>"
      ],
      "text/plain": [
       "        date  orders_per_date_a  revenue_per_date_a  orders_per_date_b  \\\n",
       "0 2019-08-01                 24              148579                 21   \n",
       "1 2019-08-02                 20               93822                 24   \n",
       "2 2019-08-03                 24              112473                 16   \n",
       "3 2019-08-04                 16               70825                 17   \n",
       "4 2019-08-05                 25              124218                 23   \n",
       "\n",
       "   revenue_per_date_b  orders_cummulative_a  revenue_cummulative_a  \\\n",
       "0              101217                    24                 148579   \n",
       "1              165531                    44                 242401   \n",
       "2              114248                    68                 354874   \n",
       "3              108571                    84                 425699   \n",
       "4               92428                   109                 549917   \n",
       "\n",
       "   orders_cummulative_b  revenue_cummulative_b  visitors_per_date_a  \\\n",
       "0                    21                 101217                  719   \n",
       "1                    45                 266748                  619   \n",
       "2                    61                 380996                  507   \n",
       "3                    78                 489567                  717   \n",
       "4                   101                 581995                  756   \n",
       "\n",
       "   visitors_per_date_b  visitors_cummulative_a  visitors_cummulative_b  \n",
       "0                  713                     719                     713  \n",
       "1                  581                    1338                    1294  \n",
       "2                  509                    1845                    1803  \n",
       "3                  770                    2562                    2573  \n",
       "4                  707                    3318                    3280  "
      ]
     },
     "metadata": {},
     "output_type": "display_data"
    }
   ],
   "source": [
    "# create tables with the number of users in the context of groups and dates\n",
    "visitors_a_daily = visitors[visitors['group'] == 'A'][['date', 'visitors']]\n",
    "visitors_a_daily.columns = ['date', 'visitors_per_date_a']\n",
    "\n",
    "visitors_a_cumulative = visitors_a_daily.apply(\n",
    "    lambda x: visitors_a_daily[visitors_a_daily['date'] <= x['date']].agg(\n",
    "        {'date':'max', 'visitors_per_date_a':'sum'}\n",
    "    ),\n",
    "    axis=1,\n",
    ")\n",
    "visitors_a_cumulative.columns = ['date', 'visitors_cummulative_a']\n",
    "\n",
    "visitors_b_daily = visitors[visitors['group'] == 'B'][['date', 'visitors']]\n",
    "visitors_b_daily.columns = ['date', 'visitors_per_date_b']\n",
    "\n",
    "visitors_b_cumulative = visitors_b_daily.apply(\n",
    "    lambda x: visitors_b_daily[visitors_b_daily['date'] <= x['date']].agg(\n",
    "        {'date':'max', 'visitors_per_date_b':'sum'}\n",
    "    ),\n",
    "    axis=1,\n",
    ")\n",
    "visitors_b_cumulative.columns = ['date', 'visitors_cummulative_b']\n",
    "\n",
    "\n",
    "# create tables with the number of orders and revenue by groups and dates\n",
    "orders_a_daily = (\n",
    "    orders[orders['group'] == 'A'][['date', 'transaction_id', 'visitor_id', 'revenue']]\n",
    "    .groupby('date', as_index=False)\n",
    "    .agg({'transaction_id' : pd.Series.nunique, 'revenue' : 'sum'})\n",
    ")\n",
    "orders_a_daily.columns = ['date', 'orders_per_date_a', 'revenue_per_date_a']\n",
    "\n",
    "orders_a_cumulative = orders_a_daily.apply(\n",
    "    lambda x: orders_a_daily[orders_a_daily['date'] <= x['date']].agg(\n",
    "        {'date': 'max', 'orders_per_date_a': 'sum', 'revenue_per_date_a': 'sum'}\n",
    "    ),\n",
    "    axis=1,\n",
    ").sort_values(by=['date'])\n",
    "\n",
    "orders_a_cumulative.columns = ['date',\n",
    "                               'orders_cummulative_a',\n",
    "                               'revenue_cummulative_a']\n",
    "\n",
    "orders_b_daily = (\n",
    "    orders[orders['group'] == 'B'][['date', 'transaction_id', 'visitor_id', 'revenue']]\n",
    "    .groupby('date', as_index=False)\n",
    "    .agg({'transaction_id' : pd.Series.nunique, 'revenue' : 'sum'})\n",
    ")\n",
    "orders_b_daily.columns = ['date', 'orders_per_date_b', 'revenue_per_date_b']\n",
    "\n",
    "orders_b_cumulative = orders_b_daily.apply(\n",
    "    lambda x: orders_b_daily[orders_b_daily['date'] <= x['date']].agg(\n",
    "        {'date': 'max', 'orders_per_date_b': 'sum', 'revenue_per_date_b': 'sum'}\n",
    "    ),\n",
    "    axis=1,\n",
    ").sort_values(by=['date'])\n",
    "\n",
    "orders_b_cumulative.columns = ['date',\n",
    "                               'orders_cummulative_b',\n",
    "                               'revenue_cummulative_b']\n",
    "\n",
    "# merge tables\n",
    "data = (\n",
    "    orders_a_daily.merge(\n",
    "        orders_b_daily, left_on='date', right_on='date', how='left'\n",
    "    )\n",
    "    .merge(orders_a_cumulative, left_on='date', right_on='date', how='left')\n",
    "    .merge(orders_b_cumulative, left_on='date', right_on='date', how='left')\n",
    "    .merge(visitors_a_daily, left_on='date', right_on='date', how='left')\n",
    "    .merge(visitors_b_daily, left_on='date', right_on='date', how='left')\n",
    "    .merge(visitors_a_cumulative, left_on='date', right_on='date', how='left')\n",
    "    .merge(visitors_b_cumulative, left_on='date', right_on='date', how='left')\n",
    ")\n",
    "\n",
    "display(data.head())\n"
   ]
  },
  {
   "cell_type": "markdown",
   "metadata": {},
   "source": [
    "Names of the colums:\n",
    "- `date` — date\n",
    "- `orders_daily_a` — number of orders on the selected date in group A\n",
    "- `revenue_per_date_a` — total revenue on the selected date in group A\n",
    "- `orders_daily_b` — number of orders on the selected date in group B\n",
    "- `revenue_per_date_b` — total revenue on the selected date in group B\n",
    "- `orders_cummulative_a` — cumulative number of orders up to and including the selected date in group A\n",
    "- `revenue_cummulative_a` — cumulative revenue up to and including the selected date in group A\n",
    "- `orders_cummulative_b` — cumulative number of orders up to and including the selected date in group B\n",
    "- `revenue_cummulative_b` — cumulative revenue up to and including the selected date in group B\n",
    "- `visitors_per_date_a` — number of visitors on the selected date in group A\n",
    "- `visitors_per_date_b` — number of visitors on the selected date in group B\n",
    "- `visitors_cummulative_a` — cumulative number of visitors up to and including the selected date in group A\n",
    "- `visitors_cummulative_b` — cumulative number of visitors up to and including the selected date in group B"
   ]
  },
  {
   "cell_type": "markdown",
   "metadata": {},
   "source": [
    "Calculate the statistical significance of the difference in the average number of orders between the groups.\n",
    "Create the variables order_by_users_a and order_by_users_b."
   ]
  },
  {
   "cell_type": "code",
   "execution_count": 39,
   "metadata": {},
   "outputs": [],
   "source": [
    "# create tables with data on orders for each user\n",
    "orders_by_users_a = (\n",
    "    orders[orders['group'] == 'A']\n",
    "    .groupby('visitor_id', as_index=False)\n",
    "    .agg({'transaction_id': pd.Series.nunique})\n",
    ")\n",
    "orders_by_users_a.columns = ['visitor_id', 'orders']\n",
    "\n",
    "orders_by_users_b = (\n",
    "    orders[orders['group'] == 'B']\n",
    "    .groupby('visitor_id', as_index=False)\n",
    "    .agg({'transaction_id': pd.Series.nunique})\n",
    ")\n",
    "orders_by_users_b.columns = ['visitor_id', 'orders']"
   ]
  },
  {
   "cell_type": "markdown",
   "metadata": {},
   "source": [
    "Declare the variables sample_a and sample_b, in which the number of orders will correspond to users from different groups. Those who have not ordered anything will be matched with zeros. This is necessary to prepare the samples for verification by the Mann-Whitney criterion."
   ]
  },
  {
   "cell_type": "code",
   "execution_count": 40,
   "metadata": {},
   "outputs": [],
   "source": [
    "# declare the variables\n",
    "sample_a = pd.concat([orders_by_users_a['orders'],\n",
    "                     pd.Series(0, index=np.arange(\n",
    "                        data['visitors_per_date_a'].sum() - \n",
    "                        len(orders_by_users_a['orders'])),\n",
    "                               name='orders')], axis=0)\n",
    "\n",
    "sample_b = pd.concat([orders_by_users_b['orders'],\n",
    "                      pd.Series(0, index=np.arange(\n",
    "                         data['visitors_per_date_b'].sum() - \n",
    "                         len(orders_by_users_b['orders'])),\n",
    "                                name='orders')], axis=0) "
   ]
  },
  {
   "cell_type": "markdown",
   "metadata": {},
   "source": [
    "Apply the criterion and format the p-value, rounding it to three decimal places.  \n",
    "We will also output the relative increase in the average number of orders of group B: the average number of orders of group B / the average number of orders of group A is 1. Round to three decimal places."
   ]
  },
  {
   "cell_type": "code",
   "execution_count": 41,
   "metadata": {},
   "outputs": [
    {
     "name": "stdout",
     "output_type": "stream",
     "text": [
      "P-value: 0.017\n",
      "Differences in the average number of orders per visitor: 0.138\n"
     ]
    }
   ],
   "source": [
    "# find p-value\n",
    "print(\"P-value: {0:.3f}\".format(st.mannwhitneyu(sample_a, sample_b)[1]))\n",
    "\n",
    "# deduce the relative increase in the average number of group B orders\n",
    "print(\"Differences in the average number of orders per visitor: {0:.3f}\".format(sample_b.mean() / sample_a.mean() - 1))"
   ]
  },
  {
   "cell_type": "markdown",
   "metadata": {},
   "source": [
    "The first number is p-value = 0.017 less than 0.05. Therefore, we reject the null hypothesis that there are no statistically significant differences in the average number of orders between the groups.  \n",
    "However, the relative gain of group B is 13.8% — the second number in the output."
   ]
  },
  {
   "cell_type": "markdown",
   "metadata": {},
   "source": [
    "### Calculate the statistical significance of differences in the average bill between groups based on \"raw\" data"
   ]
  },
  {
   "cell_type": "markdown",
   "metadata": {},
   "source": [
    "Let's formulate hypotheses:  \n",
    "**H0** - there are no differences in the average bill between the groups  \n",
    "**H1** - there are differences in the average bill between the groups  \n",
    "\n",
    "Set the significance level alpha 0.05"
   ]
  },
  {
   "cell_type": "markdown",
   "metadata": {},
   "source": [
    "Let's apply the criterion and format the p-value, rounding it to three decimal places.  \n",
    "We will also output the relative increase in the average bill of group B: the average bill of group B / the average bill of group A is 1. Round to three decimal places."
   ]
  },
  {
   "cell_type": "code",
   "execution_count": 42,
   "metadata": {},
   "outputs": [
    {
     "name": "stdout",
     "output_type": "stream",
     "text": [
      "P-value: 0.829\n",
      "Differences in the average bill between groups: 0.287\n"
     ]
    }
   ],
   "source": [
    "# find p-value\n",
    "print('P-value: {0:.3f}'.format(st.mannwhitneyu(cleaned_orders[cleaned_orders['group']=='A']['revenue'], \n",
    "                                          cleaned_orders[cleaned_orders['group']=='B']['revenue'])[1]))\n",
    "\n",
    "# deduce the relative increase in the average check of group B\n",
    "print('Differences in the average bill between groups: {0:.3f}'.format(cleaned_orders[cleaned_orders['group']=='B']['revenue'].mean()/\n",
    "                       cleaned_orders[cleaned_orders['group']=='A']['revenue'].mean()-1)) "
   ]
  },
  {
   "cell_type": "markdown",
   "metadata": {},
   "source": [
    "The P-value is significantly higher than 0.05. Therefore, there is no reason to reject the null hypothesis and assume that there are differences in the average bill.  \n",
    "At the same time, the average check of group B is 28.7% higher than the average bill of group B, but this difference is not statistically significant."
   ]
  },
  {
   "cell_type": "markdown",
   "metadata": {},
   "source": [
    "### Calculate the statistical significance of differences in the average number of orders per visitor between groups based on \"cleared\" data"
   ]
  },
  {
   "cell_type": "markdown",
   "metadata": {},
   "source": [
    "Let's take as abnormal users those who have made at least 5 orders or made an order more expensive than 58233 rubles. This way we will remove 5% of users with the largest number of orders and from 1% to 5% of users with expensive orders.  \n",
    "Let's make slices of users with more than 4 orders — users_with_many_orders and users who made orders more expensive than 58233 — users_with_expensive_orders. Let's combine them in the abnormal_users table."
   ]
  },
  {
   "cell_type": "markdown",
   "metadata": {},
   "source": [
    "Find out how many abnormal users there are with the shape attribute"
   ]
  },
  {
   "cell_type": "code",
   "execution_count": 43,
   "metadata": {},
   "outputs": [
    {
     "name": "stdout",
     "output_type": "stream",
     "text": [
      "1099     148427295\n",
      "949      887908475\n",
      "744      888512513\n",
      "1103    1164614297\n",
      "1136    1307669133\n",
      "Name: visitor_id, dtype: int64\n"
     ]
    },
    {
     "data": {
      "text/plain": [
       "15"
      ]
     },
     "execution_count": 43,
     "metadata": {},
     "output_type": "execute_result"
    }
   ],
   "source": [
    "users_with_many_orders = pd.concat(\n",
    "    [\n",
    "        orders_by_users_a[orders_by_users_a['orders'] > np.percentile(orders_by_users['orders'], 99)]['visitor_id'],\n",
    "        orders_by_users_b[orders_by_users_b['orders'] > np.percentile(orders_by_users['orders'], 99)]['visitor_id']\n",
    "    ],\n",
    "    axis=0,\n",
    ")\n",
    "users_with_expensive_orders = orders[orders['revenue'] > np.percentile(orders['revenue'], 99)]['visitor_id']\n",
    "abnormal_users = (\n",
    "    pd.concat([users_with_many_orders, users_with_expensive_orders], axis=0)\n",
    "    .drop_duplicates()\n",
    "    .sort_values()\n",
    ")\n",
    "print(abnormal_users.head())\n",
    "abnormal_users.shape[0]"
   ]
  },
  {
   "cell_type": "markdown",
   "metadata": {},
   "source": [
    "There are 15 abnormal users in total.  \n",
    "Let's find out how their actions affected the test results. Let's calculate the statistical significance of the differences in the average number of orders between the test groups based on the cleared data. First, we will prepare samples of the number of orders by users by test groups:"
   ]
  },
  {
   "cell_type": "code",
   "execution_count": 44,
   "metadata": {},
   "outputs": [],
   "source": [
    "sample_a_filtered = pd.concat(\n",
    "    [\n",
    "        orders_by_users_a[\n",
    "            np.logical_not(orders_by_users_a['visitor_id'].isin(abnormal_users))\n",
    "        ]['orders'],\n",
    "        pd.Series(\n",
    "            0,\n",
    "            index=np.arange(\n",
    "                data['visitors_per_date_a'].sum() - len(orders_by_users_a['orders'])\n",
    "            ),\n",
    "            name='orders',\n",
    "        ),\n",
    "    ],\n",
    "    axis=0,\n",
    ")\n",
    "\n",
    "sample_b_filtered = pd.concat(\n",
    "    [\n",
    "        orders_by_users_b[\n",
    "            np.logical_not(orders_by_users_b['visitor_id'].isin(abnormal_users))\n",
    "        ]['orders'],\n",
    "        pd.Series(\n",
    "            0,\n",
    "            index=np.arange(\n",
    "                data['visitors_per_date_b'].sum() - len(orders_by_users_b['orders'])\n",
    "            ),\n",
    "            name='orders',\n",
    "        ),\n",
    "    ],\n",
    "    axis=0,\n",
    ")"
   ]
  },
  {
   "cell_type": "markdown",
   "metadata": {},
   "source": [
    "Apply the Mann-Whitney statistical criterion to the obtained samples:"
   ]
  },
  {
   "cell_type": "code",
   "execution_count": 45,
   "metadata": {},
   "outputs": [
    {
     "name": "stdout",
     "output_type": "stream",
     "text": [
      "P-value: 0.014\n",
      "Differences in the average number of orders per visitor: 0.153\n"
     ]
    }
   ],
   "source": [
    "# find p-value\n",
    "print('P-value: {0:.3f}'.format(st.mannwhitneyu(sample_a_filtered, sample_b_filtered)[1]))\n",
    "\n",
    "# deduce the relative increase in the average number of group B orders\n",
    "print('Differences in the average number of orders per visitor: {0:.3f}'.format(sample_b_filtered.mean()/sample_a_filtered.mean()-1))"
   ]
  },
  {
   "cell_type": "markdown",
   "metadata": {},
   "source": [
    "The results for the average number of orders have not changed much. This means that we still reject the null hypothesis that there are no statistically significant differences in the average number of orders between the groups. \n",
    "The relative increase in the conversion rate of Group B increased to 15.3%."
   ]
  },
  {
   "cell_type": "markdown",
   "metadata": {},
   "source": [
    "### Calculate the statistical significance of the differences in the average bill between the groups based on the \"cleared\" data"
   ]
  },
  {
   "cell_type": "code",
   "execution_count": 46,
   "metadata": {},
   "outputs": [
    {
     "name": "stdout",
     "output_type": "stream",
     "text": [
      "0.901\n",
      "-0.032\n"
     ]
    }
   ],
   "source": [
    "print(\n",
    "    '{0:.3f}'.format(\n",
    "        st.mannwhitneyu(\n",
    "            cleaned_orders[\n",
    "                np.logical_and(\n",
    "                    cleaned_orders['group'] == 'A',\n",
    "                    np.logical_not(cleaned_orders['visitor_id'].isin(abnormal_users)),\n",
    "                )\n",
    "            ]['revenue'],\n",
    "            cleaned_orders[\n",
    "                np.logical_and(\n",
    "                    cleaned_orders['group'] == 'B',\n",
    "                    np.logical_not(cleaned_orders['visitor_id'].isin(abnormal_users)),\n",
    "                )\n",
    "            ]['revenue'],\n",
    "        )[1]\n",
    "    )\n",
    ")\n",
    "\n",
    "print(\n",
    "    \"{0:.3f}\".format(\n",
    "        cleaned_orders[\n",
    "            np.logical_and(\n",
    "                cleaned_orders['group'] == 'B',\n",
    "                np.logical_not(cleaned_orders['visitor_id'].isin(abnormal_users)),\n",
    "            )\n",
    "        ]['revenue'].mean()\n",
    "        / cleaned_orders[\n",
    "            np.logical_and(\n",
    "                cleaned_orders['group'] == 'A',\n",
    "                np.logical_not(cleaned_orders['visitor_id'].isin(abnormal_users)),\n",
    "            )\n",
    "        ]['revenue'].mean()\n",
    "        - 1\n",
    "    )\n",
    ")"
   ]
  },
  {
   "cell_type": "markdown",
   "metadata": {},
   "source": [
    "The P-value has increased, which means it is still more than 0.05. Therefore, there is still no reason to reject the null hypothesis and assume that there are differences in the average check.  \n",
    "But the average check of group B has not become much lower than the average check of group A, but this difference is not statistically significant."
   ]
  },
  {
   "cell_type": "markdown",
   "metadata": {},
   "source": [
    "## Conclusions"
   ]
  },
  {
   "cell_type": "markdown",
   "metadata": {},
   "source": [
    "As part of this project, an analysis of a large online store was conducted.  \n",
    "Data preprocessing was performed, hypotheses were prioritized, an A/B test was run, and results were obtained.\n",
    "\n",
    "**In terms of hypothesis prioritization, the most promising hypotheses are:**  \n",
    "1. Launch a promotion offering a discount on products on customers' birthdays  \n",
    "2. Add two new traffic acquisition channels, which will increase user acquisition by 30%  \n",
    "3. Add a subscription form to all main pages to build a customer database for email newsletters  \n",
    "\n",
    "If the user reach is also considered for prioritizing hypotheses, the most promising hypotheses are as follows:  \n",
    "1. Add a subscription form to all main pages to build a customer database for email newsletters  \n",
    "2. Add product recommendation blocks to the online store’s website to increase conversion and average order value  \n",
    "3. Add two new traffic acquisition channels, which will increase user acquisition by 30%  \n",
    "\n",
    "**Results of the A/B test analysis:**  \n",
    "- The hypothesis that there are no statistically significant differences in the average number of orders between the groups is rejected, both for \"raw\" and cleaned data. After removing anomalies, the conversion of group B is 15.3% higher than that of group A.  \n",
    "- There is no statistically significant difference in the average check between the groups, neither for the \"raw\" data nor for the data after anomaly filtering. However, after removing anomalies, the average check for group B is slightly lower than for group A.  \n",
    "- The relative change graph of the cumulative conversion of group B compared to group A shows that group B's results are consistently better than group A's.\n",
    "\n",
    "**Based on the findings, the test should be stopped, and group B should be declared the winner.**"
   ]
  },
  {
   "cell_type": "code",
   "execution_count": null,
   "metadata": {},
   "outputs": [],
   "source": []
  }
 ],
 "metadata": {
  "ExecuteTimeLog": [
   {
    "duration": 1333,
    "start_time": "2024-08-26T17:16:06.775Z"
   },
   {
    "duration": 227,
    "start_time": "2024-08-26T17:16:46.330Z"
   },
   {
    "duration": 13,
    "start_time": "2024-08-26T17:18:24.739Z"
   },
   {
    "duration": 8,
    "start_time": "2024-08-26T17:19:13.517Z"
   },
   {
    "duration": 10,
    "start_time": "2024-08-26T17:19:18.696Z"
   },
   {
    "duration": 113,
    "start_time": "2024-08-26T17:19:34.558Z"
   },
   {
    "duration": 37,
    "start_time": "2024-08-26T17:19:43.138Z"
   },
   {
    "duration": 10,
    "start_time": "2024-08-26T17:19:56.771Z"
   },
   {
    "duration": 11,
    "start_time": "2024-08-26T17:20:17.845Z"
   },
   {
    "duration": 6,
    "start_time": "2024-08-26T17:21:04.873Z"
   },
   {
    "duration": 8,
    "start_time": "2024-08-26T17:22:39.127Z"
   },
   {
    "duration": 3,
    "start_time": "2024-08-26T17:22:48.947Z"
   },
   {
    "duration": 79,
    "start_time": "2024-08-26T17:23:25.739Z"
   },
   {
    "duration": 8,
    "start_time": "2024-08-26T17:23:40.415Z"
   },
   {
    "duration": 15,
    "start_time": "2024-08-26T17:24:20.458Z"
   },
   {
    "duration": 9,
    "start_time": "2024-08-26T17:24:30.669Z"
   },
   {
    "duration": 6,
    "start_time": "2024-08-26T17:24:36.900Z"
   },
   {
    "duration": 12,
    "start_time": "2024-08-26T17:26:36.185Z"
   },
   {
    "duration": 6,
    "start_time": "2024-08-26T17:27:53.540Z"
   },
   {
    "duration": 10,
    "start_time": "2024-08-26T17:28:25.617Z"
   },
   {
    "duration": 5,
    "start_time": "2024-08-26T17:28:48.927Z"
   },
   {
    "duration": 11,
    "start_time": "2024-08-26T17:29:37.061Z"
   },
   {
    "duration": 7,
    "start_time": "2024-08-26T18:02:39.531Z"
   },
   {
    "duration": 1214,
    "start_time": "2024-08-26T18:02:59.079Z"
   },
   {
    "duration": 79,
    "start_time": "2024-08-26T18:03:00.295Z"
   },
   {
    "duration": 11,
    "start_time": "2024-08-26T18:03:00.376Z"
   },
   {
    "duration": 18,
    "start_time": "2024-08-26T18:03:00.388Z"
   },
   {
    "duration": 24,
    "start_time": "2024-08-26T18:03:00.408Z"
   },
   {
    "duration": 11,
    "start_time": "2024-08-26T18:03:00.434Z"
   },
   {
    "duration": 10,
    "start_time": "2024-08-26T18:03:00.447Z"
   },
   {
    "duration": 21,
    "start_time": "2024-08-26T18:03:00.459Z"
   },
   {
    "duration": 7,
    "start_time": "2024-08-26T18:03:00.482Z"
   },
   {
    "duration": 19,
    "start_time": "2024-08-26T18:03:00.490Z"
   },
   {
    "duration": 16,
    "start_time": "2024-08-26T18:03:00.511Z"
   },
   {
    "duration": 24,
    "start_time": "2024-08-26T18:03:00.529Z"
   },
   {
    "duration": 8,
    "start_time": "2024-08-26T18:03:00.554Z"
   },
   {
    "duration": 16,
    "start_time": "2024-08-26T18:03:00.566Z"
   },
   {
    "duration": 18,
    "start_time": "2024-08-26T18:03:00.584Z"
   },
   {
    "duration": 103,
    "start_time": "2024-08-26T18:03:00.604Z"
   },
   {
    "duration": 10,
    "start_time": "2024-08-26T18:03:33.805Z"
   },
   {
    "duration": 15,
    "start_time": "2024-08-26T18:28:36.623Z"
   },
   {
    "duration": 12,
    "start_time": "2024-08-26T18:30:13.544Z"
   },
   {
    "duration": 1160,
    "start_time": "2024-08-26T18:31:20.080Z"
   },
   {
    "duration": 74,
    "start_time": "2024-08-26T18:31:21.242Z"
   },
   {
    "duration": 10,
    "start_time": "2024-08-26T18:31:21.318Z"
   },
   {
    "duration": 15,
    "start_time": "2024-08-26T18:31:21.330Z"
   },
   {
    "duration": 6,
    "start_time": "2024-08-26T18:31:21.346Z"
   },
   {
    "duration": 3,
    "start_time": "2024-08-26T18:31:21.354Z"
   },
   {
    "duration": 9,
    "start_time": "2024-08-26T18:31:21.358Z"
   },
   {
    "duration": 19,
    "start_time": "2024-08-26T18:31:21.368Z"
   },
   {
    "duration": 7,
    "start_time": "2024-08-26T18:31:21.388Z"
   },
   {
    "duration": 12,
    "start_time": "2024-08-26T18:31:21.397Z"
   },
   {
    "duration": 22,
    "start_time": "2024-08-26T18:31:21.411Z"
   },
   {
    "duration": 16,
    "start_time": "2024-08-26T18:31:21.434Z"
   },
   {
    "duration": 10,
    "start_time": "2024-08-26T18:31:21.452Z"
   },
   {
    "duration": 12,
    "start_time": "2024-08-26T18:31:21.463Z"
   },
   {
    "duration": 11,
    "start_time": "2024-08-26T18:31:21.476Z"
   },
   {
    "duration": 107,
    "start_time": "2024-08-26T18:31:21.489Z"
   },
   {
    "duration": 13,
    "start_time": "2024-08-26T18:38:46.954Z"
   },
   {
    "duration": 50,
    "start_time": "2024-08-27T11:28:40.008Z"
   },
   {
    "duration": 1423,
    "start_time": "2024-08-27T11:28:52.684Z"
   },
   {
    "duration": 219,
    "start_time": "2024-08-27T11:28:54.109Z"
   },
   {
    "duration": 12,
    "start_time": "2024-08-27T11:28:54.329Z"
   },
   {
    "duration": 11,
    "start_time": "2024-08-27T11:28:54.343Z"
   },
   {
    "duration": 5,
    "start_time": "2024-08-27T11:28:54.355Z"
   },
   {
    "duration": 8,
    "start_time": "2024-08-27T11:28:54.362Z"
   },
   {
    "duration": 23,
    "start_time": "2024-08-27T11:28:54.371Z"
   },
   {
    "duration": 11,
    "start_time": "2024-08-27T11:28:54.396Z"
   },
   {
    "duration": 6,
    "start_time": "2024-08-27T11:28:54.409Z"
   },
   {
    "duration": 17,
    "start_time": "2024-08-27T11:28:54.417Z"
   },
   {
    "duration": 50,
    "start_time": "2024-08-27T11:28:54.436Z"
   },
   {
    "duration": 61,
    "start_time": "2024-08-27T11:28:54.488Z"
   },
   {
    "duration": 7,
    "start_time": "2024-08-27T11:28:54.551Z"
   },
   {
    "duration": 22,
    "start_time": "2024-08-27T11:28:54.560Z"
   },
   {
    "duration": 18,
    "start_time": "2024-08-27T11:28:54.584Z"
   },
   {
    "duration": 14,
    "start_time": "2024-08-27T11:28:54.604Z"
   },
   {
    "duration": 27,
    "start_time": "2024-08-27T11:28:54.620Z"
   },
   {
    "duration": 5,
    "start_time": "2024-08-27T13:19:34.568Z"
   },
   {
    "duration": 86,
    "start_time": "2024-08-27T13:19:34.575Z"
   },
   {
    "duration": 10,
    "start_time": "2024-08-27T13:19:34.662Z"
   },
   {
    "duration": 32,
    "start_time": "2024-08-27T13:19:34.674Z"
   },
   {
    "duration": 22,
    "start_time": "2024-08-27T13:19:34.709Z"
   },
   {
    "duration": 4,
    "start_time": "2024-08-27T13:19:34.733Z"
   },
   {
    "duration": 10,
    "start_time": "2024-08-27T13:19:34.739Z"
   },
   {
    "duration": 14,
    "start_time": "2024-08-27T13:19:34.752Z"
   },
   {
    "duration": 32,
    "start_time": "2024-08-27T13:19:34.768Z"
   },
   {
    "duration": 35,
    "start_time": "2024-08-27T13:19:34.802Z"
   },
   {
    "duration": 33,
    "start_time": "2024-08-27T13:19:34.839Z"
   },
   {
    "duration": 19,
    "start_time": "2024-08-27T13:19:34.874Z"
   },
   {
    "duration": 86,
    "start_time": "2024-08-27T13:19:34.895Z"
   },
   {
    "duration": 39,
    "start_time": "2024-08-27T13:19:34.983Z"
   },
   {
    "duration": 34,
    "start_time": "2024-08-27T13:19:35.023Z"
   },
   {
    "duration": 63,
    "start_time": "2024-08-27T13:19:35.060Z"
   },
   {
    "duration": 13,
    "start_time": "2024-08-27T13:19:35.126Z"
   },
   {
    "duration": 144,
    "start_time": "2024-08-27T13:47:15.315Z"
   },
   {
    "duration": 26,
    "start_time": "2024-08-27T13:47:40.115Z"
   },
   {
    "duration": 17,
    "start_time": "2024-08-27T13:54:10.291Z"
   },
   {
    "duration": 1195,
    "start_time": "2024-08-27T13:54:16.145Z"
   },
   {
    "duration": 73,
    "start_time": "2024-08-27T13:54:17.342Z"
   },
   {
    "duration": 14,
    "start_time": "2024-08-27T13:54:17.417Z"
   },
   {
    "duration": 11,
    "start_time": "2024-08-27T13:54:17.434Z"
   },
   {
    "duration": 15,
    "start_time": "2024-08-27T13:54:17.446Z"
   },
   {
    "duration": 38,
    "start_time": "2024-08-27T13:54:17.462Z"
   },
   {
    "duration": 14,
    "start_time": "2024-08-27T13:54:17.502Z"
   },
   {
    "duration": 15,
    "start_time": "2024-08-27T13:54:17.519Z"
   },
   {
    "duration": 15,
    "start_time": "2024-08-27T13:54:17.535Z"
   },
   {
    "duration": 39,
    "start_time": "2024-08-27T13:54:17.553Z"
   },
   {
    "duration": 7,
    "start_time": "2024-08-27T13:54:17.594Z"
   },
   {
    "duration": 18,
    "start_time": "2024-08-27T13:54:17.603Z"
   },
   {
    "duration": 15,
    "start_time": "2024-08-27T13:54:17.625Z"
   },
   {
    "duration": 15,
    "start_time": "2024-08-27T13:54:17.641Z"
   },
   {
    "duration": 20,
    "start_time": "2024-08-27T13:54:17.658Z"
   },
   {
    "duration": 13,
    "start_time": "2024-08-27T13:54:17.680Z"
   },
   {
    "duration": 9,
    "start_time": "2024-08-27T13:54:17.707Z"
   },
   {
    "duration": 256,
    "start_time": "2024-08-27T13:54:17.719Z"
   },
   {
    "duration": 126,
    "start_time": "2024-08-27T13:54:17.976Z"
   },
   {
    "duration": 155,
    "start_time": "2024-08-27T13:57:59.084Z"
   },
   {
    "duration": 64,
    "start_time": "2024-08-27T14:04:35.102Z"
   },
   {
    "duration": 17,
    "start_time": "2024-08-27T14:05:01.624Z"
   },
   {
    "duration": 288,
    "start_time": "2024-08-27T14:12:01.415Z"
   },
   {
    "duration": 205,
    "start_time": "2024-08-27T14:12:14.207Z"
   },
   {
    "duration": 299,
    "start_time": "2024-08-27T14:12:42.719Z"
   },
   {
    "duration": 221,
    "start_time": "2024-08-27T14:13:07.435Z"
   },
   {
    "duration": 225,
    "start_time": "2024-08-27T14:14:02.957Z"
   },
   {
    "duration": 175,
    "start_time": "2024-08-27T14:14:41.547Z"
   },
   {
    "duration": 168,
    "start_time": "2024-08-27T14:14:48.859Z"
   },
   {
    "duration": 301,
    "start_time": "2024-08-27T14:14:58.524Z"
   },
   {
    "duration": 265,
    "start_time": "2024-08-27T14:15:32.907Z"
   },
   {
    "duration": 257,
    "start_time": "2024-08-27T14:33:10.628Z"
   },
   {
    "duration": 221,
    "start_time": "2024-08-27T14:33:28.729Z"
   },
   {
    "duration": 243,
    "start_time": "2024-08-27T14:33:34.370Z"
   },
   {
    "duration": 13,
    "start_time": "2024-08-27T14:33:51.138Z"
   },
   {
    "duration": 231,
    "start_time": "2024-08-27T14:34:01.817Z"
   },
   {
    "duration": 232,
    "start_time": "2024-08-27T14:34:38.369Z"
   },
   {
    "duration": 244,
    "start_time": "2024-08-27T14:34:46.113Z"
   },
   {
    "duration": 236,
    "start_time": "2024-08-27T14:37:40.652Z"
   },
   {
    "duration": 289,
    "start_time": "2024-08-27T14:51:28.634Z"
   },
   {
    "duration": 337,
    "start_time": "2024-08-27T14:51:44.288Z"
   },
   {
    "duration": 471,
    "start_time": "2024-08-27T14:52:57.283Z"
   },
   {
    "duration": 356,
    "start_time": "2024-08-27T14:53:13.313Z"
   },
   {
    "duration": 51,
    "start_time": "2024-08-27T17:26:36.730Z"
   },
   {
    "duration": 1400,
    "start_time": "2024-08-27T17:27:05.297Z"
   },
   {
    "duration": 221,
    "start_time": "2024-08-27T17:27:06.699Z"
   },
   {
    "duration": 11,
    "start_time": "2024-08-27T17:27:06.922Z"
   },
   {
    "duration": 11,
    "start_time": "2024-08-27T17:27:06.935Z"
   },
   {
    "duration": 9,
    "start_time": "2024-08-27T17:27:06.947Z"
   },
   {
    "duration": 78,
    "start_time": "2024-08-27T17:27:06.959Z"
   },
   {
    "duration": 8,
    "start_time": "2024-08-27T17:27:07.039Z"
   },
   {
    "duration": 14,
    "start_time": "2024-08-27T17:27:07.049Z"
   },
   {
    "duration": 10,
    "start_time": "2024-08-27T17:27:07.066Z"
   },
   {
    "duration": 15,
    "start_time": "2024-08-27T17:27:07.078Z"
   },
   {
    "duration": 17,
    "start_time": "2024-08-27T17:27:07.095Z"
   },
   {
    "duration": 16,
    "start_time": "2024-08-27T17:27:07.113Z"
   },
   {
    "duration": 31,
    "start_time": "2024-08-27T17:27:07.132Z"
   },
   {
    "duration": 24,
    "start_time": "2024-08-27T17:27:07.165Z"
   },
   {
    "duration": 15,
    "start_time": "2024-08-27T17:27:07.190Z"
   },
   {
    "duration": 14,
    "start_time": "2024-08-27T17:27:07.207Z"
   },
   {
    "duration": 7,
    "start_time": "2024-08-27T17:27:07.225Z"
   },
   {
    "duration": 224,
    "start_time": "2024-08-27T17:27:07.234Z"
   },
   {
    "duration": 149,
    "start_time": "2024-08-27T17:27:07.460Z"
   },
   {
    "duration": 11,
    "start_time": "2024-08-27T17:27:07.610Z"
   },
   {
    "duration": 399,
    "start_time": "2024-08-27T17:27:07.622Z"
   },
   {
    "duration": 266,
    "start_time": "2024-08-27T17:27:08.022Z"
   },
   {
    "duration": 386,
    "start_time": "2024-08-27T17:27:08.290Z"
   },
   {
    "duration": 12,
    "start_time": "2024-08-27T17:27:08.678Z"
   },
   {
    "duration": 10,
    "start_time": "2024-08-27T17:27:40.023Z"
   },
   {
    "duration": 4,
    "start_time": "2024-08-27T17:27:42.540Z"
   },
   {
    "duration": 8,
    "start_time": "2024-08-27T17:28:32.866Z"
   },
   {
    "duration": 1525,
    "start_time": "2024-08-27T17:30:50.856Z"
   },
   {
    "duration": 290,
    "start_time": "2024-08-27T17:31:01.045Z"
   },
   {
    "duration": 236,
    "start_time": "2024-08-27T17:31:38.571Z"
   },
   {
    "duration": 219,
    "start_time": "2024-08-27T17:42:53.764Z"
   },
   {
    "duration": 993,
    "start_time": "2024-08-27T17:43:25.638Z"
   },
   {
    "duration": 331,
    "start_time": "2024-08-27T17:44:20.057Z"
   },
   {
    "duration": 434,
    "start_time": "2024-08-27T17:45:06.960Z"
   },
   {
    "duration": 320,
    "start_time": "2024-08-27T17:45:34.470Z"
   },
   {
    "duration": 334,
    "start_time": "2024-08-27T17:45:40.534Z"
   },
   {
    "duration": 24,
    "start_time": "2024-08-27T18:16:37.757Z"
   },
   {
    "duration": 14,
    "start_time": "2024-08-27T18:16:50.578Z"
   },
   {
    "duration": 131,
    "start_time": "2024-08-27T18:18:13.811Z"
   },
   {
    "duration": 129,
    "start_time": "2024-08-27T18:19:51.261Z"
   },
   {
    "duration": 15,
    "start_time": "2024-08-27T18:21:50.028Z"
   },
   {
    "duration": 13,
    "start_time": "2024-08-27T18:22:28.267Z"
   },
   {
    "duration": 128,
    "start_time": "2024-08-27T18:22:31.371Z"
   },
   {
    "duration": 139,
    "start_time": "2024-08-27T18:22:34.899Z"
   },
   {
    "duration": 164,
    "start_time": "2024-08-27T18:23:15.429Z"
   },
   {
    "duration": 152,
    "start_time": "2024-08-27T18:23:59.630Z"
   },
   {
    "duration": 174,
    "start_time": "2024-08-27T18:24:17.177Z"
   },
   {
    "duration": 197,
    "start_time": "2024-08-27T18:26:14.090Z"
   },
   {
    "duration": 55,
    "start_time": "2024-08-28T07:22:31.302Z"
   },
   {
    "duration": 1461,
    "start_time": "2024-08-28T07:22:40.296Z"
   },
   {
    "duration": 234,
    "start_time": "2024-08-28T07:22:41.760Z"
   },
   {
    "duration": 16,
    "start_time": "2024-08-28T07:22:41.996Z"
   },
   {
    "duration": 14,
    "start_time": "2024-08-28T07:22:42.014Z"
   },
   {
    "duration": 16,
    "start_time": "2024-08-28T07:22:42.030Z"
   },
   {
    "duration": 11,
    "start_time": "2024-08-28T07:22:42.048Z"
   },
   {
    "duration": 20,
    "start_time": "2024-08-28T07:22:42.061Z"
   },
   {
    "duration": 18,
    "start_time": "2024-08-28T07:22:42.083Z"
   },
   {
    "duration": 11,
    "start_time": "2024-08-28T07:22:42.105Z"
   },
   {
    "duration": 25,
    "start_time": "2024-08-28T07:22:42.117Z"
   },
   {
    "duration": 34,
    "start_time": "2024-08-28T07:22:42.144Z"
   },
   {
    "duration": 27,
    "start_time": "2024-08-28T07:22:42.180Z"
   },
   {
    "duration": 17,
    "start_time": "2024-08-28T07:22:42.209Z"
   },
   {
    "duration": 12,
    "start_time": "2024-08-28T07:22:42.229Z"
   },
   {
    "duration": 36,
    "start_time": "2024-08-28T07:22:42.243Z"
   },
   {
    "duration": 25,
    "start_time": "2024-08-28T07:22:42.280Z"
   },
   {
    "duration": 7,
    "start_time": "2024-08-28T07:22:42.307Z"
   },
   {
    "duration": 200,
    "start_time": "2024-08-28T07:22:42.316Z"
   },
   {
    "duration": 149,
    "start_time": "2024-08-28T07:22:42.518Z"
   },
   {
    "duration": 14,
    "start_time": "2024-08-28T07:22:42.668Z"
   },
   {
    "duration": 538,
    "start_time": "2024-08-28T07:22:42.684Z"
   },
   {
    "duration": 268,
    "start_time": "2024-08-28T07:22:43.224Z"
   },
   {
    "duration": 396,
    "start_time": "2024-08-28T07:22:43.494Z"
   },
   {
    "duration": 20,
    "start_time": "2024-08-28T07:22:43.892Z"
   },
   {
    "duration": 25,
    "start_time": "2024-08-28T07:22:43.913Z"
   },
   {
    "duration": 270,
    "start_time": "2024-08-28T07:22:43.940Z"
   },
   {
    "duration": 346,
    "start_time": "2024-08-28T07:22:44.212Z"
   },
   {
    "duration": 13,
    "start_time": "2024-08-28T07:22:44.560Z"
   },
   {
    "duration": 158,
    "start_time": "2024-08-28T07:22:44.575Z"
   },
   {
    "duration": 259,
    "start_time": "2024-08-28T07:22:44.735Z"
   },
   {
    "duration": 12,
    "start_time": "2024-08-28T07:22:44.996Z"
   },
   {
    "duration": 6,
    "start_time": "2024-08-28T08:03:18.051Z"
   },
   {
    "duration": 5,
    "start_time": "2024-08-28T08:03:22.162Z"
   },
   {
    "duration": 228,
    "start_time": "2024-08-28T08:09:27.728Z"
   },
   {
    "duration": 198,
    "start_time": "2024-08-28T08:12:42.300Z"
   },
   {
    "duration": 179,
    "start_time": "2024-08-28T08:13:17.030Z"
   },
   {
    "duration": 4,
    "start_time": "2024-08-28T08:15:39.667Z"
   },
   {
    "duration": 117,
    "start_time": "2024-08-28T12:52:54.162Z"
   },
   {
    "duration": 143,
    "start_time": "2024-08-28T12:53:22.761Z"
   },
   {
    "duration": 25,
    "start_time": "2024-08-28T14:06:36.838Z"
   },
   {
    "duration": 265,
    "start_time": "2024-08-28T14:07:53.182Z"
   },
   {
    "duration": 293,
    "start_time": "2024-08-28T14:11:00.687Z"
   },
   {
    "duration": 9,
    "start_time": "2024-08-28T14:35:44.680Z"
   },
   {
    "duration": 48,
    "start_time": "2024-08-28T18:02:25.645Z"
   },
   {
    "duration": 1403,
    "start_time": "2024-08-28T18:02:35.737Z"
   },
   {
    "duration": 236,
    "start_time": "2024-08-28T18:02:37.142Z"
   },
   {
    "duration": 11,
    "start_time": "2024-08-28T18:02:37.380Z"
   },
   {
    "duration": 10,
    "start_time": "2024-08-28T18:02:37.393Z"
   },
   {
    "duration": 12,
    "start_time": "2024-08-28T18:02:37.405Z"
   },
   {
    "duration": 8,
    "start_time": "2024-08-28T18:02:37.419Z"
   },
   {
    "duration": 10,
    "start_time": "2024-08-28T18:02:37.428Z"
   },
   {
    "duration": 10,
    "start_time": "2024-08-28T18:02:37.439Z"
   },
   {
    "duration": 55,
    "start_time": "2024-08-28T18:02:37.450Z"
   },
   {
    "duration": 35,
    "start_time": "2024-08-28T18:02:37.506Z"
   },
   {
    "duration": 33,
    "start_time": "2024-08-28T18:02:37.542Z"
   },
   {
    "duration": 11,
    "start_time": "2024-08-28T18:02:37.577Z"
   },
   {
    "duration": 7,
    "start_time": "2024-08-28T18:02:37.589Z"
   },
   {
    "duration": 11,
    "start_time": "2024-08-28T18:02:37.598Z"
   },
   {
    "duration": 18,
    "start_time": "2024-08-28T18:02:37.610Z"
   },
   {
    "duration": 12,
    "start_time": "2024-08-28T18:02:37.629Z"
   },
   {
    "duration": 5,
    "start_time": "2024-08-28T18:02:37.654Z"
   },
   {
    "duration": 182,
    "start_time": "2024-08-28T18:02:37.661Z"
   },
   {
    "duration": 144,
    "start_time": "2024-08-28T18:02:37.845Z"
   },
   {
    "duration": 50,
    "start_time": "2024-08-28T18:02:37.991Z"
   },
   {
    "duration": 349,
    "start_time": "2024-08-28T18:02:38.043Z"
   },
   {
    "duration": 228,
    "start_time": "2024-08-28T18:02:38.394Z"
   },
   {
    "duration": 412,
    "start_time": "2024-08-28T18:02:38.624Z"
   },
   {
    "duration": 11,
    "start_time": "2024-08-28T18:02:39.038Z"
   },
   {
    "duration": 42,
    "start_time": "2024-08-28T18:02:39.053Z"
   },
   {
    "duration": 228,
    "start_time": "2024-08-28T18:02:39.097Z"
   },
   {
    "duration": 343,
    "start_time": "2024-08-28T18:02:39.327Z"
   },
   {
    "duration": 11,
    "start_time": "2024-08-28T18:02:39.672Z"
   },
   {
    "duration": 160,
    "start_time": "2024-08-28T18:02:39.685Z"
   },
   {
    "duration": 234,
    "start_time": "2024-08-28T18:02:39.853Z"
   },
   {
    "duration": 5,
    "start_time": "2024-08-28T18:02:40.089Z"
   },
   {
    "duration": 194,
    "start_time": "2024-08-28T18:02:40.095Z"
   },
   {
    "duration": 195,
    "start_time": "2024-08-28T18:02:40.291Z"
   },
   {
    "duration": 4,
    "start_time": "2024-08-28T18:02:40.488Z"
   },
   {
    "duration": 225,
    "start_time": "2024-08-28T18:02:40.493Z"
   },
   {
    "duration": 128,
    "start_time": "2024-08-28T18:02:40.719Z"
   },
   {
    "duration": 8,
    "start_time": "2024-08-28T18:02:40.849Z"
   },
   {
    "duration": 109,
    "start_time": "2024-08-28T18:02:40.858Z"
   },
   {
    "duration": 9,
    "start_time": "2024-08-28T18:03:10.616Z"
   },
   {
    "duration": 25,
    "start_time": "2024-08-28T18:03:31.809Z"
   },
   {
    "duration": 10,
    "start_time": "2024-08-28T18:15:49.520Z"
   },
   {
    "duration": 10,
    "start_time": "2024-08-28T18:15:54.834Z"
   },
   {
    "duration": 7,
    "start_time": "2024-08-28T18:22:22.554Z"
   },
   {
    "duration": 1153,
    "start_time": "2024-08-28T18:22:31.268Z"
   },
   {
    "duration": 80,
    "start_time": "2024-08-28T18:22:32.423Z"
   },
   {
    "duration": 12,
    "start_time": "2024-08-28T18:22:32.504Z"
   },
   {
    "duration": 11,
    "start_time": "2024-08-28T18:22:32.519Z"
   },
   {
    "duration": 26,
    "start_time": "2024-08-28T18:22:32.532Z"
   },
   {
    "duration": 4,
    "start_time": "2024-08-28T18:22:32.560Z"
   },
   {
    "duration": 9,
    "start_time": "2024-08-28T18:22:32.566Z"
   },
   {
    "duration": 23,
    "start_time": "2024-08-28T18:22:32.576Z"
   },
   {
    "duration": 19,
    "start_time": "2024-08-28T18:22:32.601Z"
   },
   {
    "duration": 14,
    "start_time": "2024-08-28T18:22:32.624Z"
   },
   {
    "duration": 17,
    "start_time": "2024-08-28T18:22:32.640Z"
   },
   {
    "duration": 17,
    "start_time": "2024-08-28T18:22:32.658Z"
   },
   {
    "duration": 8,
    "start_time": "2024-08-28T18:22:32.676Z"
   },
   {
    "duration": 14,
    "start_time": "2024-08-28T18:22:32.685Z"
   },
   {
    "duration": 14,
    "start_time": "2024-08-28T18:22:32.701Z"
   },
   {
    "duration": 38,
    "start_time": "2024-08-28T18:22:32.716Z"
   },
   {
    "duration": 6,
    "start_time": "2024-08-28T18:22:32.755Z"
   },
   {
    "duration": 179,
    "start_time": "2024-08-28T18:22:32.762Z"
   },
   {
    "duration": 132,
    "start_time": "2024-08-28T18:22:32.942Z"
   },
   {
    "duration": 12,
    "start_time": "2024-08-28T18:22:33.075Z"
   },
   {
    "duration": 345,
    "start_time": "2024-08-28T18:22:33.089Z"
   },
   {
    "duration": 243,
    "start_time": "2024-08-28T18:22:33.436Z"
   },
   {
    "duration": 320,
    "start_time": "2024-08-28T18:22:33.680Z"
   },
   {
    "duration": 11,
    "start_time": "2024-08-28T18:22:34.001Z"
   },
   {
    "duration": 5,
    "start_time": "2024-08-28T18:22:34.013Z"
   },
   {
    "duration": 253,
    "start_time": "2024-08-28T18:22:34.019Z"
   },
   {
    "duration": 330,
    "start_time": "2024-08-28T18:22:34.274Z"
   },
   {
    "duration": 10,
    "start_time": "2024-08-28T18:22:34.608Z"
   },
   {
    "duration": 154,
    "start_time": "2024-08-28T18:22:34.620Z"
   },
   {
    "duration": 206,
    "start_time": "2024-08-28T18:22:34.775Z"
   },
   {
    "duration": 4,
    "start_time": "2024-08-28T18:22:34.982Z"
   },
   {
    "duration": 247,
    "start_time": "2024-08-28T18:22:34.988Z"
   },
   {
    "duration": 200,
    "start_time": "2024-08-28T18:22:35.236Z"
   },
   {
    "duration": 5,
    "start_time": "2024-08-28T18:22:35.438Z"
   },
   {
    "duration": 233,
    "start_time": "2024-08-28T18:22:35.454Z"
   },
   {
    "duration": 142,
    "start_time": "2024-08-28T18:22:35.689Z"
   },
   {
    "duration": 8,
    "start_time": "2024-08-28T18:22:35.833Z"
   },
   {
    "duration": 69,
    "start_time": "2024-08-28T18:22:35.842Z"
   },
   {
    "duration": 11,
    "start_time": "2024-08-28T18:22:35.913Z"
   },
   {
    "duration": 14,
    "start_time": "2024-08-28T19:35:43.126Z"
   },
   {
    "duration": 12,
    "start_time": "2024-08-28T19:35:50.912Z"
   },
   {
    "duration": 9,
    "start_time": "2024-08-28T19:40:55.673Z"
   },
   {
    "duration": 26,
    "start_time": "2024-08-28T19:42:59.974Z"
   },
   {
    "duration": 58,
    "start_time": "2024-08-28T19:43:49.724Z"
   },
   {
    "duration": 1242,
    "start_time": "2024-08-29T14:34:26.248Z"
   },
   {
    "duration": 235,
    "start_time": "2024-08-29T14:34:27.492Z"
   },
   {
    "duration": 9,
    "start_time": "2024-08-29T14:34:27.729Z"
   },
   {
    "duration": 14,
    "start_time": "2024-08-29T14:34:27.740Z"
   },
   {
    "duration": 7,
    "start_time": "2024-08-29T14:34:27.755Z"
   },
   {
    "duration": 6,
    "start_time": "2024-08-29T14:34:27.763Z"
   },
   {
    "duration": 17,
    "start_time": "2024-08-29T14:34:27.770Z"
   },
   {
    "duration": 11,
    "start_time": "2024-08-29T14:34:27.788Z"
   },
   {
    "duration": 4,
    "start_time": "2024-08-29T14:34:27.800Z"
   },
   {
    "duration": 11,
    "start_time": "2024-08-29T14:34:27.807Z"
   },
   {
    "duration": 18,
    "start_time": "2024-08-29T14:34:27.820Z"
   },
   {
    "duration": 8,
    "start_time": "2024-08-29T14:34:27.840Z"
   },
   {
    "duration": 9,
    "start_time": "2024-08-29T14:34:27.849Z"
   },
   {
    "duration": 11,
    "start_time": "2024-08-29T14:34:27.859Z"
   },
   {
    "duration": 48,
    "start_time": "2024-08-29T14:34:27.871Z"
   },
   {
    "duration": 11,
    "start_time": "2024-08-29T14:34:27.920Z"
   },
   {
    "duration": 12,
    "start_time": "2024-08-29T14:34:27.932Z"
   },
   {
    "duration": 162,
    "start_time": "2024-08-29T14:34:27.945Z"
   },
   {
    "duration": 118,
    "start_time": "2024-08-29T14:34:28.109Z"
   },
   {
    "duration": 11,
    "start_time": "2024-08-29T14:34:28.228Z"
   },
   {
    "duration": 307,
    "start_time": "2024-08-29T14:34:28.240Z"
   },
   {
    "duration": 209,
    "start_time": "2024-08-29T14:34:28.549Z"
   },
   {
    "duration": 387,
    "start_time": "2024-08-29T14:34:28.760Z"
   },
   {
    "duration": 10,
    "start_time": "2024-08-29T14:34:29.149Z"
   },
   {
    "duration": 8,
    "start_time": "2024-08-29T14:34:29.160Z"
   },
   {
    "duration": 225,
    "start_time": "2024-08-29T14:34:29.170Z"
   },
   {
    "duration": 309,
    "start_time": "2024-08-29T14:34:29.396Z"
   },
   {
    "duration": 10,
    "start_time": "2024-08-29T14:34:29.708Z"
   },
   {
    "duration": 132,
    "start_time": "2024-08-29T14:34:29.720Z"
   },
   {
    "duration": 160,
    "start_time": "2024-08-29T14:34:29.854Z"
   },
   {
    "duration": 4,
    "start_time": "2024-08-29T14:34:30.016Z"
   },
   {
    "duration": 266,
    "start_time": "2024-08-29T14:34:30.022Z"
   },
   {
    "duration": 169,
    "start_time": "2024-08-29T14:34:30.290Z"
   },
   {
    "duration": 4,
    "start_time": "2024-08-29T14:34:30.461Z"
   },
   {
    "duration": 219,
    "start_time": "2024-08-29T14:34:30.467Z"
   },
   {
    "duration": 125,
    "start_time": "2024-08-29T14:34:30.689Z"
   },
   {
    "duration": 6,
    "start_time": "2024-08-29T14:34:30.816Z"
   },
   {
    "duration": 42,
    "start_time": "2024-08-29T14:34:30.824Z"
   },
   {
    "duration": 9,
    "start_time": "2024-08-29T14:34:30.868Z"
   },
   {
    "duration": 17,
    "start_time": "2024-08-29T14:34:30.879Z"
   },
   {
    "duration": 14,
    "start_time": "2024-08-29T14:34:30.898Z"
   },
   {
    "duration": 38,
    "start_time": "2024-08-29T14:34:30.913Z"
   },
   {
    "duration": 89,
    "start_time": "2024-08-29T14:34:30.953Z"
   },
   {
    "duration": 13,
    "start_time": "2024-08-29T14:34:45.068Z"
   },
   {
    "duration": 11,
    "start_time": "2024-08-29T14:52:01.713Z"
   },
   {
    "duration": 12,
    "start_time": "2024-08-29T14:52:07.395Z"
   },
   {
    "duration": 1062,
    "start_time": "2024-08-29T15:51:23.027Z"
   },
   {
    "duration": 83,
    "start_time": "2024-08-29T15:51:24.091Z"
   },
   {
    "duration": 9,
    "start_time": "2024-08-29T15:51:24.175Z"
   },
   {
    "duration": 9,
    "start_time": "2024-08-29T15:51:24.186Z"
   },
   {
    "duration": 5,
    "start_time": "2024-08-29T15:51:24.196Z"
   },
   {
    "duration": 4,
    "start_time": "2024-08-29T15:51:24.202Z"
   },
   {
    "duration": 11,
    "start_time": "2024-08-29T15:51:24.208Z"
   },
   {
    "duration": 12,
    "start_time": "2024-08-29T15:51:24.221Z"
   },
   {
    "duration": 7,
    "start_time": "2024-08-29T15:51:24.235Z"
   },
   {
    "duration": 12,
    "start_time": "2024-08-29T15:51:24.245Z"
   },
   {
    "duration": 6,
    "start_time": "2024-08-29T15:51:24.259Z"
   },
   {
    "duration": 9,
    "start_time": "2024-08-29T15:51:24.290Z"
   },
   {
    "duration": 6,
    "start_time": "2024-08-29T15:51:24.300Z"
   },
   {
    "duration": 13,
    "start_time": "2024-08-29T15:51:24.307Z"
   },
   {
    "duration": 12,
    "start_time": "2024-08-29T15:51:24.321Z"
   },
   {
    "duration": 11,
    "start_time": "2024-08-29T15:51:24.334Z"
   },
   {
    "duration": 8,
    "start_time": "2024-08-29T15:51:24.346Z"
   },
   {
    "duration": 175,
    "start_time": "2024-08-29T15:51:24.355Z"
   },
   {
    "duration": 127,
    "start_time": "2024-08-29T15:51:24.532Z"
   },
   {
    "duration": 10,
    "start_time": "2024-08-29T15:51:24.661Z"
   },
   {
    "duration": 303,
    "start_time": "2024-08-29T15:51:24.672Z"
   },
   {
    "duration": 209,
    "start_time": "2024-08-29T15:51:24.977Z"
   },
   {
    "duration": 308,
    "start_time": "2024-08-29T15:51:25.188Z"
   },
   {
    "duration": 9,
    "start_time": "2024-08-29T15:51:25.497Z"
   },
   {
    "duration": 7,
    "start_time": "2024-08-29T15:51:25.507Z"
   },
   {
    "duration": 233,
    "start_time": "2024-08-29T15:51:25.515Z"
   },
   {
    "duration": 288,
    "start_time": "2024-08-29T15:51:25.750Z"
   },
   {
    "duration": 9,
    "start_time": "2024-08-29T15:51:26.041Z"
   },
   {
    "duration": 126,
    "start_time": "2024-08-29T15:51:26.051Z"
   },
   {
    "duration": 159,
    "start_time": "2024-08-29T15:51:26.178Z"
   },
   {
    "duration": 4,
    "start_time": "2024-08-29T15:51:26.339Z"
   },
   {
    "duration": 223,
    "start_time": "2024-08-29T15:51:26.345Z"
   },
   {
    "duration": 173,
    "start_time": "2024-08-29T15:51:26.569Z"
   },
   {
    "duration": 4,
    "start_time": "2024-08-29T15:51:26.743Z"
   },
   {
    "duration": 210,
    "start_time": "2024-08-29T15:51:26.749Z"
   },
   {
    "duration": 118,
    "start_time": "2024-08-29T15:51:26.960Z"
   },
   {
    "duration": 11,
    "start_time": "2024-08-29T15:51:27.080Z"
   },
   {
    "duration": 33,
    "start_time": "2024-08-29T15:51:27.093Z"
   },
   {
    "duration": 25,
    "start_time": "2024-08-29T15:51:27.127Z"
   },
   {
    "duration": 10,
    "start_time": "2024-08-29T15:51:27.154Z"
   },
   {
    "duration": 6,
    "start_time": "2024-08-29T15:51:27.166Z"
   },
   {
    "duration": 28,
    "start_time": "2024-08-29T15:51:27.174Z"
   },
   {
    "duration": 13,
    "start_time": "2024-08-29T15:51:27.203Z"
   },
   {
    "duration": 1369,
    "start_time": "2024-08-29T16:08:29.108Z"
   },
   {
    "duration": 267,
    "start_time": "2024-08-29T16:08:30.480Z"
   },
   {
    "duration": 12,
    "start_time": "2024-08-29T16:08:30.748Z"
   },
   {
    "duration": 31,
    "start_time": "2024-08-29T16:08:30.763Z"
   },
   {
    "duration": 14,
    "start_time": "2024-08-29T16:08:30.796Z"
   },
   {
    "duration": 7,
    "start_time": "2024-08-29T16:08:30.811Z"
   },
   {
    "duration": 40,
    "start_time": "2024-08-29T16:08:30.820Z"
   },
   {
    "duration": 12,
    "start_time": "2024-08-29T16:08:30.862Z"
   },
   {
    "duration": 6,
    "start_time": "2024-08-29T16:08:30.876Z"
   },
   {
    "duration": 14,
    "start_time": "2024-08-29T16:08:30.886Z"
   },
   {
    "duration": 16,
    "start_time": "2024-08-29T16:08:30.901Z"
   },
   {
    "duration": 21,
    "start_time": "2024-08-29T16:08:30.919Z"
   },
   {
    "duration": 17,
    "start_time": "2024-08-29T16:08:30.942Z"
   },
   {
    "duration": 20,
    "start_time": "2024-08-29T16:08:30.960Z"
   },
   {
    "duration": 12,
    "start_time": "2024-08-29T16:08:30.982Z"
   },
   {
    "duration": 29,
    "start_time": "2024-08-29T16:08:30.996Z"
   },
   {
    "duration": 10,
    "start_time": "2024-08-29T16:08:31.027Z"
   },
   {
    "duration": 169,
    "start_time": "2024-08-29T16:08:31.039Z"
   },
   {
    "duration": 135,
    "start_time": "2024-08-29T16:08:31.210Z"
   },
   {
    "duration": 15,
    "start_time": "2024-08-29T16:08:31.347Z"
   },
   {
    "duration": 371,
    "start_time": "2024-08-29T16:08:31.363Z"
   },
   {
    "duration": 244,
    "start_time": "2024-08-29T16:08:31.736Z"
   },
   {
    "duration": 405,
    "start_time": "2024-08-29T16:08:31.982Z"
   },
   {
    "duration": 17,
    "start_time": "2024-08-29T16:08:32.388Z"
   },
   {
    "duration": 13,
    "start_time": "2024-08-29T16:08:32.406Z"
   },
   {
    "duration": 260,
    "start_time": "2024-08-29T16:08:32.420Z"
   },
   {
    "duration": 345,
    "start_time": "2024-08-29T16:08:32.682Z"
   },
   {
    "duration": 12,
    "start_time": "2024-08-29T16:08:33.030Z"
   },
   {
    "duration": 137,
    "start_time": "2024-08-29T16:08:33.043Z"
   },
   {
    "duration": 180,
    "start_time": "2024-08-29T16:08:33.182Z"
   },
   {
    "duration": 4,
    "start_time": "2024-08-29T16:08:33.363Z"
   },
   {
    "duration": 248,
    "start_time": "2024-08-29T16:08:33.368Z"
   },
   {
    "duration": 195,
    "start_time": "2024-08-29T16:08:33.618Z"
   },
   {
    "duration": 5,
    "start_time": "2024-08-29T16:08:33.815Z"
   },
   {
    "duration": 253,
    "start_time": "2024-08-29T16:08:33.821Z"
   },
   {
    "duration": 129,
    "start_time": "2024-08-29T16:08:34.076Z"
   },
   {
    "duration": 6,
    "start_time": "2024-08-29T16:08:34.207Z"
   },
   {
    "duration": 30,
    "start_time": "2024-08-29T16:08:34.214Z"
   },
   {
    "duration": 10,
    "start_time": "2024-08-29T16:08:34.245Z"
   },
   {
    "duration": 11,
    "start_time": "2024-08-29T16:08:34.256Z"
   },
   {
    "duration": 33,
    "start_time": "2024-08-29T16:08:34.269Z"
   },
   {
    "duration": 32,
    "start_time": "2024-08-29T16:08:34.304Z"
   },
   {
    "duration": 13,
    "start_time": "2024-08-29T16:08:34.339Z"
   },
   {
    "duration": 64,
    "start_time": "2024-08-30T16:35:51.540Z"
   },
   {
    "duration": 1498,
    "start_time": "2024-08-30T16:35:55.925Z"
   },
   {
    "duration": 227,
    "start_time": "2024-08-30T16:35:57.425Z"
   },
   {
    "duration": 12,
    "start_time": "2024-08-30T16:35:57.654Z"
   },
   {
    "duration": 25,
    "start_time": "2024-08-30T16:35:57.668Z"
   },
   {
    "duration": 8,
    "start_time": "2024-08-30T16:35:57.695Z"
   },
   {
    "duration": 3,
    "start_time": "2024-08-30T16:35:57.705Z"
   },
   {
    "duration": 13,
    "start_time": "2024-08-30T16:35:57.710Z"
   },
   {
    "duration": 14,
    "start_time": "2024-08-30T16:35:57.724Z"
   },
   {
    "duration": 6,
    "start_time": "2024-08-30T16:35:57.739Z"
   },
   {
    "duration": 22,
    "start_time": "2024-08-30T16:35:57.768Z"
   },
   {
    "duration": 9,
    "start_time": "2024-08-30T16:35:57.793Z"
   },
   {
    "duration": 13,
    "start_time": "2024-08-30T16:35:57.804Z"
   },
   {
    "duration": 21,
    "start_time": "2024-08-30T16:35:57.819Z"
   },
   {
    "duration": 39,
    "start_time": "2024-08-30T16:35:57.842Z"
   },
   {
    "duration": 21,
    "start_time": "2024-08-30T16:35:57.883Z"
   },
   {
    "duration": 22,
    "start_time": "2024-08-30T16:35:57.906Z"
   },
   {
    "duration": 7,
    "start_time": "2024-08-30T16:35:59.473Z"
   },
   {
    "duration": 6,
    "start_time": "2024-08-30T16:36:02.966Z"
   },
   {
    "duration": 7,
    "start_time": "2024-08-30T16:36:17.064Z"
   },
   {
    "duration": 71,
    "start_time": "2024-08-30T16:36:26.832Z"
   },
   {
    "duration": 14,
    "start_time": "2024-08-30T17:17:41.548Z"
   },
   {
    "duration": 6,
    "start_time": "2024-08-30T17:17:51.322Z"
   },
   {
    "duration": 9,
    "start_time": "2024-08-30T17:18:03.774Z"
   },
   {
    "duration": 11,
    "start_time": "2024-08-30T17:22:55.765Z"
   },
   {
    "duration": 8,
    "start_time": "2024-08-30T17:22:59.672Z"
   },
   {
    "duration": 14,
    "start_time": "2024-08-30T17:30:30.286Z"
   },
   {
    "duration": 5,
    "start_time": "2024-08-30T17:31:04.642Z"
   },
   {
    "duration": 4,
    "start_time": "2024-08-30T17:31:25.012Z"
   },
   {
    "duration": 91,
    "start_time": "2024-08-30T17:31:25.017Z"
   },
   {
    "duration": 9,
    "start_time": "2024-08-30T17:31:25.109Z"
   },
   {
    "duration": 11,
    "start_time": "2024-08-30T17:31:25.119Z"
   },
   {
    "duration": 5,
    "start_time": "2024-08-30T17:31:25.132Z"
   },
   {
    "duration": 4,
    "start_time": "2024-08-30T17:31:25.139Z"
   },
   {
    "duration": 13,
    "start_time": "2024-08-30T17:31:25.145Z"
   },
   {
    "duration": 12,
    "start_time": "2024-08-30T17:31:25.159Z"
   },
   {
    "duration": 7,
    "start_time": "2024-08-30T17:31:25.173Z"
   },
   {
    "duration": 15,
    "start_time": "2024-08-30T17:31:25.181Z"
   },
   {
    "duration": 8,
    "start_time": "2024-08-30T17:31:25.198Z"
   },
   {
    "duration": 22,
    "start_time": "2024-08-30T17:31:25.207Z"
   },
   {
    "duration": 11,
    "start_time": "2024-08-30T17:31:25.230Z"
   },
   {
    "duration": 30,
    "start_time": "2024-08-30T17:31:25.243Z"
   },
   {
    "duration": 17,
    "start_time": "2024-08-30T17:31:25.275Z"
   },
   {
    "duration": 14,
    "start_time": "2024-08-30T17:31:25.294Z"
   },
   {
    "duration": 13,
    "start_time": "2024-08-30T17:31:25.309Z"
   },
   {
    "duration": 7,
    "start_time": "2024-08-30T17:31:25.324Z"
   },
   {
    "duration": 5,
    "start_time": "2024-08-30T17:31:29.189Z"
   },
   {
    "duration": 3,
    "start_time": "2024-08-30T17:43:54.550Z"
   },
   {
    "duration": 75,
    "start_time": "2024-08-30T17:43:54.555Z"
   },
   {
    "duration": 7,
    "start_time": "2024-08-30T17:43:54.632Z"
   },
   {
    "duration": 37,
    "start_time": "2024-08-30T17:43:54.640Z"
   },
   {
    "duration": 59,
    "start_time": "2024-08-30T17:43:54.681Z"
   },
   {
    "duration": 3,
    "start_time": "2024-08-30T17:43:54.742Z"
   },
   {
    "duration": 9,
    "start_time": "2024-08-30T17:43:54.747Z"
   },
   {
    "duration": 16,
    "start_time": "2024-08-30T17:43:54.757Z"
   },
   {
    "duration": 22,
    "start_time": "2024-08-30T17:43:54.775Z"
   },
   {
    "duration": 14,
    "start_time": "2024-08-30T17:43:54.798Z"
   },
   {
    "duration": 14,
    "start_time": "2024-08-30T17:43:54.815Z"
   },
   {
    "duration": 26,
    "start_time": "2024-08-30T17:43:54.830Z"
   },
   {
    "duration": 5,
    "start_time": "2024-08-30T17:43:54.859Z"
   },
   {
    "duration": 24,
    "start_time": "2024-08-30T17:43:54.866Z"
   },
   {
    "duration": 16,
    "start_time": "2024-08-30T17:43:54.892Z"
   },
   {
    "duration": 17,
    "start_time": "2024-08-30T17:43:54.909Z"
   },
   {
    "duration": 22,
    "start_time": "2024-08-30T17:43:54.927Z"
   },
   {
    "duration": 17,
    "start_time": "2024-08-30T17:43:54.951Z"
   },
   {
    "duration": 4,
    "start_time": "2024-08-30T17:43:54.970Z"
   },
   {
    "duration": 10,
    "start_time": "2024-08-30T17:43:54.976Z"
   },
   {
    "duration": 186,
    "start_time": "2024-08-30T17:43:54.990Z"
   },
   {
    "duration": 149,
    "start_time": "2024-08-30T17:43:55.177Z"
   },
   {
    "duration": 13,
    "start_time": "2024-08-30T17:43:55.327Z"
   },
   {
    "duration": 394,
    "start_time": "2024-08-30T17:43:55.341Z"
   },
   {
    "duration": 283,
    "start_time": "2024-08-30T17:43:55.737Z"
   },
   {
    "duration": 405,
    "start_time": "2024-08-30T17:43:56.022Z"
   },
   {
    "duration": 12,
    "start_time": "2024-08-30T17:43:56.429Z"
   },
   {
    "duration": 12,
    "start_time": "2024-08-30T17:43:56.442Z"
   },
   {
    "duration": 270,
    "start_time": "2024-08-30T17:43:56.464Z"
   },
   {
    "duration": 403,
    "start_time": "2024-08-30T17:43:56.735Z"
   },
   {
    "duration": 12,
    "start_time": "2024-08-30T17:43:57.139Z"
   },
   {
    "duration": 142,
    "start_time": "2024-08-30T17:43:57.153Z"
   },
   {
    "duration": 207,
    "start_time": "2024-08-30T17:43:57.296Z"
   },
   {
    "duration": 5,
    "start_time": "2024-08-30T17:43:57.505Z"
   },
   {
    "duration": 246,
    "start_time": "2024-08-30T17:44:20.489Z"
   },
   {
    "duration": 203,
    "start_time": "2024-08-30T17:44:37.010Z"
   },
   {
    "duration": 4,
    "start_time": "2024-08-30T17:44:48.332Z"
   },
   {
    "duration": 11,
    "start_time": "2024-08-30T17:50:43.699Z"
   },
   {
    "duration": 3,
    "start_time": "2024-08-30T17:50:51.514Z"
   },
   {
    "duration": 119,
    "start_time": "2024-08-30T17:50:51.519Z"
   },
   {
    "duration": 8,
    "start_time": "2024-08-30T17:50:51.640Z"
   },
   {
    "duration": 27,
    "start_time": "2024-08-30T17:50:51.649Z"
   },
   {
    "duration": 12,
    "start_time": "2024-08-30T17:50:51.679Z"
   },
   {
    "duration": 7,
    "start_time": "2024-08-30T17:50:51.693Z"
   },
   {
    "duration": 10,
    "start_time": "2024-08-30T17:50:51.701Z"
   },
   {
    "duration": 31,
    "start_time": "2024-08-30T17:50:51.713Z"
   },
   {
    "duration": 12,
    "start_time": "2024-08-30T17:50:51.746Z"
   },
   {
    "duration": 17,
    "start_time": "2024-08-30T17:50:51.760Z"
   },
   {
    "duration": 19,
    "start_time": "2024-08-30T17:50:51.780Z"
   },
   {
    "duration": 25,
    "start_time": "2024-08-30T17:50:51.801Z"
   },
   {
    "duration": 15,
    "start_time": "2024-08-30T17:50:51.827Z"
   },
   {
    "duration": 29,
    "start_time": "2024-08-30T17:50:51.844Z"
   },
   {
    "duration": 15,
    "start_time": "2024-08-30T17:50:51.875Z"
   },
   {
    "duration": 35,
    "start_time": "2024-08-30T17:50:51.892Z"
   },
   {
    "duration": 31,
    "start_time": "2024-08-30T17:50:51.929Z"
   },
   {
    "duration": 23,
    "start_time": "2024-08-30T17:50:51.962Z"
   },
   {
    "duration": 16,
    "start_time": "2024-08-30T17:50:51.986Z"
   },
   {
    "duration": 10,
    "start_time": "2024-08-30T17:50:52.003Z"
   },
   {
    "duration": 218,
    "start_time": "2024-08-30T17:50:52.015Z"
   },
   {
    "duration": 133,
    "start_time": "2024-08-30T17:50:52.234Z"
   },
   {
    "duration": 24,
    "start_time": "2024-08-30T17:50:52.368Z"
   },
   {
    "duration": 287,
    "start_time": "2024-08-30T17:50:52.394Z"
   },
   {
    "duration": 293,
    "start_time": "2024-08-30T17:50:52.684Z"
   },
   {
    "duration": 347,
    "start_time": "2024-08-30T17:50:52.980Z"
   },
   {
    "duration": 10,
    "start_time": "2024-08-30T17:50:53.329Z"
   },
   {
    "duration": 4,
    "start_time": "2024-08-30T17:50:53.341Z"
   },
   {
    "duration": 284,
    "start_time": "2024-08-30T17:50:53.348Z"
   },
   {
    "duration": 391,
    "start_time": "2024-08-30T17:50:53.634Z"
   },
   {
    "duration": 11,
    "start_time": "2024-08-30T17:50:54.027Z"
   },
   {
    "duration": 177,
    "start_time": "2024-08-30T17:50:54.040Z"
   },
   {
    "duration": 195,
    "start_time": "2024-08-30T17:50:54.218Z"
   },
   {
    "duration": 4,
    "start_time": "2024-08-30T17:50:54.415Z"
   },
   {
    "duration": 184,
    "start_time": "2024-08-30T17:50:54.421Z"
   },
   {
    "duration": 315,
    "start_time": "2024-08-30T17:50:54.606Z"
   },
   {
    "duration": 4,
    "start_time": "2024-08-30T17:50:54.922Z"
   },
   {
    "duration": 246,
    "start_time": "2024-08-30T17:50:54.928Z"
   },
   {
    "duration": 156,
    "start_time": "2024-08-30T17:50:55.176Z"
   },
   {
    "duration": 6,
    "start_time": "2024-08-30T17:50:55.334Z"
   },
   {
    "duration": 27,
    "start_time": "2024-08-30T17:50:56.703Z"
   },
   {
    "duration": 40,
    "start_time": "2024-08-30T17:51:22.559Z"
   },
   {
    "duration": 3,
    "start_time": "2024-08-30T17:52:40.459Z"
   },
   {
    "duration": 95,
    "start_time": "2024-08-30T17:52:40.464Z"
   },
   {
    "duration": 9,
    "start_time": "2024-08-30T17:52:40.561Z"
   },
   {
    "duration": 16,
    "start_time": "2024-08-30T17:52:40.572Z"
   },
   {
    "duration": 14,
    "start_time": "2024-08-30T17:52:40.591Z"
   },
   {
    "duration": 6,
    "start_time": "2024-08-30T17:52:40.607Z"
   },
   {
    "duration": 141,
    "start_time": "2024-08-30T17:52:40.614Z"
   },
   {
    "duration": 34,
    "start_time": "2024-08-30T17:52:40.758Z"
   },
   {
    "duration": 6,
    "start_time": "2024-08-30T17:52:40.795Z"
   },
   {
    "duration": 15,
    "start_time": "2024-08-30T17:52:40.802Z"
   },
   {
    "duration": 7,
    "start_time": "2024-08-30T17:52:40.819Z"
   },
   {
    "duration": 13,
    "start_time": "2024-08-30T17:52:40.828Z"
   },
   {
    "duration": 24,
    "start_time": "2024-08-30T17:52:40.843Z"
   },
   {
    "duration": 22,
    "start_time": "2024-08-30T17:52:40.869Z"
   },
   {
    "duration": 13,
    "start_time": "2024-08-30T17:52:40.893Z"
   },
   {
    "duration": 20,
    "start_time": "2024-08-30T17:52:40.907Z"
   },
   {
    "duration": 15,
    "start_time": "2024-08-30T17:52:40.928Z"
   },
   {
    "duration": 29,
    "start_time": "2024-08-30T17:52:40.946Z"
   },
   {
    "duration": 8,
    "start_time": "2024-08-30T17:52:40.977Z"
   },
   {
    "duration": 6,
    "start_time": "2024-08-30T17:52:40.987Z"
   },
   {
    "duration": 190,
    "start_time": "2024-08-30T17:52:40.994Z"
   },
   {
    "duration": 143,
    "start_time": "2024-08-30T17:52:41.187Z"
   },
   {
    "duration": 17,
    "start_time": "2024-08-30T17:52:41.332Z"
   },
   {
    "duration": 288,
    "start_time": "2024-08-30T17:52:41.351Z"
   },
   {
    "duration": 282,
    "start_time": "2024-08-30T17:52:41.641Z"
   },
   {
    "duration": 406,
    "start_time": "2024-08-30T17:52:41.925Z"
   },
   {
    "duration": 11,
    "start_time": "2024-08-30T17:52:42.333Z"
   },
   {
    "duration": 6,
    "start_time": "2024-08-30T17:52:42.346Z"
   },
   {
    "duration": 284,
    "start_time": "2024-08-30T17:52:42.364Z"
   },
   {
    "duration": 379,
    "start_time": "2024-08-30T17:52:42.650Z"
   },
   {
    "duration": 11,
    "start_time": "2024-08-30T17:52:43.031Z"
   },
   {
    "duration": 161,
    "start_time": "2024-08-30T17:52:43.044Z"
   },
   {
    "duration": 193,
    "start_time": "2024-08-30T17:52:43.207Z"
   },
   {
    "duration": 5,
    "start_time": "2024-08-30T17:52:43.402Z"
   },
   {
    "duration": 171,
    "start_time": "2024-08-30T17:52:43.409Z"
   },
   {
    "duration": 220,
    "start_time": "2024-08-30T17:52:43.582Z"
   },
   {
    "duration": 5,
    "start_time": "2024-08-30T17:52:43.806Z"
   },
   {
    "duration": 392,
    "start_time": "2024-08-30T17:52:43.814Z"
   },
   {
    "duration": 176,
    "start_time": "2024-08-30T17:52:44.207Z"
   },
   {
    "duration": 8,
    "start_time": "2024-08-30T17:52:44.385Z"
   },
   {
    "duration": 41,
    "start_time": "2024-08-30T17:52:44.394Z"
   },
   {
    "duration": 11,
    "start_time": "2024-08-30T17:52:44.436Z"
   },
   {
    "duration": 11,
    "start_time": "2024-08-30T17:58:30.101Z"
   },
   {
    "duration": 14,
    "start_time": "2024-08-30T17:58:35.880Z"
   },
   {
    "duration": 9,
    "start_time": "2024-08-30T17:58:51.554Z"
   },
   {
    "duration": 5,
    "start_time": "2024-08-30T17:58:56.383Z"
   },
   {
    "duration": 81,
    "start_time": "2024-08-30T17:58:56.390Z"
   },
   {
    "duration": 16,
    "start_time": "2024-08-30T17:58:56.474Z"
   },
   {
    "duration": 13,
    "start_time": "2024-08-30T17:58:56.491Z"
   },
   {
    "duration": 12,
    "start_time": "2024-08-30T17:58:56.506Z"
   },
   {
    "duration": 6,
    "start_time": "2024-08-30T17:58:56.519Z"
   },
   {
    "duration": 8,
    "start_time": "2024-08-30T17:58:56.527Z"
   },
   {
    "duration": 30,
    "start_time": "2024-08-30T17:58:56.536Z"
   },
   {
    "duration": 8,
    "start_time": "2024-08-30T17:58:56.568Z"
   },
   {
    "duration": 15,
    "start_time": "2024-08-30T17:58:56.578Z"
   },
   {
    "duration": 6,
    "start_time": "2024-08-30T17:58:56.596Z"
   },
   {
    "duration": 13,
    "start_time": "2024-08-30T17:58:56.604Z"
   },
   {
    "duration": 11,
    "start_time": "2024-08-30T17:58:56.619Z"
   },
   {
    "duration": 36,
    "start_time": "2024-08-30T17:58:56.631Z"
   },
   {
    "duration": 117,
    "start_time": "2024-08-30T17:58:56.669Z"
   },
   {
    "duration": 23,
    "start_time": "2024-08-30T17:58:56.788Z"
   },
   {
    "duration": 6,
    "start_time": "2024-08-30T17:58:56.813Z"
   },
   {
    "duration": 8,
    "start_time": "2024-08-30T17:58:56.821Z"
   },
   {
    "duration": 5,
    "start_time": "2024-08-30T17:58:56.831Z"
   },
   {
    "duration": 6,
    "start_time": "2024-08-30T17:58:56.837Z"
   },
   {
    "duration": 182,
    "start_time": "2024-08-30T17:58:56.844Z"
   },
   {
    "duration": 138,
    "start_time": "2024-08-30T17:58:57.028Z"
   },
   {
    "duration": 15,
    "start_time": "2024-08-30T17:58:57.168Z"
   },
   {
    "duration": 313,
    "start_time": "2024-08-30T17:58:57.186Z"
   },
   {
    "duration": 246,
    "start_time": "2024-08-30T17:58:57.501Z"
   },
   {
    "duration": 375,
    "start_time": "2024-08-30T17:58:57.749Z"
   },
   {
    "duration": 11,
    "start_time": "2024-08-30T17:58:58.125Z"
   },
   {
    "duration": 6,
    "start_time": "2024-08-30T17:58:58.138Z"
   },
   {
    "duration": 253,
    "start_time": "2024-08-30T17:58:58.165Z"
   },
   {
    "duration": 331,
    "start_time": "2024-08-30T17:58:58.420Z"
   },
   {
    "duration": 25,
    "start_time": "2024-08-30T17:58:58.753Z"
   },
   {
    "duration": 166,
    "start_time": "2024-08-30T17:58:58.781Z"
   },
   {
    "duration": 178,
    "start_time": "2024-08-30T17:58:58.949Z"
   },
   {
    "duration": 4,
    "start_time": "2024-08-30T17:58:59.128Z"
   },
   {
    "duration": 184,
    "start_time": "2024-08-30T17:58:59.134Z"
   },
   {
    "duration": 218,
    "start_time": "2024-08-30T17:58:59.320Z"
   },
   {
    "duration": 5,
    "start_time": "2024-08-30T17:58:59.539Z"
   },
   {
    "duration": 347,
    "start_time": "2024-08-30T17:58:59.545Z"
   },
   {
    "duration": 155,
    "start_time": "2024-08-30T17:58:59.895Z"
   },
   {
    "duration": 7,
    "start_time": "2024-08-30T17:59:00.052Z"
   },
   {
    "duration": 43,
    "start_time": "2024-08-30T17:59:00.065Z"
   },
   {
    "duration": 13,
    "start_time": "2024-08-30T17:59:00.110Z"
   },
   {
    "duration": 20,
    "start_time": "2024-08-30T17:59:00.125Z"
   },
   {
    "duration": 9,
    "start_time": "2024-08-30T17:59:00.288Z"
   },
   {
    "duration": 24,
    "start_time": "2024-08-30T17:59:02.204Z"
   },
   {
    "duration": 12,
    "start_time": "2024-08-30T18:03:21.035Z"
   },
   {
    "duration": 15,
    "start_time": "2024-08-30T18:04:46.047Z"
   },
   {
    "duration": 1239,
    "start_time": "2024-08-30T18:05:17.241Z"
   },
   {
    "duration": 75,
    "start_time": "2024-08-30T18:05:18.482Z"
   },
   {
    "duration": 14,
    "start_time": "2024-08-30T18:05:18.558Z"
   },
   {
    "duration": 16,
    "start_time": "2024-08-30T18:05:18.576Z"
   },
   {
    "duration": 7,
    "start_time": "2024-08-30T18:05:18.593Z"
   },
   {
    "duration": 5,
    "start_time": "2024-08-30T18:05:18.602Z"
   },
   {
    "duration": 13,
    "start_time": "2024-08-30T18:05:18.608Z"
   },
   {
    "duration": 14,
    "start_time": "2024-08-30T18:05:18.623Z"
   },
   {
    "duration": 31,
    "start_time": "2024-08-30T18:05:18.638Z"
   },
   {
    "duration": 47,
    "start_time": "2024-08-30T18:05:18.672Z"
   },
   {
    "duration": 8,
    "start_time": "2024-08-30T18:05:18.720Z"
   },
   {
    "duration": 88,
    "start_time": "2024-08-30T18:05:18.730Z"
   },
   {
    "duration": 24,
    "start_time": "2024-08-30T18:05:18.820Z"
   },
   {
    "duration": 19,
    "start_time": "2024-08-30T18:05:18.846Z"
   },
   {
    "duration": 20,
    "start_time": "2024-08-30T18:05:18.867Z"
   },
   {
    "duration": 12,
    "start_time": "2024-08-30T18:05:18.889Z"
   },
   {
    "duration": 10,
    "start_time": "2024-08-30T18:05:18.902Z"
   },
   {
    "duration": 7,
    "start_time": "2024-08-30T18:05:18.914Z"
   },
   {
    "duration": 14,
    "start_time": "2024-08-30T18:05:18.923Z"
   },
   {
    "duration": 12,
    "start_time": "2024-08-30T18:05:18.939Z"
   },
   {
    "duration": 195,
    "start_time": "2024-08-30T18:05:18.952Z"
   },
   {
    "duration": 144,
    "start_time": "2024-08-30T18:05:19.149Z"
   },
   {
    "duration": 12,
    "start_time": "2024-08-30T18:05:19.295Z"
   },
   {
    "duration": 388,
    "start_time": "2024-08-30T18:05:19.309Z"
   },
   {
    "duration": 272,
    "start_time": "2024-08-30T18:05:19.698Z"
   },
   {
    "duration": 349,
    "start_time": "2024-08-30T18:05:19.972Z"
   },
   {
    "duration": 11,
    "start_time": "2024-08-30T18:05:20.323Z"
   },
   {
    "duration": 54,
    "start_time": "2024-08-30T18:05:20.338Z"
   },
   {
    "duration": 257,
    "start_time": "2024-08-30T18:05:20.394Z"
   },
   {
    "duration": 352,
    "start_time": "2024-08-30T18:05:20.653Z"
   },
   {
    "duration": 11,
    "start_time": "2024-08-30T18:05:21.006Z"
   },
   {
    "duration": 140,
    "start_time": "2024-08-30T18:05:21.018Z"
   },
   {
    "duration": 176,
    "start_time": "2024-08-30T18:05:21.164Z"
   },
   {
    "duration": 4,
    "start_time": "2024-08-30T18:05:21.342Z"
   },
   {
    "duration": 244,
    "start_time": "2024-08-30T18:05:21.348Z"
   },
   {
    "duration": 209,
    "start_time": "2024-08-30T18:05:21.594Z"
   },
   {
    "duration": 5,
    "start_time": "2024-08-30T18:05:21.805Z"
   },
   {
    "duration": 284,
    "start_time": "2024-08-30T18:05:21.812Z"
   },
   {
    "duration": 154,
    "start_time": "2024-08-30T18:05:22.098Z"
   },
   {
    "duration": 14,
    "start_time": "2024-08-30T18:05:22.253Z"
   },
   {
    "duration": 26,
    "start_time": "2024-08-30T18:05:22.268Z"
   },
   {
    "duration": 10,
    "start_time": "2024-08-30T18:05:22.296Z"
   },
   {
    "duration": 11,
    "start_time": "2024-08-30T18:05:22.307Z"
   },
   {
    "duration": 7,
    "start_time": "2024-08-30T18:05:22.320Z"
   },
   {
    "duration": 71,
    "start_time": "2024-08-30T18:05:22.328Z"
   },
   {
    "duration": 15,
    "start_time": "2024-08-30T18:05:22.401Z"
   },
   {
    "duration": 1239,
    "start_time": "2024-08-30T18:06:47.445Z"
   },
   {
    "duration": 74,
    "start_time": "2024-08-30T18:06:48.686Z"
   },
   {
    "duration": 16,
    "start_time": "2024-08-30T18:06:48.761Z"
   },
   {
    "duration": 48,
    "start_time": "2024-08-30T18:06:48.779Z"
   },
   {
    "duration": 7,
    "start_time": "2024-08-30T18:06:48.829Z"
   },
   {
    "duration": 3,
    "start_time": "2024-08-30T18:06:48.838Z"
   },
   {
    "duration": 39,
    "start_time": "2024-08-30T18:06:48.843Z"
   },
   {
    "duration": 27,
    "start_time": "2024-08-30T18:06:48.884Z"
   },
   {
    "duration": 20,
    "start_time": "2024-08-30T18:06:48.913Z"
   },
   {
    "duration": 13,
    "start_time": "2024-08-30T18:06:48.935Z"
   },
   {
    "duration": 17,
    "start_time": "2024-08-30T18:06:48.950Z"
   },
   {
    "duration": 18,
    "start_time": "2024-08-30T18:06:48.969Z"
   },
   {
    "duration": 10,
    "start_time": "2024-08-30T18:06:48.989Z"
   },
   {
    "duration": 30,
    "start_time": "2024-08-30T18:06:49.001Z"
   },
   {
    "duration": 41,
    "start_time": "2024-08-30T18:06:49.033Z"
   },
   {
    "duration": 13,
    "start_time": "2024-08-30T18:06:49.076Z"
   },
   {
    "duration": 16,
    "start_time": "2024-08-30T18:06:49.091Z"
   },
   {
    "duration": 8,
    "start_time": "2024-08-30T18:06:49.109Z"
   },
   {
    "duration": 5,
    "start_time": "2024-08-30T18:06:49.119Z"
   },
   {
    "duration": 6,
    "start_time": "2024-08-30T18:06:49.126Z"
   },
   {
    "duration": 194,
    "start_time": "2024-08-30T18:06:49.133Z"
   },
   {
    "duration": 143,
    "start_time": "2024-08-30T18:06:49.329Z"
   },
   {
    "duration": 19,
    "start_time": "2024-08-30T18:06:49.474Z"
   },
   {
    "duration": 397,
    "start_time": "2024-08-30T18:06:49.494Z"
   },
   {
    "duration": 260,
    "start_time": "2024-08-30T18:06:49.894Z"
   },
   {
    "duration": 368,
    "start_time": "2024-08-30T18:06:50.156Z"
   },
   {
    "duration": 11,
    "start_time": "2024-08-30T18:06:50.525Z"
   },
   {
    "duration": 12,
    "start_time": "2024-08-30T18:06:50.540Z"
   },
   {
    "duration": 303,
    "start_time": "2024-08-30T18:06:50.553Z"
   },
   {
    "duration": 360,
    "start_time": "2024-08-30T18:06:50.857Z"
   },
   {
    "duration": 13,
    "start_time": "2024-08-30T18:06:51.218Z"
   },
   {
    "duration": 155,
    "start_time": "2024-08-30T18:06:51.232Z"
   },
   {
    "duration": 194,
    "start_time": "2024-08-30T18:06:51.390Z"
   },
   {
    "duration": 5,
    "start_time": "2024-08-30T18:06:51.587Z"
   },
   {
    "duration": 338,
    "start_time": "2024-08-30T18:06:51.594Z"
   },
   {
    "duration": 255,
    "start_time": "2024-08-30T18:06:51.934Z"
   },
   {
    "duration": 5,
    "start_time": "2024-08-30T18:06:52.191Z"
   },
   {
    "duration": 243,
    "start_time": "2024-08-30T18:06:52.199Z"
   },
   {
    "duration": 169,
    "start_time": "2024-08-30T18:06:52.444Z"
   },
   {
    "duration": 7,
    "start_time": "2024-08-30T18:06:52.615Z"
   },
   {
    "duration": 32,
    "start_time": "2024-08-30T18:06:52.624Z"
   },
   {
    "duration": 14,
    "start_time": "2024-08-30T18:06:52.665Z"
   },
   {
    "duration": 150,
    "start_time": "2024-08-30T18:06:52.681Z"
   },
   {
    "duration": 9,
    "start_time": "2024-08-30T18:06:52.833Z"
   },
   {
    "duration": 31,
    "start_time": "2024-08-30T18:06:52.843Z"
   },
   {
    "duration": 17,
    "start_time": "2024-08-30T18:06:52.876Z"
   },
   {
    "duration": 1185,
    "start_time": "2024-08-31T07:06:27.677Z"
   },
   {
    "duration": 91,
    "start_time": "2024-08-31T07:06:28.864Z"
   },
   {
    "duration": 11,
    "start_time": "2024-08-31T07:06:28.957Z"
   },
   {
    "duration": 10,
    "start_time": "2024-08-31T07:06:28.970Z"
   },
   {
    "duration": 5,
    "start_time": "2024-08-31T07:06:28.982Z"
   },
   {
    "duration": 5,
    "start_time": "2024-08-31T07:06:28.988Z"
   },
   {
    "duration": 8,
    "start_time": "2024-08-31T07:06:28.994Z"
   },
   {
    "duration": 10,
    "start_time": "2024-08-31T07:06:29.003Z"
   },
   {
    "duration": 6,
    "start_time": "2024-08-31T07:06:29.014Z"
   },
   {
    "duration": 12,
    "start_time": "2024-08-31T07:06:29.022Z"
   },
   {
    "duration": 9,
    "start_time": "2024-08-31T07:06:29.036Z"
   },
   {
    "duration": 10,
    "start_time": "2024-08-31T07:06:29.047Z"
   },
   {
    "duration": 4,
    "start_time": "2024-08-31T07:06:29.059Z"
   },
   {
    "duration": 11,
    "start_time": "2024-08-31T07:06:29.099Z"
   },
   {
    "duration": 11,
    "start_time": "2024-08-31T07:06:29.112Z"
   },
   {
    "duration": 12,
    "start_time": "2024-08-31T07:06:29.124Z"
   },
   {
    "duration": 8,
    "start_time": "2024-08-31T07:06:29.138Z"
   },
   {
    "duration": 7,
    "start_time": "2024-08-31T07:06:29.148Z"
   },
   {
    "duration": 44,
    "start_time": "2024-08-31T07:06:29.157Z"
   },
   {
    "duration": 6,
    "start_time": "2024-08-31T07:06:29.203Z"
   },
   {
    "duration": 181,
    "start_time": "2024-08-31T07:06:29.211Z"
   },
   {
    "duration": 220,
    "start_time": "2024-08-31T07:06:29.398Z"
   },
   {
    "duration": 12,
    "start_time": "2024-08-31T07:06:29.620Z"
   },
   {
    "duration": 764,
    "start_time": "2024-08-31T07:06:29.634Z"
   },
   {
    "duration": 432,
    "start_time": "2024-08-31T07:06:30.399Z"
   },
   {
    "duration": 425,
    "start_time": "2024-08-31T07:06:30.833Z"
   },
   {
    "duration": 10,
    "start_time": "2024-08-31T07:06:31.260Z"
   },
   {
    "duration": 10,
    "start_time": "2024-08-31T07:06:31.272Z"
   },
   {
    "duration": 263,
    "start_time": "2024-08-31T07:06:31.283Z"
   },
   {
    "duration": 312,
    "start_time": "2024-08-31T07:06:31.548Z"
   },
   {
    "duration": 12,
    "start_time": "2024-08-31T07:06:31.861Z"
   },
   {
    "duration": 150,
    "start_time": "2024-08-31T07:06:31.874Z"
   },
   {
    "duration": 184,
    "start_time": "2024-08-31T07:06:32.026Z"
   },
   {
    "duration": 4,
    "start_time": "2024-08-31T07:06:32.212Z"
   },
   {
    "duration": 249,
    "start_time": "2024-08-31T07:06:32.218Z"
   },
   {
    "duration": 192,
    "start_time": "2024-08-31T07:06:32.469Z"
   },
   {
    "duration": 4,
    "start_time": "2024-08-31T07:06:32.663Z"
   },
   {
    "duration": 230,
    "start_time": "2024-08-31T07:06:32.668Z"
   },
   {
    "duration": 143,
    "start_time": "2024-08-31T07:06:32.900Z"
   },
   {
    "duration": 6,
    "start_time": "2024-08-31T07:06:33.045Z"
   },
   {
    "duration": 40,
    "start_time": "2024-08-31T07:06:33.054Z"
   },
   {
    "duration": 11,
    "start_time": "2024-08-31T07:06:33.095Z"
   },
   {
    "duration": 13,
    "start_time": "2024-08-31T07:06:33.108Z"
   },
   {
    "duration": 8,
    "start_time": "2024-08-31T07:06:33.123Z"
   },
   {
    "duration": 30,
    "start_time": "2024-08-31T07:06:33.133Z"
   },
   {
    "duration": 38,
    "start_time": "2024-08-31T07:06:33.165Z"
   }
  ],
  "kernelspec": {
   "display_name": "Python 3 (ipykernel)",
   "language": "python",
   "name": "python3"
  },
  "language_info": {
   "codemirror_mode": {
    "name": "ipython",
    "version": 3
   },
   "file_extension": ".py",
   "mimetype": "text/x-python",
   "name": "python",
   "nbconvert_exporter": "python",
   "pygments_lexer": "ipython3",
   "version": "3.11.7"
  },
  "toc": {
   "base_numbering": 1,
   "nav_menu": {},
   "number_sections": true,
   "sideBar": true,
   "skip_h1_title": true,
   "title_cell": "Table of Contents",
   "title_sidebar": "Contents",
   "toc_cell": false,
   "toc_position": {
    "height": "calc(100% - 180px)",
    "left": "10px",
    "top": "150px",
    "width": "328.4375px"
   },
   "toc_section_display": true,
   "toc_window_display": false
  }
 },
 "nbformat": 4,
 "nbformat_minor": 2
}
