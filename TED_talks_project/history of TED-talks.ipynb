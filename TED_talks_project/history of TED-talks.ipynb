{
 "cells": [
  {
   "cell_type": "markdown",
   "id": "a906ee39",
   "metadata": {},
   "source": [
    "# History of TED-talks"
   ]
  },
  {
   "cell_type": "markdown",
   "id": "8c5c15ee",
   "metadata": {},
   "source": [
    "## Project Description\n",
    "\n",
    "TED (an acronym for Technology, Education, Design) is a nonprofit organization that hosts widely known conferences where experts from various fields deliver talks on current social, cultural, and scientific topics.\n",
    "\n",
    "In this project, we explore the history of TED conferences using Tableau.\n",
    "\n",
    "## Data Description\n",
    "\n",
    "The files `tableau_project_data_1.csv`, `tableau_project_data_2.csv`, and `tableau_project_data_3.csv` contain data on TED talks. Each file has the following structure:  \n",
    "- `talk_id`: Unique identifier for each talk  \n",
    "- `url`: Link to the talk recording  \n",
    "- `title`: Title of the talk  \n",
    "- `description`: Brief description of the talk  \n",
    "- `film_date`: Date the talk was recorded  \n",
    "- `duration`: Duration of the talk in seconds  \n",
    "- `views`: Number of views  \n",
    "- `main_tag`: Main category of the talk  \n",
    "- `speaker_id`: Unique identifier of the speaker  \n",
    "- `laughter_count`: Number of times the audience laughed during the talk  \n",
    "- `applause_count`: Number of times the audience applauded during the talk  \n",
    "- `language`: Language of the talk  \n",
    "- `event_id`: Unique identifier of the conference  \n",
    "\n",
    "The file `tableau_project_event_dict.csv` provides a reference for the conferences. Table structure:  \n",
    "- `conf_id`: Unique identifier of the conference  \n",
    "- `event`: Name of the conference  \n",
    "- `country`: Country where the conference was held  \n",
    "\n",
    "The file `tableau_project_speakers_dict.csv` provides a reference for the speakers. Table structure:  \n",
    "- `author_id`: Unique identifier of the speaker  \n",
    "- `speaker_name`: Name of the speaker  \n",
    "- `speaker_occupation`: Speaker's professional field  \n",
    "- `speaker_description`: Description of the speaker's professional activity"
   ]
  },
  {
   "cell_type": "markdown",
   "id": "e2a2164b",
   "metadata": {},
   "source": [
    "## Link of presentation in Tableau\n",
    "\n",
    "https://public.tableau.com/views/HistoryofTED-talks/HistoryofTED-talksbyyears?:language=en-US&publish=yes&:sid=&:redirect=auth&:display_count=n&:origin=viz_share_link"
   ]
  },
  {
   "cell_type": "code",
   "execution_count": null,
   "id": "9bf54172",
   "metadata": {},
   "outputs": [],
   "source": []
  }
 ],
 "metadata": {
  "kernelspec": {
   "display_name": "Python 3 (ipykernel)",
   "language": "python",
   "name": "python3"
  },
  "language_info": {
   "codemirror_mode": {
    "name": "ipython",
    "version": 3
   },
   "file_extension": ".py",
   "mimetype": "text/x-python",
   "name": "python",
   "nbconvert_exporter": "python",
   "pygments_lexer": "ipython3",
   "version": "3.11.7"
  },
  "toc": {
   "base_numbering": 1,
   "nav_menu": {},
   "number_sections": true,
   "sideBar": true,
   "skip_h1_title": true,
   "title_cell": "Table of Contents",
   "title_sidebar": "Contents",
   "toc_cell": false,
   "toc_position": {},
   "toc_section_display": true,
   "toc_window_display": false
  }
 },
 "nbformat": 4,
 "nbformat_minor": 5
}
